{
 "cells": [
  {
   "cell_type": "markdown",
   "metadata": {},
   "source": [
    "# **Encapsulamento**\n",
    "---"
   ]
  },
  {
   "cell_type": "markdown",
   "metadata": {},
   "source": [
    "## Requisitos da Aula\n",
    "\n",
    "- Variáveis\n",
    "- Funções\n",
    "- Orientação a Objetos\n",
    "\n",
    "---"
   ]
  },
  {
   "cell_type": "markdown",
   "metadata": {},
   "source": [
    "Você já deve ter reparado na palavra `public` ao lado dos nomes dos atributos e dos métodos. Chamamos essa palavra reservada de **modificador de acesso**, e será o tema desta aula, mas primeiro, uma breve explicação sobre o que é **Encapsulamento**:\n",
    "\n",
    "**Encapsulamento é um dos princípios fundamentais da programação orientada a objetos (POO). Ele se refere à prática de esconder os detalhes internos de um objeto e expor apenas o que é necessário para o uso externo. Isso é feito através de modificadores de acesso.**"
   ]
  },
  {
   "cell_type": "markdown",
   "metadata": {},
   "source": [
    "### Modificadores de acesso\n",
    "\n",
    "No PHP, existem 3 modificadores de acesso. São eles:\n",
    "\n",
    "- `public`: quando os atributos e métodos são visíveis para todo o código-fonte do programa, incluíndo outras classes e outros arquivos.\n",
    "- `private`: quando os atributos e métodos são visíveis única e exclusivamente para sua própria classe, não sendo possível acessá-la diretamente de qualquer outra classe ou outro arquivo.\n",
    "- `protected`: quando os atributos e métodos são visíveis para sua própria classe e também para suas subclasses, mas são invisíveis para outras classes que não possuem relação de herança, nem são visíveis para o algoritmo principal, onde as classes são instanciadas."
   ]
  },
  {
   "cell_type": "markdown",
   "metadata": {},
   "source": [
    "Na primeira aula sobre Orientação a Objetos, definimos os atributos da classe como `public` para fins didáticos, pois facilitava a explicação sobre orientação a objetos, diminuíndo o tamanho do conteúdo a ser explicado e voltando o foco para o conceito de classes, atributos, métodos e objetos, que era o que interessava.\n",
    "\n",
    "Porém, pode-se afirmar agora que não é o correto, já que definir os atributos como `public` abre uma vulnerabilidade no código que pode ser explorada por cyber-criminosos, mas não se preocupe: iremos aprender a forma correta agora, a partir do programa que será utilizado como exemplo. Vamos começar criando justamente a nossa classe. Mais uma vez, vamos usar a classe **Pessoa** para o nosso exeplo:"
   ]
  },
  {
   "cell_type": "markdown",
   "metadata": {},
   "source": [
    "#### Programa 01\n",
    "\n",
    "##### Pessoa.class.php\n",
    "\n",
    "~~~php\n",
    "<?php\n",
    "    // classe Pessoa\n",
    "    class Pessoa {\n",
    "        // atributos\n",
    "        private $nome;\n",
    "        private $idade;\n",
    "        private $email;\n",
    "    }\n",
    "?>\n",
    "~~~"
   ]
  },
  {
   "cell_type": "markdown",
   "metadata": {},
   "source": [
    "Por hora, vamos trabalhar somente com os atributos da classe. Agora, vamos criar o formulário HTML:"
   ]
  },
  {
   "cell_type": "markdown",
   "metadata": {
    "vscode": {
     "languageId": "html"
    }
   },
   "source": [
    "##### index.html\n",
    "\n",
    "~~~html\n",
    "<!DOCTYPE html>\n",
    "<html lang=\"en\">\n",
    "    <head>\n",
    "        <meta charset=\"UTF-8\">\n",
    "        <meta name=\"viewport\" content=\"width=device-width, initial-scale=1.0\">\n",
    "        <title>Document</title>\n",
    "    </head>\n",
    "    <body>\n",
    "        <form action=\"result.php\" method=\"post\">\n",
    "            <input type=\"text\" name=\"nome\" placeholder=\"Informe seu nome\" />\n",
    "            <input type=\"number\" name=\"idade\" placeholder=\"Informe sua idade\" />\n",
    "            <input type=\"email\" name=\"email\" placeholder=\"Informe seu e-mail\" />\n",
    "            <button type=\"submit\">Enviar</button>\n",
    "        </form>\n",
    "    </body>\n",
    "</html>\n",
    "~~~"
   ]
  },
  {
   "cell_type": "markdown",
   "metadata": {},
   "source": [
    "Ótimo! Agora, vamos criar o nosso `result.php`:"
   ]
  },
  {
   "cell_type": "markdown",
   "metadata": {},
   "source": [
    "##### result.php\n",
    "\n",
    "~~~php\n",
    "<?php\n",
    "    // importa a classe\n",
    "    include \"Pessoa.class.php\";\n",
    "\n",
    "    // instancia a classe\n",
    "    $usuario = new Pessoa();\n",
    "\n",
    "    // repassa os valores dos atributos\n",
    "    $usuario->nome = $_POST[\"nome\"];\n",
    "    $usuario->idade = $_POST[\"idade\"];\n",
    "    $usuario->email = $_POST[\"email\"];\n",
    "\n",
    "    // saída de dados\n",
    "    echo '<b>Nome:</b> ' . $usuario->nome . '.<br />';\n",
    "    echo '<b>Idade:</b> ' . $usuario->idade . '.<br />';\n",
    "    echo '<b>E-mail:</b> ' . $usuario->email . '.<br />';\n",
    "?>\n",
    "~~~"
   ]
  },
  {
   "cell_type": "markdown",
   "metadata": {},
   "source": [
    "Excelente! Agora vamos executar o programa para ver o que acontece:"
   ]
  },
  {
   "cell_type": "markdown",
   "metadata": {},
   "source": [
    "<div style=\"display: flex; justify-content: center\">\n",
    "    <img src=\"../assets/15-1.png\" alt=\"Erro\" />\n",
    "</div>"
   ]
  },
  {
   "cell_type": "markdown",
   "metadata": {},
   "source": [
    "Observe que, ao executar o programa, ele retorna um erro na linha 9 do arquivo `result.php`. Isso acontece porque estamos tentando acessar diretamente o atributo do objeto. \"Ahh, mas isso funcionou antes!\", você diz. Verdade, mas funcionou porque até o momento, estávamos trabalhando com atributos **públicos**, o que não é o caso desse programa.\n",
    "\n",
    "Dessa forma, os atributos do objeto estão protegidos contra injeção de código. Por outro lado, isso gera outro problema: como atribuir os valores e mostrá-los na tela se não tenho mais acesso a elas? Essa pergunta pode ser respondida aprendendo sobre os **métodos de acesso** da classe."
   ]
  },
  {
   "cell_type": "markdown",
   "metadata": {},
   "source": [
    "### Métodos de acesso\n",
    "\n",
    "Os **Métodos de Acesso** são métodos que utilizamos tanto para atribuir os valores aos atributos quanto para acessar esses valores. São de dois tipos: **get**, para pegar o valor já atribuído ao atributo, e **set**, para atribuir um valor ao atributo.\n",
    "\n",
    "Vamos reescrever a classe **Pessoa**, desta vez com os métodos de acesso. Vamos começar primeiramente definindo os métodos *get* e *set* do atributo `$nome`:"
   ]
  },
  {
   "cell_type": "markdown",
   "metadata": {},
   "source": [
    "##### Pessoa.class.php\n",
    "\n",
    "~~~php\n",
    "<?php\n",
    "    // classe Pessoa\n",
    "    class Pessoa {\n",
    "        // atributos\n",
    "        private $nome;\n",
    "        private $idade;\n",
    "        private $email;\n",
    "\n",
    "        // métodos de acesso\n",
    "        public function setNome($nome) {\n",
    "            $this->nome = $nome;\n",
    "        }\n",
    "\n",
    "        public function getNome() {\n",
    "            return $this->nome;\n",
    "        }\n",
    "    }\n",
    "?>\n",
    "~~~"
   ]
  },
  {
   "cell_type": "markdown",
   "metadata": {},
   "source": [
    "Agora vamos às explicações: os dois métodos só vão funcionar se tiverem o modificador de acesso `public`. O `setNome` recebe o valor `$nome` e atribui ao atributo `private $nome`. Já o método `getNome` acessa o atributo `private $nome` para ser usado no programa principal.\n",
    "\n",
    "Antes de vermos como funciona no algoritmo principal, vamos completar a classe:"
   ]
  },
  {
   "cell_type": "markdown",
   "metadata": {},
   "source": [
    "##### Pessoa.class.php\n",
    "\n",
    "~~~php\n",
    "<?php\n",
    "    // classe Pessoa\n",
    "    class Pessoa {\n",
    "        // atributos\n",
    "        private $nome;\n",
    "        private $idade;\n",
    "        private $email;\n",
    "\n",
    "        // métodos de acesso\n",
    "        public function setNome($nome) {\n",
    "            $this->nome = $nome;\n",
    "        }\n",
    "\n",
    "        public function getNome() {\n",
    "            return $this->nome;\n",
    "        }\n",
    "        \n",
    "        public function setIdade($idade) {\n",
    "            $this->idade = $idade;\n",
    "        }\n",
    "\n",
    "        public function getIdade() {\n",
    "            return $this->idade;\n",
    "        }\n",
    "        \n",
    "        public function setEmail($email) {\n",
    "            $this->email = $email;\n",
    "        }\n",
    "\n",
    "        public function getEmail() {\n",
    "            return $this->email;\n",
    "        }\n",
    "    }\n",
    "?>\n",
    "~~~"
   ]
  },
  {
   "cell_type": "markdown",
   "metadata": {},
   "source": [
    "Pronto! Agora vamos para o `result.php` e alterar o código-fonte, aplicando corretamente os métodos de acesso:"
   ]
  },
  {
   "cell_type": "markdown",
   "metadata": {},
   "source": [
    "##### result.php\n",
    "\n",
    "~~~php\n",
    "<?php\n",
    "    // importa a classe\n",
    "    include \"Pessoa.class.php\";\n",
    "\n",
    "    // instancia a classe\n",
    "    $usuario = new Pessoa();\n",
    "\n",
    "    // repassa os valores dos atributos\n",
    "    $usuario->setNome($_POST[\"nome\"]);\n",
    "    $usuario->setIdade($_POST[\"idade\"]);\n",
    "    $usuario->setEmail($_POST[\"email\"]);\n",
    "\n",
    "    // saída de dados\n",
    "    echo '<b>Nome:</b> ' . $usuario->getNome() . '.<br />';\n",
    "    echo '<b>Idade:</b> ' . $usuario->getIdade() . '.<br />';\n",
    "    echo '<b>E-mail:</b> ' . $usuario->getEmail() . '.<br />';\n",
    "?>\n",
    "~~~"
   ]
  },
  {
   "cell_type": "markdown",
   "metadata": {},
   "source": [
    "Execute o programa, e veja que agora os dados serão enviados e mostrados normalmente, com a diferença de que agora eles estão relativamente protegidos. Segue alguns motivos do porquê usar o modificador de acesso `private` ao invés de `public` nos atributos da classe:\n",
    "\n",
    "1. **Proteção dos Dados:** Ao usar `private`, você impede que o código externo à classe modifique diretamente os atributos. Isso ajuda a proteger os dados de alterações inesperadas ou não autorizadas.\n",
    "2. **Encapsulamento:** O encapsulamento permite que você controle como os dados são acessados e modificados. Com métodos `public` (getters e setters), você pode adicionar lógica adicional para validação ou transformação dos dados antes de alterá-los.\n",
    "3. **Manutenção e Flexibilidade:** Se os atributos são `private`, você pode alterar a implementação interna da classe sem afetar o código externo que usa a classe. Isso facilita a manutenção e evolução do código.\n",
    "4. **Proteção Contra Modificações Indevidas:** como os atributos não podem ser modificados diretamente, isso garante que todas as alterações passem pelos métodos da classe.\n",
    "5. **Validação e Regras de Negócio:** além dos métodos de acesso, posso incluir outros métodos que podem incluir validações para garantir que as regras de negócio sejam respeitadas.\n",
    "\n",
    "Para finalizar, vamos terminar o nosso programa, desta vez com o método construtor, visto na aula anterior:"
   ]
  },
  {
   "cell_type": "markdown",
   "metadata": {},
   "source": [
    "##### Pessoa.class.php\n",
    "\n",
    "~~~php\n",
    "<?php\n",
    "    // classe Pessoa\n",
    "    class Pessoa {\n",
    "        // atributos\n",
    "        private $nome;\n",
    "        private $idade;\n",
    "        private $email;\n",
    "\n",
    "        // método construtor\n",
    "        public function __construct($nome, $idade, $email) {\n",
    "            $this->nome = $nome;\n",
    "            $this->idade = $idade;\n",
    "            $this->email = $email;\n",
    "        }\n",
    "\n",
    "        // métodos de acesso\n",
    "        public function setNome($nome) {\n",
    "            $this->nome = $nome;\n",
    "        }\n",
    "\n",
    "        public function getNome() {\n",
    "            return $this->nome;\n",
    "        }\n",
    "        \n",
    "        public function setIdade($idade) {\n",
    "            $this->idade = $idade;\n",
    "        }\n",
    "\n",
    "        public function getIdade() {\n",
    "            return $this->idade;\n",
    "        }\n",
    "        \n",
    "        public function setEmail($email) {\n",
    "            $this->email = $email;\n",
    "        }\n",
    "\n",
    "        public function getEmail() {\n",
    "            return $this->email;\n",
    "        }\n",
    "    }\n",
    "?>\n",
    "~~~"
   ]
  },
  {
   "cell_type": "markdown",
   "metadata": {},
   "source": [
    "##### result.php\n",
    "\n",
    "~~~php\n",
    "<?php\n",
    "    // importa a classe\n",
    "    include \"Pessoa.class.php\";\n",
    "\n",
    "    // instancia a classe\n",
    "    $usuario = new Pessoa(\"\", 0, \"\");\n",
    "\n",
    "    // repassa os valores dos atributos\n",
    "    $usuario->setNome($_POST[\"nome\"]);\n",
    "    $usuario->setIdade($_POST[\"idade\"]);\n",
    "    $usuario->setEmail($_POST[\"email\"]);\n",
    "\n",
    "    // saída de dados\n",
    "    echo '<b>Nome:</b> ' . $usuario->getNome() . '.<br />';\n",
    "    echo '<b>Idade:</b> ' . $usuario->getIdade() . '.<br />';\n",
    "    echo '<b>E-mail:</b> ' . $usuario->getEmail() . '.<br />';\n",
    "?>\n",
    "~~~"
   ]
  }
 ],
 "metadata": {
  "language_info": {
   "name": "python"
  }
 },
 "nbformat": 4,
 "nbformat_minor": 2
}
