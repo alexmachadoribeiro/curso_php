{
 "cells": [
  {
   "cell_type": "markdown",
   "metadata": {},
   "source": [
    "# **Aula Inaugural**\n",
    "---"
   ]
  },
  {
   "cell_type": "markdown",
   "metadata": {},
   "source": [
    "<div style=\"display: flex; justify-content: center\">\n",
    "    <img src=\"../assets/PHP-Elephant-Logo-PNG-Photo.png\" alt=\"Logo do PHP\" width=500px />\n",
    "</div>"
   ]
  },
  {
   "cell_type": "markdown",
   "metadata": {},
   "source": [
    "## Pré-requisitos da aula:\n",
    "\n",
    "- Ter se matriculado\n",
    "- Estar interessado no curso e no conteúdo\n",
    "- Conhecimentos sólidos de Lógica de Programação\n",
    "- Conhecimentos sólidos em Front-End\n",
    "- Ensino Médio (incompleto)\n",
    "- Digitação\n",
    "\n",
    "---\n",
    "\n",
    "## Dados do curso:\n",
    "---"
   ]
  },
  {
   "cell_type": "markdown",
   "metadata": {},
   "source": [
    "### Curso:\n",
    "\n",
    "**Nome do curso:** Aperfeiçoamento em PHP <br />\n",
    "**Duração do curso:** 40 horas <br />\n",
    "**Duração das aulas (diurno):** 4 horas <br />\n",
    "**Duração das aulas (noturno):** 3 horas <br />\n",
    "**Horas por semana (diurno):** 20 horas <br />\n",
    "**Horas por semana (noturno):** 15 horas <br />\n",
    "**Instrutor:** Alex Machado Ribeiro <br />\n",
    "**Unidade:** SENAI SIG/Taguatinga/Gama <br />\n",
    "\n",
    "#### Conteúdo do curso:\n",
    "\n",
    "- Introdução\n",
    "- Histórico\n",
    "- Arquitetura de Sistemas Web\n",
    "- Instalação de Servidor Web\n",
    "- Configuração de Servidor Web\n",
    "- Linguagem PHP\n",
    "- Histórico\n",
    "- Estrutura de Documento\n",
    "- Palavras Reservadas\n",
    "- Tipos Primitivos\n",
    "- Operadores\n",
    "- Controle de Fluxo\n",
    "- Funções e Métodos\n",
    "- Parâmetros\n",
    "- Bibliotecas\n",
    "- Ambiente de Desenvolvimento (IDE)\n",
    "- Configuração\n",
    "- Tipos de Aplicações\n",
    "- Classes de Elementos Gráficos\n",
    "- Execução e Depuração\n",
    "- Documentação de Software\n",
    "- Validação"
   ]
  },
  {
   "cell_type": "markdown",
   "metadata": {},
   "source": [
    "## Currículo do Instrutor:\n",
    "---"
   ]
  },
  {
   "cell_type": "markdown",
   "metadata": {},
   "source": [
    "**Nome:** Alex Machado Ribeiro <br />\n",
    "**Idade:** 39 anos <br />\n",
    "**Formação:** \n",
    "- Técnico em Informática pela ETB;\n",
    "- Bacharel em Sistemas de Informação pela Faculdade Anhanguera FACNET.\n",
    "\n",
    "**Experiência:**\n",
    "- **Profissional de TI:** 19 anos.\n",
    "- **Instrutor de TI:** 18 anos.\n",
    "- **Instrutor do SENAI:** 10 anos.\n",
    "- **Programador:** 10 anos.\n",
    "\n",
    "**Linguagens de programação:**\n",
    "- PHP\n",
    "- C/C++\n",
    "- C#\n",
    "- Dart\n",
    "- JavaScript\n",
    "- Java\n",
    "- Python"
   ]
  },
  {
   "cell_type": "markdown",
   "metadata": {},
   "source": [
    "## Plataformas utilizadas:\n",
    "---"
   ]
  },
  {
   "cell_type": "markdown",
   "metadata": {},
   "source": [
    "- Meu SENAI\n",
    "- Google Classroom\n",
    "- GitHub"
   ]
  },
  {
   "cell_type": "markdown",
   "metadata": {},
   "source": [
    "## Metodologia de avaliação:\n",
    "---"
   ]
  },
  {
   "cell_type": "markdown",
   "metadata": {},
   "source": [
    "**Presença:** 75% = 60 horas = 20 aulas <br />\n",
    "**Aproveitamento de nota:** 70% <br />\n",
    "**Avaliações:**\n",
    "- Assiduidade (presença nas aulas)\n",
    "- Pontualidade (entrada em sala de aula dentro do horário)\n",
    "- Participação (tirar dúvidas e responder às perguntas do professor quando solicitado)\n",
    "- Comportamento (manter a postura dentro de sala de aula)\n",
    "- Atividades (entregar corretamente as atividades dentro do prazo)\n",
    "- Projetos (entregar corretamente os projetos dentro do prazo)"
   ]
  }
 ],
 "metadata": {
  "kernelspec": {
   "display_name": ".venv",
   "language": "python",
   "name": "python3"
  },
  "language_info": {
   "name": "python",
   "version": "3.12.7"
  }
 },
 "nbformat": 4,
 "nbformat_minor": 2
}
