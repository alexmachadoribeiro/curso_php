{
 "cells": [
  {
   "cell_type": "markdown",
   "metadata": {},
   "source": [
    "# **Operadores**\n",
    "---\n",
    "\n",
    "## Pré-requisitos da aula\n",
    "\n",
    "- Rodando o primeiro Projeto Python\n",
    "- Sintaxe da Linguagem Python\n",
    "\n",
    "---"
   ]
  },
  {
   "cell_type": "markdown",
   "metadata": {},
   "source": [
    "Uma das partes mais importantes da programação, independente da linguagem , é aprender sobre os **operadores**. Como a Informática funciona como uma extensão da matemática, em programação, precisaremos realizar algumas operações matemáticas. Há diversos operadores para aprender, mas vamos começar do início. Nessa aula, iremos aprender os seguintes tipos de operadores: operadores aritméticos; operadores relacionais; operadores lógicos e/ou booleanos; operadores de incremento/decremento; e operadores de atribuição.\n",
    "\n",
    "\n",
    "## Operadores aritméticos\n",
    "---"
   ]
  },
  {
   "cell_type": "markdown",
   "metadata": {},
   "source": [
    "São usados nas operações matemáticas, como equações ou as quatro operações básicas da matemática, por exemplo.\n",
    "\n",
    "- `+`: soma.\n",
    "- `-`: subtração.\n",
    "- `*`: multiplicação.\n",
    "- `/`: divisão.\n",
    "- `%`: módulo. Utilizado para retornar o resto de uma divisão.\n",
    "- `**`: potênciação.\n",
    "\n",
    "### Exemplos:\n",
    "\n",
    "#### Soma"
   ]
  },
  {
   "cell_type": "markdown",
   "metadata": {},
   "source": [
    "~~~php\n",
    "<?php\n",
    "    echo 2+2;\n",
    "?>\n",
    "~~~"
   ]
  },
  {
   "cell_type": "markdown",
   "metadata": {},
   "source": [
    "#### Subtração"
   ]
  },
  {
   "cell_type": "markdown",
   "metadata": {},
   "source": [
    "~~~php\n",
    "<?php\n",
    "    echo 3-1;\n",
    "?>\n",
    "~~~"
   ]
  },
  {
   "cell_type": "markdown",
   "metadata": {},
   "source": [
    "#### Multiplicação"
   ]
  },
  {
   "cell_type": "markdown",
   "metadata": {},
   "source": [
    "~~~php\n",
    "<?php\n",
    "    echo 4*2;\n",
    "?>\n",
    "~~~"
   ]
  },
  {
   "cell_type": "markdown",
   "metadata": {},
   "source": [
    "#### Divisão"
   ]
  },
  {
   "cell_type": "markdown",
   "metadata": {},
   "source": [
    "~~~php\n",
    "<?php\n",
    "    echo 6-3;\n",
    "?>\n",
    "~~~"
   ]
  },
  {
   "cell_type": "markdown",
   "metadata": {},
   "source": [
    "**Obs:** o resultado de uma divisão **SEMPRE** será um ponto flutuante.\n",
    "\n",
    "#### Módulo"
   ]
  },
  {
   "cell_type": "markdown",
   "metadata": {},
   "source": [
    "~~~php\n",
    "<?php\n",
    "    echo 7%2;\n",
    "?>\n",
    "~~~"
   ]
  },
  {
   "cell_type": "markdown",
   "metadata": {},
   "source": [
    "**Obs:** o módulo de uma divisão **SEMPRE** será um número inteiro.\n",
    "\n",
    "#### Potência"
   ]
  },
  {
   "cell_type": "markdown",
   "metadata": {},
   "source": [
    "~~~php\n",
    "<?php\n",
    "    echo 4**2;\n",
    "?>\n",
    "~~~"
   ]
  },
  {
   "cell_type": "markdown",
   "metadata": {},
   "source": [
    "##### ou"
   ]
  },
  {
   "cell_type": "markdown",
   "metadata": {},
   "source": [
    "~~~php\n",
    "<?php\n",
    "    echo pow(4,2);\n",
    "?>\n",
    "~~~"
   ]
  },
  {
   "cell_type": "markdown",
   "metadata": {},
   "source": [
    "## Operadores relacionais\n",
    "---"
   ]
  },
  {
   "cell_type": "markdown",
   "metadata": {},
   "source": [
    "São usados para comparar valores.\n",
    "\n",
    "- `>`: maior que.\n",
    "- `<`: menor que.\n",
    "- `>=`: maior ou igual a.\n",
    "- `<=`: menor ou igual a.\n",
    "- `==`: igualdade (não confundir com `=`).\n",
    "- `!=`: diferente.\n",
    "\n",
    "### Exemplos\n",
    "\n",
    "#### Maior que"
   ]
  },
  {
   "cell_type": "markdown",
   "metadata": {},
   "source": [
    "~~~php\n",
    "<?php\n",
    "    echo 7>3;\n",
    "?>\n",
    "~~~"
   ]
  },
  {
   "cell_type": "markdown",
   "metadata": {},
   "source": [
    "#### Menor que"
   ]
  },
  {
   "cell_type": "markdown",
   "metadata": {},
   "source": [
    "~~~php\n",
    "<?php\n",
    "    echo 4<10;\n",
    "?>\n",
    "~~~"
   ]
  },
  {
   "cell_type": "markdown",
   "metadata": {},
   "source": [
    "#### Maior ou igual a"
   ]
  },
  {
   "cell_type": "markdown",
   "metadata": {},
   "source": [
    "~~~php\n",
    "<?php\n",
    "    echo 2>=2;\n",
    "?>\n",
    "~~~"
   ]
  },
  {
   "cell_type": "markdown",
   "metadata": {},
   "source": [
    "~~~php\n",
    "<?php\n",
    "    echo 10>=5;\n",
    "?>\n",
    "~~~"
   ]
  },
  {
   "cell_type": "markdown",
   "metadata": {},
   "source": [
    "#### Menor ou igual a"
   ]
  },
  {
   "cell_type": "markdown",
   "metadata": {},
   "source": [
    "~~~php\n",
    "<?php\n",
    "    echo 2<=2;\n",
    "?>\n",
    "~~~"
   ]
  },
  {
   "cell_type": "markdown",
   "metadata": {},
   "source": [
    "~~~php\n",
    "<?php\n",
    "    echo 12<=20;\n",
    "?>\n",
    "~~~"
   ]
  },
  {
   "cell_type": "markdown",
   "metadata": {},
   "source": [
    "#### Igualdade"
   ]
  },
  {
   "cell_type": "markdown",
   "metadata": {},
   "source": [
    "~~~php\n",
    "<?php\n",
    "    echo 10=10;\n",
    "?>\n",
    "~~~"
   ]
  },
  {
   "cell_type": "markdown",
   "metadata": {},
   "source": [
    "#### Diferente"
   ]
  },
  {
   "cell_type": "markdown",
   "metadata": {},
   "source": [
    "~~~php\n",
    "<?php\n",
    "    echo 15!=5;\n",
    "?>\n",
    "~~~"
   ]
  },
  {
   "cell_type": "markdown",
   "metadata": {},
   "source": [
    "## Operadores lógicos ou booleanos\n",
    "---"
   ]
  },
  {
   "cell_type": "markdown",
   "metadata": {},
   "source": [
    "Geralmente são utilizados em conjunto com estrutures de decisão ou de repetição.\n",
    "\n",
    "- `and`: operador E. Utilizado para verificar se duas afirmações são verdadeiras. Se uma for falsa, então a sentença inteira retorna falso.\n",
    "- `or`: operador OU. Utilizado para verificar se uma ou outroa afirmação é verdadeira. Basta que uma delas seja verdadeiro para retornar verdadeiro. As duas precisam ser falsas para retornar falso.\n",
    "- `not`: operador NÃO. É um operador de negação. A afirmação precisa ser falsa para retornar verdadeiro.\n",
    "\n",
    "### Exemplos\n",
    "\n",
    "#### and"
   ]
  },
  {
   "cell_type": "markdown",
   "metadata": {},
   "source": [
    "~~~php\n",
    "<?php\n",
    "    echo 7>5 && 5>3;\n",
    "?>\n",
    "~~~"
   ]
  },
  {
   "cell_type": "markdown",
   "metadata": {},
   "source": [
    "~~~php\n",
    "<?php\n",
    "    echo 7>2 && 10<5>;\n",
    "?>\n",
    "~~~"
   ]
  },
  {
   "cell_type": "markdown",
   "metadata": {},
   "source": [
    "#### or"
   ]
  },
  {
   "cell_type": "markdown",
   "metadata": {},
   "source": [
    "~~~php\n",
    "<?php\n",
    "    echo 10>5 || 5==5;\n",
    "?>\n",
    "~~~"
   ]
  },
  {
   "cell_type": "markdown",
   "metadata": {},
   "source": [
    "~~~php\n",
    "<?php\n",
    "    echo 10==10 || 1>10;\n",
    "?>\n",
    "~~~"
   ]
  },
  {
   "cell_type": "markdown",
   "metadata": {},
   "source": [
    "~~~php\n",
    "<?php\n",
    "    echo 10!=10 || 2==20;\n",
    "?>\n",
    "~~~"
   ]
  },
  {
   "cell_type": "markdown",
   "metadata": {},
   "source": [
    "#### not"
   ]
  },
  {
   "cell_type": "markdown",
   "metadata": {},
   "source": [
    "~~~php\n",
    "<?php\n",
    "    echo !10>5;\n",
    "?>\n",
    "~~~"
   ]
  },
  {
   "cell_type": "markdown",
   "metadata": {},
   "source": [
    "~~~php\n",
    "<?php\n",
    "    echo !1>8;\n",
    "?>\n",
    "~~~"
   ]
  },
  {
   "cell_type": "markdown",
   "metadata": {},
   "source": [
    "## Operadores de atribuição\n",
    "---"
   ]
  },
  {
   "cell_type": "markdown",
   "metadata": {},
   "source": [
    "São operadores empregados para realizar a atribuição de valores entre os operandos.\n",
    "\n",
    "- `=`: atribui, recebe um valor.\n",
    "- `+=`: soma a um valor e atribui o resultado.\n",
    "- `++`: incremento.\n",
    "- `--`: decremento.\n",
    "- `-=`: subtrai a um valor e atribui o resultado.\n",
    "- `*=`: multiplica a um valor e atribui o resultado.\n",
    "- `/=`: divide a um valor e atribui o resultado.\n",
    "- `%=`: obtém o resto de uma divisão e atribui o resultado.\n",
    "\n",
    "### Exemplos\n",
    "\n",
    "#### Atribuição"
   ]
  },
  {
   "cell_type": "markdown",
   "metadata": {},
   "source": [
    "~~~php\n",
    "<?php\n",
    "    $valor = 1;\n",
    "    echo $valor$;\n",
    "?>\n",
    "~~~"
   ]
  },
  {
   "cell_type": "markdown",
   "metadata": {},
   "source": [
    "#### Atribuição de soma"
   ]
  },
  {
   "cell_type": "markdown",
   "metadata": {},
   "source": [
    "~~~php\n",
    "<?php\n",
    "    $valor = 1;\n",
    "    $valor += 2;\n",
    "    echo $valor;\n",
    "?>\n",
    "~~~"
   ]
  },
  {
   "cell_type": "markdown",
   "metadata": {},
   "source": [
    "#### Incremento\n",
    "\n",
    "~~~php\n",
    "<?php\n",
    "    $valor++;\n",
    "    echo $valor;\n",
    "?>\n",
    "~~~"
   ]
  },
  {
   "cell_type": "markdown",
   "metadata": {},
   "source": [
    "#### Atribuição de subtração"
   ]
  },
  {
   "cell_type": "markdown",
   "metadata": {},
   "source": [
    "~~~php\n",
    "<?php\n",
    "    $valor = 10;\n",
    "    $valor -= 1;\n",
    "    echo $valor;\n",
    "?>\n",
    "~~~"
   ]
  },
  {
   "cell_type": "markdown",
   "metadata": {},
   "source": [
    "#### Decremento\n",
    "\n",
    "~~~php\n",
    "<?php\n",
    "    $valor--;\n",
    "    echo $valor;\n",
    "?>\n",
    "~~~"
   ]
  },
  {
   "cell_type": "markdown",
   "metadata": {},
   "source": [
    "#### Atribuição de multiplicação"
   ]
  },
  {
   "cell_type": "markdown",
   "metadata": {},
   "source": [
    "~~~php\n",
    "<?php\n",
    "    $valor = 5;\n",
    "    $valor *= 2;\n",
    "    echo $valor;\n",
    "?>\n",
    "~~~"
   ]
  },
  {
   "cell_type": "markdown",
   "metadata": {},
   "source": [
    "#### Atribuição de divisão"
   ]
  },
  {
   "cell_type": "markdown",
   "metadata": {},
   "source": [
    "~~~php\n",
    "<?php\n",
    "    $valor = 6;\n",
    "    $valor /= 2;\n",
    "    echo $valor;\n",
    "?>\n",
    "~~~"
   ]
  },
  {
   "cell_type": "markdown",
   "metadata": {},
   "source": [
    "#### Atribuição de módulo"
   ]
  },
  {
   "cell_type": "markdown",
   "metadata": {},
   "source": [
    "~~~php\n",
    "<?php\n",
    "    $valor = 5;\n",
    "    $valor %= 3;\n",
    "    echo $valor;\n",
    "?>\n",
    "~~~"
   ]
  },
  {
   "cell_type": "markdown",
   "metadata": {},
   "source": [
    "### **Esses foram os principais operadores, ou pelo menos os mais utilizados. Aprenda-os, e você estará com o PHP na palma da sua mão!**"
   ]
  }
 ],
 "metadata": {
  "kernelspec": {
   "display_name": ".venv",
   "language": "python",
   "name": "python3"
  },
  "language_info": {
   "codemirror_mode": {
    "name": "ipython",
    "version": 3
   },
   "file_extension": ".py",
   "mimetype": "text/x-python",
   "name": "python",
   "nbconvert_exporter": "python",
   "pygments_lexer": "ipython3",
   "version": "3.12.7"
  }
 },
 "nbformat": 4,
 "nbformat_minor": 2
}
