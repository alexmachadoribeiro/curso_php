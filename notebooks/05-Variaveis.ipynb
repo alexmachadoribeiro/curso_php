{
 "cells": [
  {
   "cell_type": "markdown",
   "metadata": {},
   "source": [
    "# **Variáveis**\n",
    "---"
   ]
  },
  {
   "cell_type": "markdown",
   "metadata": {},
   "source": [
    "## Requisitos da Aula\n",
    "\n",
    "- Rodando Primeiro Projeto\n",
    "\n",
    "---"
   ]
  },
  {
   "cell_type": "markdown",
   "metadata": {},
   "source": [
    "Agora que finalmente rodamos nosso primeiro projeto em PHP, podemos entender um pouco mais sobre como funciona a sintaxe da linguagem."
   ]
  },
  {
   "cell_type": "markdown",
   "metadata": {},
   "source": [
    "## Variáveis\n",
    "---\n",
    "\n",
    "**Variáveis** são, como o próprio nome já diz, valores que variam durante a execução do programa, e por esse motivo, não tem como o programador prever de forma exata quais valores eles vão assumir.\n",
    "\n",
    "Funciona assim: quando o programador declara uma variável no seu código, ele basicamente está pedindo para o computador armazenar um espaço na memória RAM da máquina para guardar um determinado valor. Em outras linguagens de programação, isso é feito ao definir o tipo de dado que aquela variável irá receber. Só que no caso do PHP, o tipo de dado não é definido de forma explícita, pois a linguagem possui **tipagem dinâmica**. Portanto, para que você consiga definir uma variável, você precisa obrigatoriamente inicializar a variável para que aquele espaço seja reservado corretamente na memória RAM.\n",
    "\n",
    "Quando falamos em inicializar a variável, significa em definir um valor a ser guardado por ela. E é dessa forma que o PHP vai saber qual o tipo de dado essa variável vai trabalhar. Uma das vantagens de se trabalhar com linguagens de tipagem dinâmica é que você pode trocar o tipo de dado com que aquela variável vai trabalhar à vontade, bastando apenas alterar o valor dela.\n",
    "\n",
    "Segue as regras para criar uma variável em PHP:\n",
    "\n",
    "- Toda variável precisa começar **obrigatoriamente** com o símbolo `$` antes de seu nome. Exemplo: `$nome`.\n",
    "- Os nomes das variáveis precisam ser simples e claros.\n",
    "- Nenhuma variável pode ter espaço, ç ou acentuação em seu nome. Exemplo: não pode existir ~~`$nome completo`~~ ou ~~`$endereço`~~.\n",
    "- As variáveis podem ter números em seu nome, mas nunca podem começar com números. Exemplo: `$nome1` pode, mas não pode ~~`$1nome`~~.\n",
    "- Caso o nome das variáveis seja um nome composto, use o estilo de nomenclatura **Camel Case**, em que o nome começa com letra minúscula e as outras palavras com a inicial maiúsculas, mas sem espaço entre elas. Exemplo: `$nomeCompleto`.\n",
    "- Não pode existir duas ou mais variáveis com nomes iguais.\n",
    "- Não pode existir variáveis com palavras reservadas pelo sistema. Exemplo: não pode existir a variável ~~`$echo`~~.\n",
    "- Precisam ser finalizadas com ponto-e-vírgula (`;`).\n",
    "\n",
    "Dito isso, vamos conhecer os tipos de dados que as variáveis podem possuir."
   ]
  },
  {
   "cell_type": "markdown",
   "metadata": {},
   "source": [
    "### Tipos de variáveis\n",
    "\n",
    "As variáveis podem possuir os seguintes tipos de dados:\n",
    "\n",
    "- **String** ou **Texto**: são as variáveis do tipo texto, e sempre estarão dentro de aspas, sejam elas simples ou duplas. Exemplo: `\"Este é o valor de uma variável do tipo texto\"`.\n",
    "- **Inteiro**: são números do tipo inteiros. Podem ser positivos ou negativos. Exemplo: `1`.\n",
    "- **Float** ou **Ponto Flutuante**: são números que possuem casas decimais. Também podem ser positivos ou negativos. Importante lembrar que em programação, o que separa as casas decimais não é a vírgula, mas sim o ponto (`.`). Exemplo: `1.5` está correto, e não ~~`1,5`~~.\n",
    "- **Booleanos** ou **Lógicos**: são valores do tipo **true** ou **false**. Ou seja, **verdadeiro** ou **falso**.\n",
    "\n",
    "### Atribuindo valor a uma variável\n",
    "\n",
    "Para atribuir valor ou inicializar uma variável, é necessário o uso do operador igual (`=`) entre o nome da variável e seu valor. Segue exemplos de declarações de variável:\n",
    "\n",
    "- `$nome = \"Fulano\";` declara uma variável do tipo **String** ou **Texto**.\n",
    "- `$idade = 15;` declara uma variável do tipo **Inteiro**.\n",
    "- `$altura = 1.85;` declara uma variável do tipo **Float**.\n",
    "- `$existencia = true;` declara uma variável do tipo **Boolean**."
   ]
  },
  {
   "cell_type": "markdown",
   "metadata": {},
   "source": [
    "### Trabalhando com variáveis no código-fonte\n",
    "\n",
    "Vamos agora para um exemplo prático. Suponha que precisamos criar um programa que imprima na tela o nome de alguém chamado Alex. O código-fonte ficaria então assim:"
   ]
  },
  {
   "cell_type": "markdown",
   "metadata": {},
   "source": [
    "##### Código-fonte 01\n",
    "\n",
    "~~~php\n",
    "<?php\n",
    "    $nome = \"Alex\";\n",
    "    echo $nome;\n",
    "?>\n",
    "~~~"
   ]
  },
  {
   "cell_type": "markdown",
   "metadata": {},
   "source": [
    "Ao executar esse código-fonte, o resultado é esse:"
   ]
  },
  {
   "cell_type": "markdown",
   "metadata": {},
   "source": [
    "<div style=\"display: flex; justify-content: center\">\n",
    "    <img src=\"../assets/variaveis-codigo-01-01.png\" alt=\"Código-fonte 01\" />\n",
    "</div>"
   ]
  },
  {
   "cell_type": "markdown",
   "metadata": {},
   "source": [
    "### Concatenando valores\n",
    "\n",
    "No comando de saída de dados, poderá (e haverá) a necessidade de concatenar valores diferentes para exibir em um mesmo comando. Utilizamos o ponto (`.`) para isso. Vamos por exemplo criar um outro programa que exibe uma mensagem de boas vindas para o mesmo usuário de nome Alex:"
   ]
  },
  {
   "cell_type": "markdown",
   "metadata": {},
   "source": [
    "##### Código-fonte 02\n",
    "\n",
    "~~~php\n",
    "<?php\n",
    "    $nome = \"Alex\";\n",
    "    echo \"Seja bem vindo \" . $nome . \".\";\n",
    "?>\n",
    "~~~"
   ]
  },
  {
   "cell_type": "markdown",
   "metadata": {},
   "source": [
    "Observe agora o novo resultado no navegador:"
   ]
  },
  {
   "cell_type": "markdown",
   "metadata": {},
   "source": [
    "<div style=\"display: flex; justify-content: center\">\n",
    "    <img src=\"../assets/variaveis-codigo-02-01.png\" alt=\"Código-fonte 02\" />\n",
    "</div>"
   ]
  },
  {
   "cell_type": "markdown",
   "metadata": {},
   "source": [
    "Por hora é só. Na próxima aula iremos aprender sobre entrada de dados. Abraços."
   ]
  }
 ],
 "metadata": {
  "language_info": {
   "name": "python"
  }
 },
 "nbformat": 4,
 "nbformat_minor": 2
}
