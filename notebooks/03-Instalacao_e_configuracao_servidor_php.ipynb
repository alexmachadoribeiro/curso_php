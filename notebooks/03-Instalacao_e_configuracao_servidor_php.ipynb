{
 "cells": [
  {
   "cell_type": "markdown",
   "metadata": {},
   "source": [
    "# **Instalação do PHP e configuração do Servidor Web**\n",
    "---"
   ]
  },
  {
   "cell_type": "markdown",
   "metadata": {},
   "source": [
    "## Requisitos da Aula\n",
    "\n",
    "- Introdução ao PHP\n",
    "---"
   ]
  },
  {
   "cell_type": "markdown",
   "metadata": {},
   "source": [
    "## Download do PHP\n",
    "---\n",
    "\n",
    "Siga os passos abaixo para baixar, instalar e configurar o PHP na sua máquina:\n",
    "\n",
    "1. Obviamente, o PHP pode ser baixado diretamente da documentação oficial na seção de downloads (https://www.php.net/downloads). Portanto, acesse a página.\n",
    "2. Ao acessar a página, clique no link onde diz **Windows downloads**. Observe a tela abaixo com a indicação de onde deve ser clicado:"
   ]
  },
  {
   "cell_type": "markdown",
   "metadata": {},
   "source": [
    "<div style=\"display: flex; justify-content: center\">\n",
    "    <img src=\"../assets/php-download-01.png\" alt=\"Download do PHP\" />\n",
    "</div>"
   ]
  },
  {
   "cell_type": "markdown",
   "metadata": {},
   "source": [
    "3. Ao clicar no link, você será redirecionado para a página abaixo:"
   ]
  },
  {
   "cell_type": "markdown",
   "metadata": {},
   "source": [
    "<div style=\"display: flex; justify-content: center\">\n",
    "    <img src=\"../assets/php-download-02.png\" alt=\"Download PHP\" />\n",
    "</div>"
   ]
  },
  {
   "cell_type": "markdown",
   "metadata": {},
   "source": [
    "4. Observe que a versão mais recente do PHP é realmente a **8.4.3**, lançada no dia **15/01/2025**. Nessa página, observe que existem vários links de download disponíveis, divididos em duas categorias: **Non Thread Safe** e **Thread Safe**.\n",
    "\n",
    "**Thread Safety** significa que o binário pode trabalhar em um contexto de servidor de vários segmentos, como o Apache 2 no Windows. Thread Safety funciona através da criação de uma cópia de armazenamento local em cada segmento, para que os dados não colidam com outro segmento.\n",
    "\n",
    "Uma versão thread-safe (TS) deve ser usada se você instalar o PHP como um módulo Apache, como um MPM (modelo de multiprocessamento) de trabalho. A versão não thread-safe (NTS) deve ser usada se você instalar o PHP como um binário CGI.\n",
    "\n",
    "5. Para o nosso caso, como estaremos apenas aprendendo o básico do PHP, vamos usar a Non Thread Safe e baixar o arquivo **ZIP** da **Non Thread Safe** de **64 bits**, que possui 32,18 MB de tamanho:"
   ]
  },
  {
   "cell_type": "markdown",
   "metadata": {},
   "source": [
    "<div style=\"display: flex; justify-content: center\">\n",
    "    <img src=\"../assets/php-download-03.png\" alt=\"Download PHP\" />\n",
    "</div>"
   ]
  },
  {
   "cell_type": "markdown",
   "metadata": {},
   "source": [
    "**Obs:** usaremos a versão de 64 bits, pois o SO onde esse tutorial está sendo preparado éde 64 bits. Se o seu SO for de 32 bits, baixe o correspondente."
   ]
  },
  {
   "cell_type": "markdown",
   "metadata": {},
   "source": [
    "## Instalação do PHP\n",
    "---\n",
    "\n",
    "6. Após finalizar o download, acesse o diretório **C:** do seu computador e crie uma pasta chamada **PHP** lá dentro:"
   ]
  },
  {
   "cell_type": "markdown",
   "metadata": {},
   "source": [
    "<div style=\"display: flex; justify-content: center\">\n",
    "    <img src=\"../assets/php-instalacao-01.png\" alt=\"Instalação do PHP\" />\n",
    "</div>"
   ]
  },
  {
   "cell_type": "markdown",
   "metadata": {},
   "source": [
    "<div style=\"display: flex; justify-content: center\">\n",
    "    <img src=\"../assets/php-instalacao-02.png\" alt=\"Instalação PHP\" />\n",
    "</div>"
   ]
  },
  {
   "cell_type": "markdown",
   "metadata": {},
   "source": [
    "7. O arquivo que você baixou da documentação do PHP é um arquivo **.zip**, que deverá ser descompactado dentro dessa nova pasta que acabamos de criar:"
   ]
  },
  {
   "cell_type": "markdown",
   "metadata": {},
   "source": [
    "<div style=\"display: flex; justify-content: center\">\n",
    "    <img src=\"../assets/php-instalacao-03.png\" alt=\"Instalação PHP\" />\n",
    "</div>"
   ]
  },
  {
   "cell_type": "markdown",
   "metadata": {},
   "source": [
    "8. O resultado deverá se parecer com o das duas telas abaixo:"
   ]
  },
  {
   "cell_type": "markdown",
   "metadata": {},
   "source": [
    "<div style=\"display: flex; justify-content: center\">\n",
    "    <img src=\"../assets/php-instalacao-04.png\" alt=\"Instalação PHP\" />\n",
    "</div>"
   ]
  },
  {
   "cell_type": "markdown",
   "metadata": {},
   "source": [
    "<div style=\"display: flex; justify-content: center\">\n",
    "    <img src=\"../assets/php-instalacao-05.png\" alt=\"Instalação PHP\" />\n",
    "</div>"
   ]
  },
  {
   "cell_type": "markdown",
   "metadata": {},
   "source": [
    "9. Agora, dentro da pasta onde está o conteúdo descompactado, procure pelo arquivo **php.ini-development**, e renomeie-o para **php.ini** (mas antes, procure fazer o backup do arquivo, por exemplo: copie e cole no mesmo diretório, e renomeie a cópia para **php.ini-development-old**):"
   ]
  },
  {
   "cell_type": "markdown",
   "metadata": {},
   "source": [
    "<div style=\"display: flex; justify-content: center\">\n",
    "    <img src=\"../assets/php-instalacao-06.png\" alt=\"Instalação PHP\" />\n",
    "</div>"
   ]
  },
  {
   "cell_type": "markdown",
   "metadata": {},
   "source": [
    "<div style=\"display: flex; justify-content: center\">\n",
    "    <img src=\"../assets/php-instalacao-07.png\" alt=\"Instalação PHP\" />\n",
    "</div>"
   ]
  },
  {
   "cell_type": "markdown",
   "metadata": {},
   "source": [
    "## Configurando as variáveis de ambiente\n",
    "---\n",
    "\n",
    "10. O próximo passo agora é adicionar o PHP às variáveis de ambiente do sistema. Acesse Configurações > Sistema > Sobre > Configurações avançadas do sistema > Variáveis de ambiente..., ou simplesmente digite 'variáveis de ambiente' na busca do Windows, e clique no botão **Variáveis de Ambiente** na janela que aparecer. Se não aparecer, só clicar na guia **Avançado** dessa janela:"
   ]
  },
  {
   "cell_type": "markdown",
   "metadata": {},
   "source": [
    "<div style=\"display: flex; justify-content: center\">\n",
    "    <img src=\"../assets/php-instalacao-08.png\" alt=\"Instalação PHP\" />\n",
    "</div>"
   ]
  },
  {
   "cell_type": "markdown",
   "metadata": {},
   "source": [
    "<div style=\"display: flex; justify-content: center\">\n",
    "    <img src=\"../assets/php-instalacao-09.png\" alt=\"Instalação PHP\" />\n",
    "</div>"
   ]
  },
  {
   "cell_type": "markdown",
   "metadata": {},
   "source": [
    "<div style=\"display: flex; justify-content: center\">\n",
    "    <img src=\"../assets/php-instalacao-10.png\" alt=\"Instalação PHP\" />\n",
    "</div>"
   ]
  },
  {
   "cell_type": "markdown",
   "metadata": {},
   "source": [
    "11. Na nova janela que surgir, vá na seção Variáveis do Sistema, e procure pela palavra **Path**. Selecione-a e clique em editar, conforme a figura abaixo:"
   ]
  },
  {
   "cell_type": "markdown",
   "metadata": {},
   "source": [
    "<div style=\"display: flex; justify-content: center\">\n",
    "    <img src=\"../assets/php-instalacao-11.png\" alt=\"Instalação PHP\" />\n",
    "</div>"
   ]
  },
  {
   "cell_type": "markdown",
   "metadata": {},
   "source": [
    "12. Nessa próxima janela, clique no botão **Novo**, e depois digite ou cole o caminho do arquivo **php.ini** no sistema, e ao final, clique no botão **OK**:"
   ]
  },
  {
   "cell_type": "markdown",
   "metadata": {},
   "source": [
    "<div style=\"display: flex; justify-content: center\">\n",
    "    <img src=\"../assets/php-instalacao-12.png\" alt=\"Instalação PHP\" />\n",
    "</div>"
   ]
  },
  {
   "cell_type": "markdown",
   "metadata": {},
   "source": [
    "<div style=\"display: flex; justify-content: center\">\n",
    "    <img src=\"../assets/php-instalacao-13.png\" alt=\"Instalação PHP\" />\n",
    "</div>"
   ]
  },
  {
   "cell_type": "markdown",
   "metadata": {},
   "source": [
    "13. Agora, dê **OK** em todas as janelas, e pronto! O PHP foi instalado com sucesso!"
   ]
  },
  {
   "cell_type": "markdown",
   "metadata": {},
   "source": [
    "## Testando o PHP\n",
    "---\n",
    "\n",
    "14. Após fazer as configurações, abra um terminal e digite `php --version`. Se tudo foi configurado corretamente irá aparecer a versão instalada do PHP:"
   ]
  },
  {
   "cell_type": "markdown",
   "metadata": {},
   "source": [
    "<div style=\"display: flex; justify-content: center\">\n",
    "    <img src=\"../assets/php-instalacao-14.png\" alt=\"Instalação PHP\" />\n",
    "</div>"
   ]
  },
  {
   "cell_type": "markdown",
   "metadata": {},
   "source": [
    "15. E pronto! Agora o nosso próximo passo é finalmente começarmos a desenvolver. Faremos isso a partir da próxima aula. Abraços!"
   ]
  }
 ],
 "metadata": {
  "language_info": {
   "name": "python"
  }
 },
 "nbformat": 4,
 "nbformat_minor": 2
}
