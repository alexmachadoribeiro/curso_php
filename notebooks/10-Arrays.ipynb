{
 "cells": [
  {
   "cell_type": "markdown",
   "metadata": {},
   "source": [
    "# **Arrays**\n",
    "---"
   ]
  },
  {
   "cell_type": "markdown",
   "metadata": {},
   "source": [
    "## Requisitos da Aula\n",
    "\n",
    "- Variáveis\n",
    "- Entrada de Dados\n",
    "- Operadores\n",
    "- Estruturas de Decisão\n",
    "- Laços de Repetição\n",
    "\n",
    "---"
   ]
  },
  {
   "cell_type": "markdown",
   "metadata": {},
   "source": [
    "Vimos em aulas anteriores que quando declaramos uma variável em um programa, estamos pedindo para a memória RAM deixar um espaço vazio para que o meu programa possa guardar um valor por lá. Mas e se eu precisasse de uma variável que pudesse guardar vários valores diferentes? É exatamente isso que um **array** faz: é uma variável que consegue guardar vários valores simultâneamente, como uma lista, por exemplo."
   ]
  },
  {
   "cell_type": "markdown",
   "metadata": {},
   "source": [
    "## Vetor\n",
    "---\n",
    "\n",
    "Um vetor é um array de uma dimensão, ou seja, pode guardar vários valores do mesmo tipo em uma única lista, como uma lista de nomes, ou uma lista de números, por exemplo. Um vetor pode guardar quantos valores forem necessários, desde que sejam em uma lista e sejam do mesmo tipo de dados."
   ]
  },
  {
   "cell_type": "markdown",
   "metadata": {},
   "source": [
    "### Forma 1\n",
    "\n",
    "A estrutura de um array é `$array = [valor01; valor02; valor03;];`.\n",
    "\n",
    "#### Programa 01\n",
    "\n",
    "Observe esse exemplo, onde exibimos na tela uma lista de estados brasileiros:"
   ]
  },
  {
   "cell_type": "markdown",
   "metadata": {},
   "source": [
    "##### index.php\n",
    "\n",
    "~~~php\n",
    "<?php\n",
    "    // vetor\n",
    "    $estados = [\"Distrito Federal\", \"Goiás\", \"Rio de Janeiro\", \"São Paulo\", \"Minas Gerais\"];\n",
    "\n",
    "    // mostrando os valores do array na tela\n",
    "    echo $estados[0] . \"<br>\";\n",
    "    echo $estados[1] . \"<br>\";\n",
    "    echo $estados[2] . \"<br>\";\n",
    "    echo $estados[3] . \"<br>\";\n",
    "    echo $estados[4] . \"<br>\";\n",
    "?>\n",
    "~~~"
   ]
  },
  {
   "cell_type": "markdown",
   "metadata": {},
   "source": [
    "Veja o resultado abaixo:"
   ]
  },
  {
   "cell_type": "markdown",
   "metadata": {},
   "source": [
    "<div style=\"display: flex; justify-content: center\">\n",
    "    <img src=\"../assets/lista_estados.png\" alt=\"Lista de estados\" />\n",
    "</div>"
   ]
  },
  {
   "cell_type": "markdown",
   "metadata": {},
   "source": [
    "### Explicação do código-fonte\n",
    "\n",
    "O vetor do exemplo possui 5 valores. Porém, a contagem decimal para o computador não é a mesma para o ser humano: enquanto começamos uma contagem a partir do número 1, o computador entende o 0 (zero) como primeiro número, e começa a contagem a partir dele. Ou seja, o primeiro valor é o valor 0, o segundo valor é o valor 1, o terceiro valor é o valor 2....e assim por diante. No nosso exemplo, como são 5 valores, o último valor não é o 5, mas sim, o 4.\n",
    "\n",
    "Dessa forma, precisaremos saber dessa informação se quisermos acessar corretamente um valor em uma determinada posição do vetor, já que ele é acessado informando o nome do array seguido de colchetes (`[]`) e o número da posição dentro dos colchetes. Exemplo: para acessar o primeiro valor, é `$estados[0]`. Para acessar o terceiro valor é `$estados[2]`."
   ]
  },
  {
   "cell_type": "markdown",
   "metadata": {},
   "source": [
    "### Forma 2\n",
    "\n",
    "Há uma outra forma de criar um *array* em php: `$nome_do_array = array(valor01, valor02, valor03);`. Veja:"
   ]
  },
  {
   "cell_type": "markdown",
   "metadata": {},
   "source": [
    "#### Programa 02\n",
    "\n",
    "##### index.php\n",
    "\n",
    "~~~php\n",
    "<?php\n",
    "// vetor\n",
    "    $estados = array(\"Distrito Federal\", \"Goiás\", \"Rio de Janeiro\", \"São Paulo\", \"Minas Gerais\");\n",
    "\n",
    "    // mostrando os valores do array na tela\n",
    "    echo $estados[0] . \"<br>\";\n",
    "    echo $estados[1] . \"<br>\";\n",
    "    echo $estados[2] . \"<br>\";\n",
    "    echo $estados[3] . \"<br>\";\n",
    "    echo $estados[4] . \"<br>\";\n",
    "?>\n",
    "~~~"
   ]
  },
  {
   "cell_type": "markdown",
   "metadata": {},
   "source": [
    "### Usando laço de repetição para simplificar a saída do array\n",
    "\n",
    "Na verdade, há uma forma de simplificar a exibição dos valores dos arrays: você pode usar um laço de repetição para percorrer o array e assim exibir o valor na tela com um único comando. Veja:"
   ]
  },
  {
   "cell_type": "markdown",
   "metadata": {},
   "source": [
    "#### Programa 03 - Exibindo lista com while\n",
    "\n",
    "##### index.php\n",
    "\n",
    "~~~php\n",
    "<?php\n",
    "    // vetor\n",
    "    $estados = [\"Distrito Federal\", \"Goiás\", \"Rio de Janeiro\", \"São Paulo\", \"Minas Gerais\"];\n",
    "\n",
    "    // contador\n",
    "    $cont = 0;\n",
    "\n",
    "    // mostrando os valores do array na tela usando o while\n",
    "    while ($cont < count($estados)) {\n",
    "        echo $estados[$cont] . \"<br>\";\n",
    "        $cont++;\n",
    "    }\n",
    "?>\n",
    "~~~"
   ]
  },
  {
   "cell_type": "markdown",
   "metadata": {},
   "source": [
    "#### Programa 04 - Exibindo lista com do...while\n",
    "\n",
    "##### index.php\n",
    "\n",
    "~~~php\n",
    "<?php\n",
    "    // vetor\n",
    "    $estados = [\"Distrito Federal\", \"Goiás\", \"Rio de Janeiro\", \"São Paulo\", \"Minas Gerais\"];\n",
    "\n",
    "    // contador\n",
    "    $cont = 0;\n",
    "\n",
    "    // mostrando os valores do array na tela usando o while\n",
    "    do {\n",
    "        echo $estados[$cont] . \"<br>\";\n",
    "        $cont++;\n",
    "    } while ($cont < count($estados));\n",
    "?>\n",
    "~~~"
   ]
  },
  {
   "cell_type": "markdown",
   "metadata": {},
   "source": [
    "#### Programa 05 - Exibindo lista com for\n",
    "\n",
    "##### index.php\n",
    "\n",
    "~~~php\n",
    "<?php\n",
    "    // vetor\n",
    "    $estados = [\"Distrito Federal\", \"Goiás\", \"Rio de Janeiro\", \"São Paulo\", \"Minas Gerais\"];\n",
    "\n",
    "    for ($cont = 0; $cont < count($estados); $count++) {\n",
    "        echo $estados[$cont] . \"<br>\";\n",
    "    }\n",
    "?>\n",
    "~~~"
   ]
  },
  {
   "cell_type": "markdown",
   "metadata": {},
   "source": [
    "O resultado na tela em todos esses programas será exatamente o mesmo. A única coisa que muda entre eles é o algoritmo do PHP."
   ]
  },
  {
   "cell_type": "markdown",
   "metadata": {},
   "source": [
    "### Explicando os códigos-fonte\n",
    "\n",
    "A variável `$cont` é um contador que começa do 0 (zero), e aumenta a cada vez que o laço de repetição é executado. Dessa forma, basta colocar essa variável dentro dos colchetes para exibir o valor da posição do valor correspondente à variável `$cont`.\n",
    "\n",
    "Já a função `count()`serve para contar o número de posições do array."
   ]
  },
  {
   "cell_type": "markdown",
   "metadata": {},
   "source": [
    "## foreach\n",
    "---"
   ]
  },
  {
   "cell_type": "markdown",
   "metadata": {},
   "source": [
    "O ***foreach*** é uma estrutura de laço de repetição similar ao *for*, mas que trabalha exclusivamente com elementos iteráveis, como um array, por exemplo. Acaba que é considerada a forma mais simplificada de percorrer um array. Veja:"
   ]
  },
  {
   "cell_type": "markdown",
   "metadata": {},
   "source": [
    "#### Prorgrama 06 - Exibindo lista com foreach\n",
    "\n",
    "##### index.php\n",
    "\n",
    "~~~php\n",
    "<?php\n",
    "    // vetor\n",
    "    $estados = [\"Distrito Federal\", \"Goiás\", \"Rio de Janeiro\", \"São Paulo\", \"Minas Gerais\"];\n",
    "\n",
    "    foreach ($estados as $estado) {\n",
    "        echo $estado . \"<br>\";\n",
    "    }\n",
    "?>\n",
    "~~~"
   ]
  },
  {
   "cell_type": "markdown",
   "metadata": {},
   "source": [
    "O resultado final deste programa é exatamente o mesmo dos programas acima."
   ]
  },
  {
   "cell_type": "markdown",
   "metadata": {},
   "source": [
    "### Explicando o código-fonte\n",
    "\n",
    "No *foreach* não há um contador, nem a necessidade de indicar a posição de um valor em um array: o laço pega cada valor da lista e atribui a uma variável, no caso `$estado`, exibe na tela, e passa para a próxima iteração.\n",
    "\n",
    "Essa é considerada a melhor forma de percorrer um array."
   ]
  },
  {
   "cell_type": "markdown",
   "metadata": {},
   "source": [
    "## Arrays associativos\n",
    "---\n",
    "\n",
    "O PHP permite ainda a declaração de arrays associativos. Para esse fim, o construtor array() pode receber quais serão as chaves às quais os valores estão associados como parâmetro. Um exemplo dessa sintaxe pode ser visto a seguir:\n",
    "\n",
    "`$array = array(“chave1” => 1, “chave2” => “PHP”, “chave3” => false);`\n",
    "\n",
    "Ou ainda:\n",
    "\n",
    "`$array = [“chave1” => 1, “chave2” => “PHP”, “chave3” => false];`\n",
    "\n",
    "Veja o exemplo abaixo sobre como se trabalhar com *arrays* com chaves associativas:\n",
    "\n",
    "#### Programa 07\n",
    "\n",
    "##### index.php\n",
    "\n",
    "~~~php\n",
    "<?php\n",
    "    // declaração de array\n",
    "    $dados = ['Nome' => \"Alex Machado\", 'Idade' => 40, 'Profissão' => \"Programador\"];\n",
    "\n",
    "    // percorrendo o array\n",
    "    foreach ($dados as $campo => $valor) {\n",
    "        echo $campo . \": \" . $valor . \".<br>\";\n",
    "    }\n",
    "?>\n",
    "~~~"
   ]
  },
  {
   "cell_type": "markdown",
   "metadata": {},
   "source": [
    "Resultado:"
   ]
  },
  {
   "cell_type": "markdown",
   "metadata": {},
   "source": [
    "<div style=\"display: flex; justify-content: center\">\n",
    "    <img src=\"../assets/arrays-programa-07.png\" alt=\"Programa 07\" />\n",
    "</div>"
   ]
  },
  {
   "cell_type": "markdown",
   "metadata": {},
   "source": [
    "### Explicando o código-fonte\n",
    "\n",
    "Um **array associativo** funciona aplicando um valor que chamamos de **chave** para cada item do array. Dessa forma, é possível associar cada chave ao seu valor correspondente.\n",
    "\n",
    "**Obs:** semrpe use aspas simples para os nomes das chaves."
   ]
  }
 ],
 "metadata": {
  "language_info": {
   "name": "python"
  }
 },
 "nbformat": 4,
 "nbformat_minor": 2
}
