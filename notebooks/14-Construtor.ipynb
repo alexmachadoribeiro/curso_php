{
 "cells": [
  {
   "cell_type": "markdown",
   "metadata": {},
   "source": [
    "# **Construtor**\n",
    "---"
   ]
  },
  {
   "cell_type": "markdown",
   "metadata": {},
   "source": [
    "## Requisitos da Aula\n",
    "\n",
    "- Variáveis\n",
    "- Funções\n",
    "- Orientação a Objetos\n",
    "\n",
    "---"
   ]
  },
  {
   "cell_type": "markdown",
   "metadata": {},
   "source": [
    "Nesta aula vamos falar sobre um método especial da classe chamado **Método Construtor**."
   ]
  },
  {
   "cell_type": "markdown",
   "metadata": {},
   "source": [
    "## Método Construtor\n",
    "---\n",
    "\n",
    "Na aula anterior vimos como instanciar uma classe, ou seja, como criar um objeto de uma classe, e também vimos sobre os métodos de uma classe. Também vimos que, quando um objeto é criado, a primeira coisa que ele faz é existir, ou seja, nascer.\n",
    "\n",
    "Bem, acontece que nascer é uma ação, e é exatamente a primeira ação que um objeto pode fazer em um programa, e o responsável por isso é um método especial chamado **Construtor**, e é exatamante esse o objetivo desse método: **construir o objeto**.\n",
    "\n",
    "### Como funciona o método construtor\n",
    "\n",
    "Não há melhor forma de explicar como funciona a não ser com um exemplo. Portanto, vamos criar um programa parecido com o da aula anterior, onde o usuário informa seus dados, e eles aparecem em uma página separada. A diferença é que desta vez nós vamos programar o construtor. Vamos começar com a classe **Pessoa**, definindo seus atributos:"
   ]
  },
  {
   "cell_type": "markdown",
   "metadata": {},
   "source": [
    "#### Programa 01\n",
    "\n",
    "##### Pessoa.class.php\n",
    "\n",
    "~~~php\n",
    "<?php\n",
    "    // classe Pessoa\n",
    "    class Pessoa {\n",
    "        // atributos\n",
    "        public $nome\n",
    "        public $idade;\n",
    "    }\n",
    "?>\n",
    "~~~"
   ]
  },
  {
   "cell_type": "markdown",
   "metadata": {},
   "source": [
    "Pronto! Antes de começarmos a explicar sobre o construtor, vamos construir o nosso formulário HTML e depois o `result.php`:"
   ]
  },
  {
   "cell_type": "markdown",
   "metadata": {
    "vscode": {
     "languageId": "html"
    }
   },
   "source": [
    "#### index.html\n",
    "\n",
    "~~~html\n",
    "<!DOCTYPE html>\n",
    "<html lang=\"en\">\n",
    "    <head>\n",
    "        <meta charset=\"UTF-8\">\n",
    "        <meta name=\"viewport\" content=\"width=device-width, initial-scale=1.0\">\n",
    "        <title>Document</title>\n",
    "    </head>\n",
    "    <body>\n",
    "        <form action=\"result.php\" method=\"post\">\n",
    "            <input type=\"text\" name=\"nome\" placeholder=\"Digite seu nome\" /><br /><br />\n",
    "            <input type=\"text\" name=\"idade\" placeholder=\"Digite sua idade\" /><br /><br />\n",
    "            <button type=\"submit\">Enviar</button>\n",
    "        </form>\n",
    "    </body>\n",
    "</html>\n",
    "~~~"
   ]
  },
  {
   "cell_type": "markdown",
   "metadata": {},
   "source": [
    "##### result.php\n",
    "\n",
    "~~~php\n",
    "<?php\n",
    "    // importa a classe\n",
    "    include \"Pessoa.class.php\";\n",
    "\n",
    "    // instancia a classe\n",
    "    $usuario = new Pessoa();\n",
    "?>\n",
    "~~~"
   ]
  },
  {
   "cell_type": "markdown",
   "metadata": {},
   "source": [
    "Agora, vamos nos atentar para a última linha desse código em PHP, pois ele é o protagonista desta aula:\n",
    "\n",
    "- `$usuario` é o nome do objeto.\n",
    "- `new` indica a criação de um novo objeto.\n",
    "- `Pessoa()` indica o tipo de objeto que está sendo criado. Embora ela tenha o mesmo exato nome da classe, esta parte do código é exatamente o **método construtor**. Repare nos parênteses após o nome, indicando que ele é um método.\n",
    "\n",
    "O método construtor é obrigatório em uma classe, embora não seja obrigatório programá-lo. Caso ele não seja colocado dentro da classe (que é exatamente o exemplo da aula anterior), ele será incluído automaticamente. Porém, o objetivo desta aula é justamente programar o método construtor. Portanto, vamos voltar à classe. Para criarmos o construtor dentro da classe, usamos a palavra reservada `__construct` (são 2 *underscores*), e repassamos dentro dos parâmetros exatamente os atributos da classe. O objetivo é inicializar o construtor já com os valores dos atributos:"
   ]
  },
  {
   "cell_type": "markdown",
   "metadata": {},
   "source": [
    "##### Pessoa.class.php\n",
    "\n",
    "~~~php\n",
    "<?php\n",
    "    // classe Pessoa\n",
    "    class Pessoa {\n",
    "        // atributos\n",
    "        public $nome;\n",
    "        public $idade;\n",
    "\n",
    "        // método construtor\n",
    "        function __construct($nome, $idade) {\n",
    "            $this->nome = $nome;\n",
    "            $this->idade = $idade;\n",
    "        }\n",
    "    }\n",
    "?>\n",
    "~~~"
   ]
  },
  {
   "cell_type": "markdown",
   "metadata": {},
   "source": [
    "**Obs:** especificamente em PHP, só é possível programar **um único construtor por classe**.\n",
    "\n",
    "Ao realizar essa alteração na classe, o objeto precisa obrigatoriamente ser inicializado com esses valores. Depois, é só completar o programa:"
   ]
  },
  {
   "cell_type": "markdown",
   "metadata": {},
   "source": [
    "##### result.php\n",
    "\n",
    "~~~php\n",
    "<?php\n",
    "    // importa a classe\n",
    "    include \"Pessoa.class.php\";\n",
    "\n",
    "    // instancia a classe\n",
    "    $usuario = new Pessoa($_POST[\"nome\"], $_POST[\"idade\"]);\n",
    "\n",
    "    // saída de dados\n",
    "    echo '<b>Nome:</b> ' . $usuario->nome . '.<br />';\n",
    "    echo '<b>Idade:</b> ' . $usuario->idade . '.<br />';\n",
    "?>\n",
    "~~~"
   ]
  },
  {
   "cell_type": "markdown",
   "metadata": {},
   "source": [
    "Uma outra possibilidade é inicializar o objeto com valores nulos ou zero, e só depois repassar os valores do usuário:"
   ]
  },
  {
   "cell_type": "markdown",
   "metadata": {},
   "source": [
    "##### result.php\n",
    "\n",
    "~~~php\n",
    "<?php\n",
    "    // importa a classe\n",
    "    include \"Pessoa.class.php\";\n",
    "\n",
    "    // instancia a classe\n",
    "    $usuario = new Pessoa(\"\", 0);\n",
    "\n",
    "    // repassa os valores para os atributos\n",
    "    $usuario->nome = $_POST['nome'];\n",
    "    $usuario->idade = $_POST['idade'];\n",
    "\n",
    "    // saída de dados\n",
    "    echo '<b>Nome:</b> ' . $usuario->nome . '.<br />';\n",
    "    echo '<b>Idade:</b> ' . $usuario->idade . '.<br />';\n",
    "?>\n",
    "~~~"
   ]
  },
  {
   "cell_type": "markdown",
   "metadata": {},
   "source": [
    "## Importância do Método Construtor\n",
    "---"
   ]
  },
  {
   "cell_type": "markdown",
   "metadata": {},
   "source": [
    "Seguem os principais motivos para criar um método construtor na classe:\n",
    "\n",
    "1. **Inicialização de Atributos:** O construtor permite que você defina valores iniciais para os atributos do objeto, garantindo que o objeto comece em um estado válido.\n",
    "2. **Configuração Inicial:** Além de inicializar atributos, o construtor pode realizar outras configurações necessárias para o objeto funcionar corretamente, como estabelecer conexões com bancos de dados ou configurar dependências.\n",
    "3. **Facilidade de Uso:** Com um construtor bem definido, você pode criar objetos de forma mais simples e intuitiva, passando os valores necessários diretamente na criação do objeto.\n",
    "\n",
    "Caso você opte por não escrever o método construtor, você pode encontrar alguns problemas, como:\n",
    "\n",
    "1. **Estado Inconsistente:** Sem um construtor, os atributos do objeto podem não ser inicializados corretamente, resultando em um estado inconsistente ou inválido. Isso pode levar a erros difíceis de rastrear.\n",
    "2. **Código Repetitivo:** Sem um construtor, você pode acabar repetindo o código de inicialização em vários lugares, o que torna o código mais difícil de manter e propenso a erros.\n",
    "3. **Dificuldade de Manutenção:** Se a inicialização dos atributos for complexa, não ter um construtor pode dificultar a manutenção e evolução do código, pois a lógica de inicialização pode estar espalhada por vários lugares.\n",
    "\n",
    "### Conclusão\n",
    "\n",
    "Escrever o método construtor nas classes é essencial para garantir que os objetos sejam inicializados corretamente e estejam em um estado válido desde o início. Isso ajuda a evitar problemas de estado inconsistente, código repetitivo e dificuldades de manutenção."
   ]
  }
 ],
 "metadata": {
  "language_info": {
   "name": "python"
  }
 },
 "nbformat": 4,
 "nbformat_minor": 2
}
