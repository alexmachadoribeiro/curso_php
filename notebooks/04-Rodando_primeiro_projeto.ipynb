{
 "cells": [
  {
   "cell_type": "markdown",
   "metadata": {},
   "source": [
    "# **Rodando um projeto PHP**\n",
    "---"
   ]
  },
  {
   "cell_type": "markdown",
   "metadata": {},
   "source": [
    "## Requisitos da Aula\n",
    "\n",
    "- Introdução ao PHP\n",
    "- Instalação e Configuração do PHP\n",
    "\n",
    "---"
   ]
  },
  {
   "cell_type": "markdown",
   "metadata": {},
   "source": [
    "Agora que finalmente terminamos de configurar o PHP na nossa máquina, chegou a hora de fazermos o nosso primeiro projeto em PHP. Mas antes, há algumas coisas que precisamos saber:\n",
    "\n",
    "1. Como dissemos anteriormente, o PHP é uma linguagem exclusivamente Back-End. Isso significa que ele irá rodar apenas em um servidor. Em outras palavras, se não configurarmos um servidor local na nossa máquina, não conseguiremos testar e rodar nenhum projeto em PHP.\n",
    "2. Todo e qualquer código-fonte que possua pelo menos uma linha de código em PHP deverá ser obrigatoriamente salvo com a extensão **.php**.\n",
    "3. O arquivo **.php jamais pode ser aberto de forma direta**. Caso isso seja feito, ele irá abrir ou o editor de código, ou a IDE, ou o navegador irá abrir o código-fonte e exibí-lo, sem exibir o resultado do programa.\n",
    "4. Para testarmos os nossos programas, precisaremos primeiro inicializar o serviror web (o próprio PHP já tem um para fins de teste) e depois abrir o navegador de Internet favorito e digitar o endereço do servidor local.\n",
    "5. Iremos evitar soluções manjadas como o XAMPP e o WAMPP, pois nos últimos anos essas soluções, que antes eram uma mão na roda, agora dão muito erro, corrompendo projetos e retornando muita dor de cabeça para os desenvolvedores."
   ]
  },
  {
   "cell_type": "markdown",
   "metadata": {},
   "source": [
    "## Primeiros passos em PHP\n",
    "---\n",
    "\n",
    "No mundo da programação, o **Hello World** é o programa mais básico que qualquer programador pode criar com qualquer linguagem. O objetivo é testar as configurações da máquina para ver se o ambiente de desenvolvimento está corretamente configurado, e eliminar a possibilidade de erros de instalação e configuração na hora de testarmos os nossos projetos. Pois bem, esse será o nosso primeiro projeto em PHP. Portanto, vamos começar:\n",
    "\n",
    "1. Abra o VSCode.\n",
    "2. Na janela do VSCode, vá em **Arquivo -> Abrir pasta**, ou use a tecla de atalho **Ctrl+K Ctrl+O**:"
   ]
  },
  {
   "cell_type": "markdown",
   "metadata": {},
   "source": [
    "<div style=\"display: flex; justify-content: center\">\n",
    "    <img src=\"../assets/hello-world-01.png\" alt=\"Hello World\" />\n",
    "</div>"
   ]
  },
  {
   "cell_type": "markdown",
   "metadata": {},
   "source": [
    "3. Crie uma pasta no diretório que desejar. Essa pasta irá reunir todos os projetos em PHP daqui para frente:"
   ]
  },
  {
   "cell_type": "markdown",
   "metadata": {},
   "source": [
    "<div style=\"display: flex; justify-content: center\">\n",
    "    <img src=\"../assets/hello-world-02.png\" alt=\"Hello World\" />\n",
    "</div>"
   ]
  },
  {
   "cell_type": "markdown",
   "metadata": {},
   "source": [
    "4. Abra a pasta e crie outra pasta chamada **hello_world**. Depois entre dentro dessa pasta e clique no botão **Selecionar pasta**:"
   ]
  },
  {
   "cell_type": "markdown",
   "metadata": {},
   "source": [
    "<div style=\"display: flex; justify-content: center\">\n",
    "    <img src=\"../assets/hello-world-03.png\" alt=\"Hello World\" />\n",
    "</div>"
   ]
  },
  {
   "cell_type": "markdown",
   "metadata": {},
   "source": [
    "**Obs:** procure nomear as pastas dos seus projetos sem espaços e acentos, pois esses caracteres não são reconhecidos pelo navegador, que é o ambiente onde iremos testar os nossos projetos.\n",
    "\n",
    "5. Se der certo, o VSCode irá abrir o explorador de arquivos dele próprio na pasta **hello_world**, conforme imagem abaixo:"
   ]
  },
  {
   "cell_type": "markdown",
   "metadata": {},
   "source": [
    "<div style=\"display: flex; justify-content: center\">\n",
    "    <img src=\"../assets/hello-world-04.png\" alt=\"Hello World\" />\n",
    "</div>"
   ]
  },
  {
   "cell_type": "markdown",
   "metadata": {},
   "source": [
    "6. Na área do explorador do VSCode, clique com o botão direito do mouse e escolha a opção **Novo arquivo**:"
   ]
  },
  {
   "cell_type": "markdown",
   "metadata": {},
   "source": [
    "<div style=\"display: flex; justify-content: center\">\n",
    "    <img src=\"../assets/hello-world-05.png\" alt=\"Hello World\" />\n",
    "</div>"
   ]
  },
  {
   "cell_type": "markdown",
   "metadata": {},
   "source": [
    "<div style=\"display: flex; justify-content: center\">\n",
    "    <img src=\"../assets/hello-world-06.png\" alt=\"Hello World\" />\n",
    "</div>"
   ]
  },
  {
   "cell_type": "markdown",
   "metadata": {},
   "source": [
    "7. Na caixa de texto que aparecer, digite **index.php**, e finalize com **Enter**:"
   ]
  },
  {
   "cell_type": "markdown",
   "metadata": {},
   "source": [
    "<div style=\"display: flex; justify-content: center\">\n",
    "    <img src=\"../assets/hello-world-07.png\" alt=\"Hello World\" />\n",
    "</div>"
   ]
  },
  {
   "cell_type": "markdown",
   "metadata": {},
   "source": [
    "8. Se der certo, o arquivo index.php irá abrir na parte principal da janela do VSCode:"
   ]
  },
  {
   "cell_type": "markdown",
   "metadata": {},
   "source": [
    "<div style=\"display: flex; justify-content: center\">\n",
    "    <img src=\"../assets/hello-world-08.png\" alt=\"Hello World\" />\n",
    "</div>"
   ]
  },
  {
   "cell_type": "markdown",
   "metadata": {},
   "source": [
    "**Obs:** antes de continuarmos, uma breve explicação: o arquivo que representa a página principal de um sistema web **sempre será chamado de index**. Como nesse caso estamos programando em back-end, o arquivo em questão será o **index.php**."
   ]
  },
  {
   "cell_type": "markdown",
   "metadata": {},
   "source": [
    "## Sintaxe do PHP\n",
    "---\n",
    "\n",
    "Antes de criarmos o nosso primeiro programa, vamos aprender pelo menos o básico da sintaxe da linguagem PHP:\n",
    "\n",
    "1. O símbolo `<?php` marca o início de um código PHP, e o símbolo `?>` marca o fim dele. Portanto, o código-fonte em PHP deverá ser escrito entre esses dois símbolos.\n",
    "2. A linguagem PHP é **sensitive case**, ou seja, ela faz distinção entre maiúsculas e minúsculas. Exemplo: para o PHP, a palavra `casa` é diferente de `Casa`, e ambas são diferente de `CASA`.\n",
    "3. Cada comando é encerrado **obrigatoriamente** por `;` (ponto-e-vírgula). Caso isso não ocorra, o código-fonte inteiro pode dar errado, e o programa pode não funcionar.\n",
    "4. A linguagem consegue entender textos tanto com aspas duplas (`\"`) quanto por aspas simples (`'`).\n",
    "5. A linguagem não é compilada, mas sim interpretada, ou seja, lida e executada por um programa específico. Nesse caso, um servidor lê o código, e o navegador de Internet executa.\n",
    "6. A linguagem entende e se mescla perfeitamente com as linguagens Front-End: HTML, CSS e JavaScript. Isso permite que você possa misturar os códigos."
   ]
  },
  {
   "cell_type": "markdown",
   "metadata": {},
   "source": [
    "## Programa Hello World\n",
    "---\n",
    "\n",
    "Dito isso, vamos escrever o nosso primeiro código em PHP. Escreva no arquivo **index.php** o código-fonte abaixo e salve o arquivo:"
   ]
  },
  {
   "cell_type": "code",
   "execution_count": null,
   "metadata": {
    "vscode": {
     "languageId": "html"
    }
   },
   "outputs": [],
   "source": [
    "<?php\n",
    "    echo \"Alô, mundo!\";\n",
    "?>"
   ]
  },
  {
   "cell_type": "markdown",
   "metadata": {},
   "source": [
    "### Executando o código-fonte\n",
    "\n",
    "Há várias formas de se executar um código-fonte PHP.\n",
    "\n",
    "#### Forma 1\n",
    "\n",
    "A principal delas é ativando o servidor do próprio PHP e depois abrir o navegador e acessar o endereço do servidor. Para isso:\n",
    "\n",
    "1. Abra o terminal na pasta do projeto. Isso pode ser feito diretamente do VSCode indo no menu **Terminal -> Novo terminal**, ou então usando a tecla de atalho **Ctrl+J**:"
   ]
  },
  {
   "cell_type": "markdown",
   "metadata": {},
   "source": [
    "<div style=\"display: flex; justify-content: center\">\n",
    "    <img src=\"../assets/hello-world-09.png\" alt=\"Hello World\" />\n",
    "</div>"
   ]
  },
  {
   "cell_type": "markdown",
   "metadata": {},
   "source": [
    "2. No terminal, digite o comando `php -S localhost:8080` e dê **Enter**. Se aparecer escrito no terminal **Development Server (http://localhost:8080) started**, então deu certo, e o servidor está ligado:"
   ]
  },
  {
   "cell_type": "markdown",
   "metadata": {},
   "source": [
    "<div style=\"display: flex; justify-content: center\">\n",
    "    <img src=\"../assets/hello-world-10.png\" alt=\"Hello World\" />\n",
    "</div>"
   ]
  },
  {
   "cell_type": "markdown",
   "metadata": {},
   "source": [
    "3. Se estiver como na imagem acima, abra o seu navegador de Internet favorito, e na **Barra de Endereços** digite **localhost:8080**, e aperte **Enter**:"
   ]
  },
  {
   "cell_type": "markdown",
   "metadata": {},
   "source": [
    "<div style=\"display: flex; justify-content: center\">\n",
    "    <img src=\"../assets/hello-world-11.png\" alt=\"Hello World\" />\n",
    "</div>"
   ]
  },
  {
   "cell_type": "markdown",
   "metadata": {},
   "source": [
    "4. Se aparecer a página acima, então meus parabéns!!! Deu certo!!! Bola para frente!!! Encerre o servidor no terminal usando a tecla de atalho **Ctrl+C**."
   ]
  },
  {
   "cell_type": "markdown",
   "metadata": {},
   "source": [
    "#### Forma 2\n",
    "\n",
    "Você pode verificar o resultado do seu código-fonte diretamente do VSCode via terminal:\n",
    "\n",
    "1. Clique no botão de play destacado na imagem abaixo ou no drop-down desse botão e escolha a opção **Run PHP file**:"
   ]
  },
  {
   "cell_type": "markdown",
   "metadata": {},
   "source": [
    "<div style=\"display: flex; justify-content: center\">\n",
    "    <img src=\"../assets/hello-world-12.png\" alt=\"Hello World\" />\n",
    "</div>"
   ]
  },
  {
   "cell_type": "markdown",
   "metadata": {},
   "source": [
    "2. Esse procedimento fará o código rodar diretamente no VSCode através do **Console de Depuração**. Caso a saída não apareça, basta acessar o terminal com **Ctrl+J** e acessar a guia **Console de Depuração**:"
   ]
  },
  {
   "cell_type": "markdown",
   "metadata": {},
   "source": [
    "<div style=\"display: flex; justify-content: center\">\n",
    "    <img src=\"../assets/hello-world-13.png\" alt=\"Hello World\" />\n",
    "</div>"
   ]
  },
  {
   "cell_type": "markdown",
   "metadata": {},
   "source": [
    "#### Forma 3\n",
    "\n",
    "Como dito anteriormente, o VSCode traz a vantagem de se instalar os chamados **plug-ins**, que aumentam o número de recursos presentes no VSCode. Há uma extensão chamada **PHP Server** que pode ser instalada para que você possa inicializar o servidor web diretamente do VSCode sem precisar de linha de comando, e com a vantagem do navegador abrir automaticamente.\n",
    "\n",
    "Esse método só irá funcionar se você tiver a extensão instalada no VSCode. Caso contrário, instale agora mesmo:"
   ]
  },
  {
   "cell_type": "markdown",
   "metadata": {},
   "source": [
    "<div style=\"display: flex; justify-content: center\">\n",
    "    <img src=\"../assets/hello-world-14.png\" alt=\"Hello World\" />\n",
    "</div>"
   ]
  },
  {
   "cell_type": "markdown",
   "metadata": {},
   "source": [
    "1. Com a extensão instalada, clique no botão ao lado do botão play para inicializar o servidor. Caso prefira, você pode também clicar com o botão direito em cima do código-fonte, e escolher a opção **PHP Server: Serve Project**:"
   ]
  },
  {
   "cell_type": "markdown",
   "metadata": {},
   "source": [
    "<div style=\"display: flex; justify-content: center\">\n",
    "    <img src=\"../assets/hello-world-15.png\" alt=\"Hello World\" />\n",
    "</div>"
   ]
  },
  {
   "cell_type": "markdown",
   "metadata": {},
   "source": [
    "<div style=\"display: flex; justify-content: center\">\n",
    "    <img src=\"../assets/hello-world-16.png\" alt=\"Hello World\" />\n",
    "</div>"
   ]
  },
  {
   "cell_type": "markdown",
   "metadata": {},
   "source": [
    "2. Em qualquer um dos casos, a própria extensão irá abrir o navegador padrão da máquina assim que o servidor for inicializado, e o resultado será mostrado em uma página web, do jeito que seria em um servidor de hospedagem.\n",
    "3. Após testar o código, feche o navegador e desative o servidor clicando com o botão direito do mouse no código-fonte e escolhendo a opção **PHP Server: Stop server**:"
   ]
  },
  {
   "cell_type": "markdown",
   "metadata": {},
   "source": [
    "<div style=\"display: flex; justify-content: center\">\n",
    "    <img src=\"../assets/hello-world-17.png\" alt=\"Hello World\" />\n",
    "</div>"
   ]
  },
  {
   "cell_type": "markdown",
   "metadata": {},
   "source": [
    "E por hoje é só pessoal. Na próxima aula veremos mais características da linguagem e iremos trabalhar com projetos mais complexos."
   ]
  }
 ],
 "metadata": {
  "language_info": {
   "name": "python"
  }
 },
 "nbformat": 4,
 "nbformat_minor": 2
}
