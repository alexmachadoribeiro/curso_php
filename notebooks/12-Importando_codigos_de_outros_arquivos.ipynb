{
 "cells": [
  {
   "cell_type": "markdown",
   "metadata": {},
   "source": [
    "# **Importando código-fonte de outro arquivo**\n",
    "---"
   ]
  },
  {
   "cell_type": "markdown",
   "metadata": {},
   "source": [
    "## Requisitos da Aula\n",
    "\n",
    "- Funções\n",
    "\n",
    "---"
   ]
  },
  {
   "cell_type": "markdown",
   "metadata": {},
   "source": [
    "Aprendemos na aula passada como criar funções. Mas eventualmente precisaremos criá-las em outros arquivos diferentes, e importá-las para o nosso código-fonte principal. Na aula de hoje, aprenderemos como fazer isso, mas primeiro, vamos contextualizar com uma situação problema."
   ]
  },
  {
   "cell_type": "markdown",
   "metadata": {},
   "source": [
    "#### Programa 01\n",
    "\n",
    "Digamos que nosso cliente quer que criemos um programa que realiza operações básicas da matemática a partir de dois números inteiros e positivos informados pelo usuário. Para isso, vamos começar construindo o nosso front-end:"
   ]
  },
  {
   "cell_type": "markdown",
   "metadata": {
    "vscode": {
     "languageId": "html"
    }
   },
   "source": [
    "##### index.html\n",
    "\n",
    "~~~html\n",
    "<!DOCTYPE html>\n",
    "<html lang=\"pt-br\">\n",
    "    <head>\n",
    "        <meta charset=\"UTF-8\">\n",
    "        <meta name=\"viewport\" content=\"width=device-width, initial-scale=1.0\">\n",
    "        <title>Document</title>\n",
    "    </head>\n",
    "    <body>\n",
    "        <form action=\"result.php\" method=\"post\">\n",
    "            <label for=\"x\">Informe o valor de X:</label><br />\n",
    "            <input type=\"text\" name=\"x\" id=\"x\">\n",
    "            <br />\n",
    "            <br />\n",
    "            <label for=\"y\">Informe o valor de Y:</label><br />\n",
    "            <input type=\"text\" name=\"y\" id=\"y\">\n",
    "            <br />\n",
    "            <br />\n",
    "            <label for=\"operaaco\">Escolha a operação desejada:</label><br />\n",
    "            <select name=\"operacao\" id=\"operacao\">\n",
    "                <option value=\"soma\">Soma</option>\n",
    "                <option value=\"subtracao\">Subtração</option>\n",
    "                <option value=\"multiplicacao\">Multiplicação</option>\n",
    "                <option value=\"divisao\">Divisão</option>\n",
    "                <option value=\"resto\">Resto da Divisão</option>\n",
    "            </select>\n",
    "            <br />\n",
    "            <br />\n",
    "            <button type=\"submit\">Calcular</button>\n",
    "        </form>\n",
    "    </body>\n",
    "</html>\n",
    "~~~"
   ]
  },
  {
   "cell_type": "markdown",
   "metadata": {},
   "source": [
    "Perfeito! Nosso próximo passo será criar as funções do nosso programa. A diferença é que agora iremos criar uma função para cada cálculo, e todas essas funções estarão em um arquivo separado, que vamos chamar de **funcoes.php**, e será criado na mesma pasta raiz do projeto:"
   ]
  },
  {
   "cell_type": "markdown",
   "metadata": {},
   "source": [
    "##### funcoes.php\n",
    "\n",
    "~~~php\n",
    "<?php\n",
    "    // funções\n",
    "    function soma($x, $y) {\n",
    "        return $x + $y;\n",
    "    }\n",
    "\n",
    "    function subtracao($x, $y) {\n",
    "        return $x - $y;\n",
    "    }\n",
    "\n",
    "    function multiplicacao($x, $y) {\n",
    "        return $x * $y;\n",
    "    }\n",
    "\n",
    "    function divisao($x, $y) {\n",
    "        return $x / $y;\n",
    "    }\n",
    "\n",
    "    function resto($x, $y) {\n",
    "        return $x % $y;\n",
    "    }\n",
    "?>\n",
    "~~~"
   ]
  },
  {
   "cell_type": "markdown",
   "metadata": {},
   "source": [
    "Ok. Agora o nosso próximo passo é criar o algoritmo PHP principal. Veja o nosso arquivo **result.php** abaixo:"
   ]
  },
  {
   "cell_type": "markdown",
   "metadata": {},
   "source": [
    "##### result.php\n",
    "\n",
    "~~~php\n",
    "<?php\n",
    "    // declaração de variáveis\n",
    "    $x = $_POST[\"x\"];\n",
    "    $y = $_POST[\"y\"];\n",
    "    $operacao = $_POST[\"operacao\"];\n",
    "\n",
    "    // verifica se os números são positivos\n",
    "    if ($x >= 0 && $y >= 0) {\n",
    "        // verifica o valor da variável \"operacao\"\n",
    "        switch ($operacao) {\n",
    "            case \"soma\":\n",
    "                echo \"O valor da soma é \" . soma($x, $y);\n",
    "                break;\n",
    "            case \"subtracao\":\n",
    "                echo \"O valor da subtração é \" . subtracao($x, $y);\n",
    "                break;\n",
    "            case \"multiplicacao\":\n",
    "                echo \"O valor da multiplicação é \" . multiplicacao($x, $y);\n",
    "                break;\n",
    "            case \"divisao\":\n",
    "                echo \"O valor da divisão é \" . divisao($x, $y);\n",
    "                break;\n",
    "            case \"resto\":\n",
    "                echo \"O valor do resto da divisão é \" . resto($x, $y);\n",
    "                break;\n",
    "        }\n",
    "    }\n",
    "    else echo \"Valores inválidos.\";\n",
    "\n",
    "    // link para voltar para a página anterior\n",
    "    echo '<br /><a href=\"index.html\">Voltar</a>';\n",
    "?>\n",
    "~~~"
   ]
  },
  {
   "cell_type": "markdown",
   "metadata": {},
   "source": [
    "Legal! Os dados serão enviados para **result.php**, mas as funções não serão executadas, e o program dará erro. Isso irá acontecer simplesmente porque não importamos o arquivo **funcoes.php** para o nosso código. Para fazermos isso, precisaremos incluir uma linha logo no início do nosso código. Segue o comando:\n",
    "\n",
    "`include \"funcoes.php\";`\n",
    "\n",
    "Esse comando deverá ser incluído na primeira linha do nosso PHP, e servirá para incluir justamente o nosso arquivo **funcoes.php**. O código-fonte completo de **result.php** segue abaixo:"
   ]
  },
  {
   "cell_type": "markdown",
   "metadata": {},
   "source": [
    "##### result.php\n",
    "\n",
    "~~~php\n",
    "<?php\n",
    "    // inclui arquivo funcoes.php\n",
    "    include \"funcoes.php\";\n",
    "\n",
    "    // declaração de variáveis\n",
    "    $x = $_POST[\"x\"];\n",
    "    $y = $_POST[\"y\"];\n",
    "    $operacao = $_POST[\"operacao\"];\n",
    "\n",
    "    // verifica se os números são positivos\n",
    "    if ($x >= 0 && $y >= 0) {\n",
    "        // verifica o valor da variável \"operacao\"\n",
    "        switch ($operacao) {\n",
    "            case \"soma\":\n",
    "                echo \"O valor da soma é \" . soma($x, $y);\n",
    "                break;\n",
    "            case \"subtracao\":\n",
    "                echo \"O valor da subtração é \" . subtracao($x, $y);\n",
    "                break;\n",
    "            case \"multiplicacao\":\n",
    "                echo \"O valor da multiplicação é \" . multiplicacao($x, $y);\n",
    "                break;\n",
    "            case \"divisao\":\n",
    "                echo \"O valor da divisão é \" . divisao($x, $y);\n",
    "                break;\n",
    "            case \"resto\":\n",
    "                echo \"O valor do resto da divisão é \" . resto($x, $y);\n",
    "                break;\n",
    "        }\n",
    "    }\n",
    "    else echo \"Valores inválidos.\";\n",
    "\n",
    "    // link para voltar para a página anterior\n",
    "    echo '<br /><a href=\"index.html\">Voltar</a>';\n",
    "?>\n",
    "~~~"
   ]
  },
  {
   "cell_type": "markdown",
   "metadata": {},
   "source": [
    "### Formas de fazer a importação de arquivos\n",
    "\n",
    "Você viu que nós usamos o `include` para incluir um arquivo no PHP, mas ele aceita basicamente 4 formas diferentes de se importar arquivos para um código-fonte:\n",
    "\n",
    "- `include`: Inclui e avalia um arquivo, emitindo um alerta se houver erro;\n",
    "- `require`: Inclui um arquivo, emitindo um erro que encerra a execução do script se houver erro;\n",
    "- `include_once`: Inclui e avalia um arquivo apenas uma vez, evitando problemas como redefinição de funções;\n",
    "- `require_once`: Inclui um arquivo apenas uma vez, evitando problemas como redefinição de funções;\n",
    "\n",
    "Aproveite para testar as 4 formas de inclusões de arquivos no algoritmo principal do seu código PHP.\n",
    "\n",
    "Abraços e até a próxima."
   ]
  }
 ],
 "metadata": {
  "language_info": {
   "name": "python"
  }
 },
 "nbformat": 4,
 "nbformat_minor": 2
}
