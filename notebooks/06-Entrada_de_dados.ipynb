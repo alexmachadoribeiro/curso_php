{
 "cells": [
  {
   "cell_type": "markdown",
   "metadata": {},
   "source": [
    "# **Enviando dados para o PHP**\n",
    "---"
   ]
  },
  {
   "cell_type": "markdown",
   "metadata": {},
   "source": [
    "## Requisitos da Aula\n",
    "\n",
    "- Instalação e configuração do PHP\n",
    "- Variáveis\n",
    "- Sólidos conhecimentos em Front-End\n",
    "\n",
    "---"
   ]
  },
  {
   "cell_type": "markdown",
   "metadata": {},
   "source": [
    "Agora que você sabe como o PHP trabalha com os dados, vamos aprender como pedir para o usuário digitar o valor de uma variável, receber esse valor, enviar para o PHP processar e exibir esse valor na tela."
   ]
  },
  {
   "cell_type": "markdown",
   "metadata": {},
   "source": [
    "## Importância do Front-End para o PHP\n",
    "---\n",
    "\n",
    "Mesmo que você decida trabalhar única e exclusivamente com Back-End, o Front-End acaba sendo obrigatório para se trabalhar com o PHP, não só porque ele pode trabalhar (e geralmente trabalha mesmo) muito bem com o HTML, mas principalmente porque o HTML é a Interface com o usuário no caso da linguagem PHP. É justamente o HTML que irá fazer a entrada de dados, utilizando os elementos de formulário para isso, e enviar os dados para que o PHP possa processar. Portanto, precisa saber como o HTML trabalha para conseguir fazer isso.\n",
    "\n",
    "Não é objetivo da aula e nem do curso ensinar Front-End, portanto deduziremos que você já saiba pelo menos o básico de HTML. Para fins didáticos, também evitaremos ao máximo o CSS e o JavaScript, pois o objetivo do curso é apenas ensianr o PHP.\n",
    "\n",
    "Para o nosso primeiro programa que irá receber dados do usuário, vamos criar um algoritmo simples: nossa tarefa será criar um programinha que receberá do usuário seu nome completo, e irá exibir esse nome na tela, e só."
   ]
  },
  {
   "cell_type": "markdown",
   "metadata": {},
   "source": [
    "### Desenvolvendo a tela\n",
    "\n",
    "Para isso, precisaremos de uma tela onde o usuário poderá enviar a informação em questão. E essa tela será desenvovlvida em HTML. E repetindo mais uma vez, nosso foco não é ensinar o HTML, portanto, irei apenas exibir o código-fonte que cria um campo para o usuário digitar, sem maiores explicações.\n",
    "\n",
    "1. Crie uma pasta para o nosso projeto. Vamos chamar a pasta de **nome_do_usuario**.\n",
    "2. Abra a pasta no VSCode, conforme ensinado nas aulas anteriores.\n",
    "3. Crie um arquivo chamado **index.html** nessa pasta (a extensão pode ser em html ou php. Ambos irão funcionar).\n",
    "4. Nesse arquivo, insira o código-fonte abaixo e salve o arquivo:"
   ]
  },
  {
   "cell_type": "markdown",
   "metadata": {
    "vscode": {
     "languageId": "html"
    }
   },
   "source": [
    "##### Código HTML\n",
    "\n",
    "~~~html\n",
    "<!DOCTYPE html>\n",
    "<html lang=\"pt-br\">\n",
    "    <head>\n",
    "        <meta charset=\"UTF-8\">\n",
    "        <meta name=\"viewport\" content=\"width=device-width, initial-scale=1.0\">\n",
    "        <title>Document</title>\n",
    "    </head>\n",
    "    <body>\n",
    "        <h1>Formulário de preenchimento do nome</h1>\n",
    "        <form>\n",
    "            <label for=\"nome\">Nome:</label>\n",
    "            <input type=\"text\" name=\"nome\" id=\"nome\" placeholder=\"Digite seu nome\">\n",
    "            <button type=\"submit\">Enviar</button>\n",
    "        </form>\n",
    "    </body>\n",
    "</html>\n",
    "~~~"
   ]
  },
  {
   "cell_type": "markdown",
   "metadata": {},
   "source": [
    "5. Se tudo tiver sido feito corretamente, o seu VSCode deverá estar mais ou menos assim:"
   ]
  },
  {
   "cell_type": "markdown",
   "metadata": {},
   "source": [
    "<div style=\"display: flex; justify-content: center\">\n",
    "    <img src=\"../assets/entrada_dados_01.png\" alt=\"Entrada de Dados\" />\n",
    "</div>"
   ]
  },
  {
   "cell_type": "markdown",
   "metadata": {},
   "source": [
    "6. Execute seu código da forma que aprendemos nas aulas anteriores, inicializando o servidor. O resultado do front-end deverá ser igual da imagem abaixo:"
   ]
  },
  {
   "cell_type": "markdown",
   "metadata": {},
   "source": [
    "<div style=\"display: flex; justify-content: center\">\n",
    "    <img src=\"../assets/entrada_dados_02.png\" alt=\"Entrada de dados\" />\n",
    "</div>"
   ]
  },
  {
   "cell_type": "markdown",
   "metadata": {},
   "source": [
    "Antes de prosseguirmos, e mesmo que não seja objetivo do curso explicar HTML, precisaremos entender melhor alguns elementos desse código, pois serão necessários lá no código PHP que faremos em breve.\n",
    "\n",
    "O código possui um formulário dentro da *tag* `<form>`. O que a página faz é mostrar ao usuário uma tela de formulário com um campo chamado **Nome** e um botão chamado **Enviar**. O objetivo aqui é criar um código PHP que receba o valor que o usuário digitar no `input type=\"text\"` e ativar esse código quando o usuário clicar no botão Enviar. Assim, o navegador irá redirecionar o usuário para uma outra página que irá mostrar o nome informado no campo.\n",
    "\n",
    "Para que isso funcione, são necessários alguns elementos:\n",
    "\n",
    "- A *tag* `input type=\"text\"` precisa ter, obrigatoriamente, um atributo chamado `name`, cujo valor será nada mais nada menos que o nome do valor que esse campo está representando. Nesse caso, o campo `nome`.\n",
    "- O formulário precisa **submeter** os dados para o processamento, daí a *tag* `button type=\"submit\"`, que é o botão responsável por enviar os dados do usuário informados no front-end para o back-end.\n",
    "- A *tag* `form` está incompleta, pois para o botão submeter os dados, ele precisa saber para onde ele irá enviar esses dados, e isso ele não tem, já que ainda não criamos nosso arquivo PHP.\n",
    "- Antes mesmo de enviarmos os dados para o nosso arquivo PHP, precisaremos indicar **COMO** isso deve ser feito.\n",
    "\n",
    "Logo, iremos precisar de uma breve explicação sobre as formas como um formulário HTML pode enviar os dados através do seu navegador para o Back-End."
   ]
  },
  {
   "cell_type": "markdown",
   "metadata": {},
   "source": [
    "## GET e POST\n",
    "---\n",
    "\n",
    "Existem 2 métodos como as informações podem ser passadas: **GET** e **POST**. No método GET, os dados enviados são visíveis nas URLs, enquanto que no método POST os dados enviados não são visíveis nas URLs, ocultando possíveis importantes informações e permitindo o envio de longas informações. Por esse motivo, **é sempre recomendado que você use nos formulários o método POST sempre que possível, para manter a segurança da sua aplicação**.\n",
    "\n",
    "Dito isso, faremos uma breve alteração no código HTML, mais precisamente na linha onde se inicia o formulário:\n",
    "\n",
    "7. Na linha onde está o comando `<form>`, acrescente o atributo `method=\"post\"`. O código da linha deverá ficar `<form method=\"post\">`, pelo menos por hora (isso será alterado mais para frente, mas por hora, aguardemos).\n",
    "8. O código-fonte do HTML neste momento deverá ser igual ao que está abaixo:"
   ]
  },
  {
   "cell_type": "markdown",
   "metadata": {
    "vscode": {
     "languageId": "html"
    }
   },
   "source": [
    "##### Código HTML\n",
    "\n",
    "~~~html\n",
    "<!DOCTYPE html>\n",
    "<html lang=\"pt-br\">\n",
    "    <head>\n",
    "        <meta charset=\"UTF-8\">\n",
    "        <meta name=\"viewport\" content=\"width=device-width, initial-scale=1.0\">\n",
    "        <title>Document</title>\n",
    "    </head>\n",
    "\n",
    "    <body>\n",
    "        <h1>Formulário de preenchimento do nome</h1>\n",
    "        <form method=\"post\">\n",
    "            <label for=\"nome\">Nome:</label>\n",
    "            <input type=\"text\" name=\"nome\" id=\"nome\" placeholder=\"Digite seu nome\">\n",
    "            <button type=\"submit\">Enviar</button>\n",
    "        </form>\n",
    "    </body>\n",
    "</html>\n",
    "~~~"
   ]
  },
  {
   "cell_type": "markdown",
   "metadata": {},
   "source": [
    "9. A alteração visual aí será nula por enquanto. Há ainda uma outra alteração que deveremos fazer, mas para isso, precisaremos do arquivo PHP, do qual ainda não criamos. Portanto, vamos dar um tempo no arquivo HTML e começar o PHP."
   ]
  },
  {
   "cell_type": "markdown",
   "metadata": {},
   "source": [
    "## Trabalhando com o Back-End\n",
    "---\n",
    "\n",
    "Chegou a hora de criarmos o back-end da aplicação, que será feito com PHP, é claro. Portanto, vamos continuar com o nosso projeto:\n",
    "\n",
    "10. Na mesma pasta do projeto, crie um arquivo PHP. Evite chamá-lo de index desta vez, já que temos outro arquivo fazendo o papel dele. Vamos chamar esse arquivo PHP de **back-end.php**.\n",
    "11. Lembra que indicamos o método de envio de dados no formulário, que no nosso caso é **POST**? Lembra também que o campo de texto onde o usuário irá inserir a informação tem um atributo chamado `name`, que recebe o valor de `nome`, que por sua vez corresponde ao valor que queremos receber do usuário? Então, iremos criar uma variável chamada `$nome`, que irá receber o atributo `name` e o método de envio indicado no formulário. O código é `$nome = $_POST[\"nome\"];`, onde `$nome`é o nome da variável que irá receber o valor, `$_POST` é o método de envio, e `\"nome\"` é o valor do atributo `name` no HTML.\n",
    "12. Essa mesma página PHP irá receber a saída de dados, que será uma mensagem de boas vindas para o usuário. O código-fonte do arquivo PHP completo está logo abaixo:"
   ]
  },
  {
   "cell_type": "markdown",
   "metadata": {},
   "source": [
    "##### Código PHP\n",
    "\n",
    "~~~php\n",
    "<?php\n",
    "    // declaração da variável\n",
    "    $nome = $_POST[\"nome\"];\n",
    "\n",
    "    // saída de dados\n",
    "    echo \"Olá, seja bem-vindo \" . $nome . \".\";\n",
    "?>\n",
    "~~~"
   ]
  },
  {
   "cell_type": "markdown",
   "metadata": {},
   "source": [
    "Agora que finalmente temos o nosso arquivo PHP, precisamos voltar ao HTML para uma última alteração: informar ao formulário para onde ele deverá enviar os dados digitados pelo usuário. Portanto, continue a partir dos passos abaixo:\n",
    "\n",
    "13. O arquivo PHP está finalizado. Volte ao HTML.\n",
    "14. Na linha do `<form method=\"post\">`, precisaremos acrescentar mais um atributo. Ele será o responsável por indicar o caminho para onde o botão deverá submeter os dados do usuário. Acrescente o atributo `action=\"back-end.php\"`, onde `action` é o atributo que informa para onde irá o *submit* do botão, e `\"back-end.php\"` informa o caminho para onde esses dados irão. A linha de comando deverá ficar: `<form method=\"post\" action=\"back-end.php\">`.\n",
    "15. Segue abaixo o código-fonte em HTML final:"
   ]
  },
  {
   "cell_type": "markdown",
   "metadata": {},
   "source": [
    "##### Código HTML\n",
    "\n",
    "~~~html\n",
    "<!DOCTYPE html>\n",
    "<html lang=\"pt-br\">\n",
    "    <head>\n",
    "        <meta charset=\"UTF-8\">\n",
    "        <meta name=\"viewport\" content=\"width=device-width, initial-scale=1.0\">\n",
    "        <title>Document</title>\n",
    "    </head>\n",
    "\n",
    "    <body>\n",
    "        <h1>Formulário de preenchimento do nome</h1>\n",
    "        <form method=\"post\" action=\"back-end.php\">\n",
    "            <label for=\"nome\">Nome:</label>\n",
    "            <input type=\"text\" name=\"nome\" id=\"nome\" placeholder=\"Digite seu nome\">\n",
    "            <button type=\"submit\">Enviar</button>\n",
    "        </form>\n",
    "    </body>\n",
    "</html>\n",
    "~~~"
   ]
  },
  {
   "cell_type": "markdown",
   "metadata": {},
   "source": [
    "16. Nosso programa finalmente está pronto. Para testá-lo, você pode digitar o comando para inicializar o servidor no terminal e testar no navegador, ou pode simplesmente usar a extensão do VSCode para abrir um servidor para você, mas caso escolha essa segunda opção, lembre-se de clicar na guia correspondente ao arquivo HTML antes de inicializar o servidor, pois a aplicação deverá abrir o formulário. Caso inicialize o servidor com a guia do PHP aberta, o navegador retornará um erro.\n",
    "17. Se fizer tudo corretamente, o navegador irá abrir o formulário HTML. Digite o seu nome e clique no botão **Enviar**:"
   ]
  },
  {
   "cell_type": "markdown",
   "metadata": {},
   "source": [
    "<div style=\"display: flex; justify-content: center\">\n",
    "    <img src=\"../assets/entrada_dados_03.png\" alt=\"Entrada de dados\" />\n",
    "</div>"
   ]
  },
  {
   "cell_type": "markdown",
   "metadata": {},
   "source": [
    "18. O resultado final será igual ao da imagem abaixo:"
   ]
  },
  {
   "cell_type": "markdown",
   "metadata": {},
   "source": [
    "<div style=\"display: flex; justify-content: center\">\n",
    "    <img src=\"../assets/entrada_dados_04.png\" alt=\"Entrada de Dados\" />\n",
    "</div>"
   ]
  },
  {
   "cell_type": "markdown",
   "metadata": {},
   "source": [
    "19. O projeto está finalizado, mas caso queira que o usuário volte para a página do formulário, é só adicionar um link no arquivo PHP para que ele possa voltar para a página anterior. Isso pode ser feito introduzindo um código HTML dentro do PHP, e como dito anteriormente, isso é perfeitamente possível. Volte ao código PHP.\n",
    "20. Acrescente ao final do seu código a linha `echo '<br><a href=\"index.html\">Voltar</a>';`.\n",
    "21. O código-fonte PHP deverá ficar igual o que está logo abaixo:"
   ]
  },
  {
   "cell_type": "markdown",
   "metadata": {},
   "source": [
    "##### Código PHP\n",
    "\n",
    "~~~php\n",
    "<?php\n",
    "    // declaração da variável\n",
    "    $nome = $_POST[\"nome\"];\n",
    "\n",
    "    // saída de dados\n",
    "    echo \"Olá, seja bem-vindo \" . $nome . \".\";\n",
    "    echo '<br><a href=\"index.html\">Voltar</a>';\n",
    "?>\n",
    "~~~"
   ]
  },
  {
   "cell_type": "markdown",
   "metadata": {},
   "source": [
    "Meus parabéns! Na próxima aula trabalharemos com estruturas de decisão."
   ]
  }
 ],
 "metadata": {
  "language_info": {
   "name": "python"
  }
 },
 "nbformat": 4,
 "nbformat_minor": 2
}
