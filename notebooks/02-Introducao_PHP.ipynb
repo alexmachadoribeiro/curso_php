{
 "cells": [
  {
   "cell_type": "markdown",
   "metadata": {},
   "source": [
    "# **Introdução ao PHP**\n",
    "---"
   ]
  },
  {
   "cell_type": "markdown",
   "metadata": {},
   "source": [
    "\n",
    "## Requisitos da Aula\n",
    "\n",
    "- Aula Inaugural\n",
    "---"
   ]
  },
  {
   "cell_type": "markdown",
   "metadata": {},
   "source": [
    "Seja bem vindo ao curso de PHP, uma das linguagens Back-End mais populares dos últimos anos. Na aula de hoje, vamos ver uma breve introdução sobre a linguagem, mas primeiro, precisaremos aprender sobre o que é **Back-End**.\n",
    "\n",
    "## O que é Back-End?\n",
    "---\n",
    "\n",
    "Quando um sistema online é implementado, ele geralmente é composto por duas partes distintas: o **Front-End** e o **Back-End**. O Front-End é a parte do sistema que é executado na máquina cliente, exibindo o que o usuário deseja ver, enquanto o Back-End é a parte que roda no servidor por trás do sistema em si, cuidando dos dados e da segurança do sistema. Confuso? Pode ser um pouco, mas vamos destrinchar isso daí. Observe a imagem abaixo:"
   ]
  },
  {
   "cell_type": "markdown",
   "metadata": {},
   "source": [
    "<div style=\"display: flex; justify-content: center\">\n",
    "    <img src=\"../assets/cliente-servidor-web.png\" alt=\"Cliente-Servidor\" />\n",
    "</div>"
   ]
  },
  {
   "cell_type": "markdown",
   "metadata": {},
   "source": [
    "Essa gravura descreve como funciona uma aplicação web:\n",
    "\n",
    "1. Um usuário acessa, por exemplo, uma tela de login de um sistema, seja no desktop, em um notebook ou em um aparelho mobile, como o smartphone ou tablet.\n",
    "2. A tela de login é o que chamamos de **Front-End** da aplicação, que exibe um formulário de preenchimento de usuário e senha, e um botão para o usuário clicar após o preenchimento das informações.\n",
    "3. O usuário preenche as informações e clica no botão.\n",
    "4. Quando o usuário clicou no botão, a aplicação faz uma requisição de acesso e envia para o servidor web onde a aplicação está hospedada através da Internet.\n",
    "5. Se no meio do caminho não ocorrer nenhuma interferência, o servidor web recebe os pacotes com a requisição do usuário, e acessa a parte do sistema responsável pelo controle de acesso, que chamamos de **Back-End**, que permanece funcionando dentro do servidor.\n",
    "6. O Back-End da aplicação solicita uma outra requisição para um outro servidor, onde estão armazenados os dados do usuário. É nesse servidor onde está hospedado o **Banco de Dados** da aplicação, onde será feito a consulta dos dados.\n",
    "7. Após a consulta ser realizada pelo back-end da aplicação, o servidor de banco de dados retorna com a resposta, seja ela positiva ou negativa.\n",
    "8. O back-end da aplicação recebe a resposta do servidor de banco de dados e verifica se a resposta foi positiva ou negativa.\n",
    "9. Em caso de resposta positiva, o servidor web trata os dados consultados para uma melhor exibição no front-end, e libera o acesso do usuário ao restante do sistema. Em caso de resposta negativa, o servidor nega o acesso do usuário e prepara uma mensagem para ser exibida para o usuário.\n",
    "10. Independente da resposta, o back-end envia os pacotes com essa resposta para o endereço da máquina do usuário pela Internet.\n",
    "11. Caso não ocorra interferências no meio do caminho, a resposta, seja ela qual for, chegará ao aparelho do usuário.\n",
    "12. Ao receber a resposta, o front-end da aplicação recebe e exibe a informação na tela.\n",
    "\n",
    "Como sabemos, o Front-End da aplicação é formada pelo conjunto **HTML**, **CSS** e **JavaScript**. Juntos, eles são responsáveis pelas telas que o usuário navega no computador. Essa parte sempre é executada no próprio computador do usuário, mesmo que seja uma aplicação web, já que, ao acessar uma URL, o navegador faz o download da página acessada, onde fica armazenada em um local temporário conhecido como **histórico**, e alguns dados do acesso ficam gravados no navegador em outra área temporária chamada de **cache do navegador**.\n",
    "\n",
    "Porém, existem certas informações, como por exemplo os dados do usuário, que poderão de alguma forma ser usados muito futuramente, seja na máquina do próprio usuário, mesmo depois que os dados temporários do sistema tenham sido apagados, seja em outra máquina, onde o usuário precisará acessar seus dados no sistema. Esses dados ficam guardados em uma outra máquina, que é o **servidor de banco de dados**.\n",
    "\n",
    "Mas para consultar e manipular esses dados, é necessário uma outra parte do sistema, armazenada em um servidor web. Essa parte do sistema é responsável por realizar as consultas no banco de dados como pela parte de segurança do sistema. Essa parte, juntamente com o banco de dados, constituem o que chamamos de **Back-End**, que é a parte que roda exclusivamente nos servidores, e não na máquina do usuário.\n",
    "\n",
    "Essa parte do sistema é programada geralmente com uma linguagem de programação que trabalhe bem com o back-end. Uma das mais usadas para isso é justamente o **PHP**. Em outras palavras, você está estudando o PHP para que possa trabalhar com o back-end das aplicações, programando o sistema para realizar consultas no banco e para proteger os dados do usuário."
   ]
  },
  {
   "cell_type": "markdown",
   "metadata": {},
   "source": [
    "## O que é o PHP?\n",
    "---\n",
    "\n",
    "O **PHP Hyper Processor**, que em seu início era chamado de **Personal Home Page** é uma linguagem de programação voltada para web, ou seja, para a construção de sistemas que rodam em navegadores de Internet, e é exclusivamente **Back-End**, ou seja, funciona unica e exclusivamente em servidores, e por esse motivo, é uma das linguagens de programação back-end mais populares que existem até hoje.\n",
    "\n",
    "A linguagem foi criada com o objetivo de ser uma linguagem rápida de escrever e com poucas instruções, e mesmo sendo obrigatoriamente back-end, se integra muito facilmente ao HTML e ao JavaScript, podendo manipular também o front-end com facilidade. É também uma das linguagens mais fáceis de se trabalhar com o acesso ao Banco de Dados, daí vem boa parte da sua popularidade.\n",
    "\n",
    "Entre as características da linguagem, possui suporte tanto ao paradigma da linguagem estrturada quanto à programação orientada a objetos. É **case sensitive** (letras minúsculas são diferentes das maiúsculas), interpretada e não tipada. A execução do seu código-fonte se dá única e exclusivamente inicializando o servidor, porém, a visualização do resultado do código se dá pelo navegador. Para isso, o navegador deverá acessar o endereço da aplicação no servidor. Caso o servidor web seja local, o endereço será sempre **127.0.0.1/**, seguido do nome da pasta onde está armazenada a aplicação. Caso o arquivo PHP seja aberto diretamente pelo navegador na pasta, o navegador irá exibir o código-fonte ao invés do resultado.\n",
    "\n",
    "No momento da elaboração dessa apostila, a linguagem se encontrava na versão **8.4.3**."
   ]
  },
  {
   "cell_type": "markdown",
   "metadata": {},
   "source": [
    "## História do PHP\n",
    "---\n",
    "\n",
    "### PHP Tools, FI, Kit de Construção, e PHP/FI ¶\n",
    "\n",
    "O PHP como é conhecido hoje, é na verdade o sucessor para um produto chamado PHP/FI. Criado em 1994 por Rasmus Lerdof, a primeira encarnação do PHP foi um simples conjunto de binários Common Gateway Interface (CGI) escrito em linguagem de programação C. Originalmente usado para acompanhamento de visitas para seu currículo online, ele nomeou o conjunto de scripts de \"Personal Home Page Tools\" mais frequentemente referenciado como \"PHP Tools.\" Ao longo do tempo, mais funcionalidades foram desejadas, e Rasmus reescreveu o PHP Tools, produzindo uma implementação maior e mais rica. Este novo modelo foi capaz de interações com Banco de Dados e mais, fornecendo uma estrutura na qual os usuários poderiam desenvolver aplicações web simples e dinâmicas, como um livros de visitas. Em junho de 1995, Rasmus » liberou o código fonte do PHP Tools para o público, o que permitiu que desenvolvedores usassem da forma como desejassem. Isso permitiu - e encorajou - usuários a fornecerem correções para problemas no código, e em geral, aperfeiçoá-lo.\n",
    "\n",
    "Em setembro do mesmo ano, Rasmus expandiu o PHP e - por um breve período - mudou o nome PHP. Agora referindo-se a ferramenta como FI, abreviação para \"Forms Interpreter\", a nova implementação incluiu algumas funcionalidades básicas do PHP como bem conhecemos hoje. Tinha variáveis no estilo Perl, interpretação automática de variáveis de formulários, e sintaxe HTML embutida. A sintaxe em si era muito similar à do Perl, porém muito mais limitada, simples, e um pouco inconsistente. De fato, para embutir o código em um arquivo HTML, desenvolvedores tinham que usar comentários HTML. Embora este método não tenha sido inteiramente bem-recebido, FI continuou a desfrutar um crescimento e uma aceitação como uma ferramente CGI --- mas ainda não como uma linguagem. Contudo, isso começou a mudar no mês seguinte; em outubro de 1995 Rasmus liberou um completa reescrita do código. Trazendo de volta o nome PHP, estava agora (brevemente) nomeado como \"Personal Home Page Contruction Kit\" e foi o primeiro lançamento a vangloriar-se de que era, na época, considerado um script avançado de interface. A linguagem foi desenvolvida para, deliberadamente, ser parecida com C, tornando-a fácil de ser adotada por desenvolvedores habituados com C, Perl e linguagens similares. Tendo sido até este momento exclusiva para sistemas UNIX e sistemas compatíveis com POSIX, o potencial para uma implementação em um Windows NT começava a ser explorada.\n",
    "\n",
    "O código tem outra reforma completa, e em abril de 1996, combinando os nomes dos últimos lançamentos, Rasmus introduziu o PHP/FI. Esta segunda geração da implementação começou realmente a evoluir o PHP a partir de um conjunto de ferramentas para sua própria linguagem de programação. Ele incluía suporte embutido aos banco de dados DBM, mSQL, e Postgres95, cookies, funções de apoio definidas pelo usuário, e muito mais. Em junho, o PHP/FI ganhou o status de versão 2.0. Um interessante fato sobre isso, porém, é que existia apenas um única completa versão do PHP 2.0. Quando finalmente se tornou um status beta em novembro de 1997, o mecanismo de análise subjacente já estava inteiramente reescrito.\n",
    "\n",
    "Apesar de ter tido um curto período de desenvolvimento, ele continuava a defrutar de uma crescente popularidade em um mundo web ainda jovem e em desenvolvimento. Em 1997 e 1998, PHP/FI teve o apoio de milhares de usuários ao redor do mundo. Uma pesquisa da Netcraft em maio de 1998 indicou que cerca de 60.000 domínios relataram ter cabeçalhos contendo \"PHP\", indicando que o servidor de hospedagem de fato tinha o PHP instalado. Este número pode ser equiparado com aproximadamente 1% de todos os domínios da Internet da época. Apesar destes números impressionantes, o amadurecimento do PHP/FI foi condenado a limitações; enquanto havia vários contribuintes menores, ainda era desenvolvido principalmente por uma única pessoa."
   ]
  },
  {
   "cell_type": "markdown",
   "metadata": {},
   "source": [
    "### PHP 3\n",
    "\n",
    "PHP 3.0 foi a primeira versão que se assemelhava com o PHP como existe hoje. PHP/FI encontrava-se ainda ineficiente e não tinha os recursos que precisavam para prover uma aplicação de comércio eletrônico que estavam desenvolvendo para um projeto da Universidade. Andi Gutmans e Zeev Suraski de Tel Aviv, Israel, começaram outra completa reescrita do interpretador em 1997. Abordando Rasmus online, eles discutiram vários aspectos para a implementação e o redesenvolvimento do PHP. Em um esforço para melhorar o mecanismo e iniciar a construção sobre a base de usuários existentes do PHP/FI, Andi, Rasmus, e Zeev decidiram colaborar no desenvolvimento de uma linguagem de programação nova e independente. Essa nova linguagem foi lançada com um novo nome, que removeu a impressão do uso pessoal limitado que o nome PHP/FI 2.0 tinha mantido. Foi renomeado simplesmente para 'PHP', com o significado se tornando um acrônimo recursivo - PHP: Hypertext Preprocessor.\n",
    "\n",
    "Um dos maiores pontos fortes do PHP 3.0 foram os fortes recursos de extensibilidade. Além de fornecer a usuários finais uma interface robusta para múltiplos banco de dados, protocolos e APIs, a facilidade de estender a sua própria linguagem atraiu dezenas de desenvolvedores que submeteram uma variedade de módulos. Indiscutivelmente, esta foi a chave para o PHP 3.0 ter sido um tremendo sucesso. Outro recurso chave introduzido no PHP 3.0 foi o suporte à programação orientada a objeto e a uma mais poderosa e consistentes sintaxes de linguagem.\n",
    "\n",
    "Em junho de 1998, com muitos novos desenvolvedores ao redor do mundo unindo esforços, o PHP 3.0 foi anunciado pelo novo time de desenvolvimento como o sucessor oficial para o PHP/FI 2.0. As melhorias no PHP/FI 2.0, cessaram em novembro do ano anterior e ele foi oficialmente finalizado. Depois de nove meses de testes abertos ao público, quando o anúncio do lançamento oficial do PHP 3.0 chegou, prontamente foi instalado em 70.000 domínios em todo mundo, e já não era mais limitado ao sistemas operacionais compatíveis com o POSIX. Uma parcela relativamente pequena de domínios informaram que o PHP foi instalado em servidores executando Windows 95, 98 e NT e Macintosh. Em seu pico, o PHP 3.0 foi instalado em aproximadamente 10% dos servidores web da internet."
   ]
  },
  {
   "cell_type": "markdown",
   "metadata": {},
   "source": [
    "### PHP 4\n",
    "\n",
    "No inverno de 1998, logo após o PHP 3.0 ter sido oficialmente lançado, Andi Gutmans e Zeev Suraski começaram a trabalhar em uma reescrita do núcleo do PHP. Os objetivos do projeto eram melhorar o desempenho das aplicações complexas e melhorar a modularização do código base do PHP. Tais aplicações só foram possíveis pelos novos recursos e suporte a uma ampla variedade de bancos de dados de terceiros e APIs do PHP 3.0, mas o PHP 3.0 não foi projetado para trabalhar com aplicações complexas de forma eficiente.\n",
    "\n",
    "O novo mecanismo, chamado 'Zend Engine' (composto pelos primeiros nome, Zeev e Andi), alcançou os objetivos do projeto com sucesso e foi introduzido em meados de 1999. O PHP 4.0, baseado neste mecanismo e com uma variedade de novos recursos adicionais, foi oficialmente lançado em maio de 2000, quase dois anos após seu antecessor. Além da altíssima melhoria de desempenho nesta versão, o PHP 4.0 incluiu outros recursos chaves, tais como suporte para maioria dos servidores web, sessões HTTP, saídas com buffer, mais maneiras seguras de manipular dados de entrada de usuários e diversas novas construções de linguagem."
   ]
  },
  {
   "cell_type": "markdown",
   "metadata": {},
   "source": [
    "### PHP 5\n",
    "\n",
    "O PHP 5 foi lançado em julho de 2004 após um longo desenvolvimento e vários pré-lançamentos. Foi impulsionado principalmente pelo seu núcleo, o Zend Engine 2.0, com um novo modelo de objeto e dezenas de outros novos recursos.\n",
    "\n",
    "O time de desenvolvimento do PHP incluiu dezenas de desenvolvedores, também dezenas de outros trabalhando em algo relacionado ao PHP e apoio a projetos como PEAR, PECL, documentação, infra-estrutura de rede subjacente de bem mais de uma centena de servidores web, em seis dos sete continentes do mundo. Embora seja apenas uma estimativa baseada em estatísticas de anos anteriores, é seguro presumir que o PHP estaria instalado em dezenas, ou mesmo talvez centenas, de milhões de domínios em todo o mundo."
   ]
  },
  {
   "cell_type": "markdown",
   "metadata": {},
   "source": [
    "### PHP 6\n",
    "\n",
    "O plano para o PHP 6 era fornecer suporte total para Unicode tanto no mecanismo quanto na linguagem. Este trabalho foi abandonado mais tarde, porém outros recursos que estavam projetados para o PHP 6 foram incorporados ao PHP 5.3 (namespaces) e ao PHP 5.4 (trait e sintaxe \"curta\" de array)."
   ]
  },
  {
   "cell_type": "markdown",
   "metadata": {},
   "source": [
    "### PHP 7\n",
    "\n",
    "O PHP 7.0 foi lançado em 2015 e apresentou outra versão principal do núcleo, Zend Engine 3.0, que incluiu melhorias significativas de desempenho (até duas vezes mais rápido que o PHP 5.6) e de uso de memória, suporte consistente a 64 bits, melhorias em exceções, um gerador de números aleatórios seguro, o operador de coalescência nula (??), classes anônimas, e outros recursos.\n",
    "\n",
    "Versões posteriores da série do PHP 7 introduziram mais recursos de linguagem tais como a sintaxe de lista curta (7.1), parâmetro de objeto e declaração de tipo de retorno (7.2), um novo heredoc flexível e a sintaxe nowdoc (7.3), propriedades tipadas (7.4), e uma nova interface para funções externas (7.4)."
   ]
  },
  {
   "cell_type": "markdown",
   "metadata": {},
   "source": [
    "### PHP 8\n",
    "\n",
    "Lançado em 2020, o PHP 8 foi outra grande atualização da linguagem. Continha muitos novos recursos e otimizações incluindo argumentos nomeados, tipos de união, atributos, promoção de propriedade de construtor, expressões match, o operador nulo seguro (?->), um novo compilador JIT otimizante e melhorias no sistema de tipagem, na manipulação de erros e na consistência.\n",
    "\n",
    "Versões posteriores da série do PHP 8 introduziram novos recursos de linguagem incluindo enumerações (8.1), fibers (8.1), classes somente-leitura (8.2), Tipos de Forma Normal Disjuntiva (DNF) (8.2), e constantes de classe tipadas (8.3)."
   ]
  },
  {
   "cell_type": "markdown",
   "metadata": {},
   "source": [
    "Na próxima aula, iremos aprender sobre como instalar o PHP e rodar o código-fonte no servidor."
   ]
  }
 ],
 "metadata": {
  "language_info": {
   "name": "python"
  }
 },
 "nbformat": 4,
 "nbformat_minor": 2
}
