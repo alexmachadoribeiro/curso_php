{
 "cells": [
  {
   "cell_type": "markdown",
   "metadata": {},
   "source": [
    "# **Conectando o PHP com o Banco de Dados**\n",
    "---"
   ]
  },
  {
   "cell_type": "markdown",
   "metadata": {},
   "source": [
    "## Requisitos da Aula\n",
    "\n",
    "- Variáveis\n",
    "- Entrada de dados\n",
    "- Estruturas de decisão\n",
    "- Arrays\n",
    "- Funções\n",
    "- Importando códigos de outros arquivos\n",
    "\n",
    "---"
   ]
  },
  {
   "cell_type": "markdown",
   "metadata": {},
   "source": [
    "Sabemos que o PHP é uma linguagem Back-End. Isso significa que não só é possível, como é necessário que o desenvolvedor faça um algoritmo de conexão com o banco de dados da sua aplicação. Na verdade, é esse o principal objetivo de se aprender o PHP, afinal, como vimos nas primeiras aulas, o PHP é o meio termo entre o front-end da aplicação e o banco de dados. Logo, se o desenvolvedor escolhe o PHP para desenvolver sua aplicação, é porque ele precisa obrigatoriamente do banco de dados.\n",
    "\n",
    "Mas primeiro, uma breve explicação sobre o que é um banco de dados."
   ]
  },
  {
   "cell_type": "markdown",
   "metadata": {},
   "source": [
    "## Conceito de Banco de Dados\n",
    "---\n",
    "\n",
    "Um banco de dados é basicamente um local (físico), onde dados de todos os tipos são armazenados. Quando falamos em sistemas informáticos, esses dados são armazenados em uma máquina conhecida como **Servidor**, e são gerenciados por um software instalado nesse servidor. Esse software é chamado de **Sistema Gerenciador de Banco de Dados**, também conhecido como **SGBD**, e podem ser de dois tipos:\n",
    "\n",
    "- **Relacionais**: são SGBDs em que os dados são armazenados em várias **tabela**s, que estão **relacionadas entre si**. Esse tipo de SGBD usa uma linguagem conhecida como **Structured Query Language** (Linguagem de Consulta Estruturada), também conhecida como **SQL**.\n",
    "- **Não relacionais**: são SGBDs em que os dados são armazenados dentro do que chamamos de **documentos**, que são aecssados através de objetos conhecidos como **JavaScript Object Notation** (Objeto de Notação JavaScript), também conhecidos como **JSON**. Esse tipo de SGBD costuma evitar o uso de SQL.\n",
    "\n",
    "Para este curso, o foco será em SGBDs do tipo **relacionais**, mais precisamente o SGBD **MySQL**."
   ]
  },
  {
   "cell_type": "markdown",
   "metadata": {},
   "source": [
    "### Banco de Dados Relacionais\n",
    "\n",
    "Os banco de dados relacionais são chamados assim porque os dados são guardados dentro de tabelas, dos quais são chamados de **entidades**, que possuem alguma relação entre si.\n",
    "\n",
    "Funciona assim:\n",
    "\n",
    "Em um banco de dados relacional, utilizamos o conceito de **Entidades**. Uma entidade é nada mais nada menos do que algo que existe. Simples assim: se uma coisa existe, então ele é uma entidade, e essa entidade é definida pelo que chamamosde **Atributos**, que nada mais são do que valores.\n",
    "\n",
    "Quando um banco de dados é criado no ambiente físico, as entidades passam a ser representadas pelas tabelas, onde cada tabela representa uma entidade. Os atributos dessa entidade são exatamente os campos que desejamos cadastrar em um banco. Na tabela, os atributos são representados pelas colunas das tabelas.\n",
    "\n",
    "Após o banco de dados ser criado no servidor, começa finalmente a alimentação do banco, que é nada mais do que o ato de inserir dados no banco. Isso é feito inserindo cada dado em seu respectivo campo. Ao executar o comando de inserir esses dados, uma nova linha da tabela é adicionada. Essa linha corresponde a um **registro** na tabela, e também é conhecida como **tupla**.\n",
    "\n",
    "Esses registros são ordenados por um campo específico, que chamamos de **Chave Primária**. Cada tabela tem a sua própria chave primária. Mas um único banco de dados não possui somente uma tabela, mas sim várias, que são interligadas por outro campo que chamamos de **chave estrangeira**. O campo que indica uma chave estrangeira em uma tabela representa um campo de outra tabela, onde nessa outra tabela ela representa uma chave primária. Dessa forma, os dados de uma tabela são interligados em outra tabela do mesmo banco.\n",
    "\n",
    "Esse é basicamente o resumo do conceito de um banco de dados relacional, mas continuando...\n",
    "\n",
    "Tudo isso é feito em um programa que chamamos de SGBD, como você já sabe. Existem vários SGBDs no mercado, sendo um dos mais famosos, e que será utilizado aqui no curso, o **MySQL**, e é dentro desse programa que criaremos nosso banco e nossas tabelas.\n",
    "\n",
    "Cada operação envolvendo um banco do tipo relacional, seja criação de tabela, inserção de registro, consultas de registros, entre outros, é feita através da linguagem SQL. Normalmente, essa linguagem é manipulada por um **Administrador de Banco de Dados**, também conhecido como **DBA**, mas esses comandos podem ser automatizados para serem executados por uma aplicação, sem que o usuário precise dominar os complicados comandos SQL, e é **exatamente aí onde entra o PHP na história**.\n",
    "\n",
    "O que o PHP faz é executar esses comandos diretamente no banco no lugar do usuário, para que ele não precise saber a parte técnica por trás do funcionamento de um sistema web. O usuário preenche os dados ou faz o pedido por uma requisição e aperta o botão na tela, que foi desenvolvido em HTML. O botão, que está no front-end, envia uma requisição pela Internet até o servidor de hospedagem, onde se encontra o back-end da aplicação, que é nada mais do que o código PHP. Esse código recebe os dados e armazena-os em variáveis, conforme visto nas aulas anteriores. As variáveis são, por sua vez, enviadas para funções desenvolvidas no PHP onde se encontram instruções para executar consultas SQL. Essas consultas serão enviadas a outro servidor, o de banco de dados, onde se encontra instalado o SGBD, que irá executar a consulta desejada e retornar os dados para o PHP, que por sua vez irá enviar esses dados para o front-end da aplicação. E é isso."
   ]
  }
 ],
 "metadata": {
  "language_info": {
   "name": "python"
  }
 },
 "nbformat": 4,
 "nbformat_minor": 2
}
