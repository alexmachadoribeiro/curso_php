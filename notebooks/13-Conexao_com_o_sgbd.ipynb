{
 "cells": [
  {
   "cell_type": "markdown",
   "metadata": {},
   "source": [
    "# **Conectando o PHP com o Banco de Dados**\n",
    "---"
   ]
  },
  {
   "cell_type": "markdown",
   "metadata": {},
   "source": [
    "## Requisitos da Aula\n",
    "\n",
    "- Variáveis\n",
    "- Entrada de dados\n",
    "- Estruturas de decisão\n",
    "- Arrays\n",
    "- Funções\n",
    "- Importando códigos de outros arquivos\n",
    "\n",
    "---"
   ]
  },
  {
   "cell_type": "markdown",
   "metadata": {},
   "source": [
    "Sabemos que o PHP é uma linguagem Back-End. Isso significa que não só é possível, como é necessário que o desenvolvedor faça um algoritmo de conexão com o banco de dados da sua aplicação. Na verdade, é esse o principal objetivo de se aprender o PHP, afinal, como vimos nas primeiras aulas, o PHP é o meio termo entre o front-end da aplicação e o banco de dados. Logo, se o desenvolvedor escolhe o PHP para desenvolver sua aplicação, é porque ele precisa obrigatoriamente do banco de dados.\n",
    "\n",
    "Mas primeiro, uma breve explicação sobre o que é um banco de dados."
   ]
  },
  {
   "cell_type": "markdown",
   "metadata": {},
   "source": [
    "## Conceito de Banco de Dados\n",
    "---\n",
    "\n",
    "Um banco de dados é basicamente um local (físico), onde dados de todos os tipos são armazenados. Quando falamos em sistemas informáticos, esses dados são armazenados em uma máquina conhecida como **Servidor**, e são gerenciados por um software instalado nesse servidor. Esse software é chamado de **Sistema Gerenciador de Banco de Dados**, também conhecido como **SGBD**, e podem ser de dois tipos:\n",
    "\n",
    "- **Relacionais**: são SGBDs em que os dados são armazenados em várias **tabela**s, que estão **relacionadas entre si**. Esse tipo de SGBD usa uma linguagem conhecida como **Structured Query Language** (Linguagem de Consulta Estruturada), também conhecida como **SQL**.\n",
    "- **Não relacionais**: são SGBDs em que os dados são armazenados dentro do que chamamos de **documentos**, que são aecssados através de objetos conhecidos como **JavaScript Object Notation** (Objeto de Notação JavaScript), também conhecidos como **JSON**. Esse tipo de SGBD costuma evitar o uso de SQL.\n",
    "\n",
    "Para este curso, o foco será em SGBDs do tipo **relacionais**, mais precisamente o SGBD **MySQL**."
   ]
  },
  {
   "cell_type": "markdown",
   "metadata": {},
   "source": [
    "### Banco de Dados Relacionais\n",
    "\n",
    "Os banco de dados relacionais são chamados assim porque os dados são guardados dentro de tabelas, dos quais são chamados de **entidades**, que possuem alguma relação entre si.\n",
    "\n",
    "Funciona assim:\n",
    "\n",
    "Em um banco de dados relacional, utilizamos o conceito de **Entidades**. Uma entidade é nada mais nada menos do que algo que existe. Simples assim: se uma coisa existe, então ele é uma entidade, e essa entidade é definida pelo que chamamosde **Atributos**, que nada mais são do que valores.\n",
    "\n",
    "Quando um banco de dados é criado no ambiente físico, as entidades passam a ser representadas pelas tabelas, onde cada tabela representa uma entidade. Os atributos dessa entidade são exatamente os campos que desejamos cadastrar em um banco. Na tabela, os atributos são representados pelas colunas das tabelas.\n",
    "\n",
    "Após o banco de dados ser criado no servidor, começa finalmente a alimentação do banco, que é nada mais do que o ato de inserir dados no banco. Isso é feito inserindo cada dado em seu respectivo campo. Ao executar o comando de inserir esses dados, uma nova linha da tabela é adicionada. Essa linha corresponde a um **registro** na tabela, e também é conhecida como **tupla**.\n",
    "\n",
    "Esses registros são ordenados por um campo específico, que chamamos de **Chave Primária**. Cada tabela tem a sua própria chave primária. Mas um único banco de dados não possui somente uma tabela, mas sim várias, que são interligadas por outro campo que chamamos de **chave estrangeira**. O campo que indica uma chave estrangeira em uma tabela representa um campo de outra tabela, onde nessa outra tabela ela representa uma chave primária. Dessa forma, os dados de uma tabela são interligados em outra tabela do mesmo banco.\n",
    "\n",
    "Esse é basicamente o resumo do conceito de um banco de dados relacional, mas continuando...\n",
    "\n",
    "Tudo isso é feito em um programa que chamamos de SGBD, como você já sabe. Existem vários SGBDs no mercado, sendo um dos mais famosos, e que será utilizado aqui no curso, o **MySQL**, e é dentro desse programa que criaremos nosso banco e nossas tabelas.\n",
    "\n",
    "Cada operação envolvendo um banco do tipo relacional, seja criação de tabela, inserção de registro, consultas de registros, entre outros, é feita através da linguagem SQL. Normalmente, essa linguagem é manipulada por um **Administrador de Banco de Dados**, também conhecido como **DBA**, mas esses comandos podem ser automatizados para serem executados por uma aplicação, sem que o usuário precise dominar os complicados comandos SQL, e é **exatamente aí onde entra o PHP na história**.\n",
    "\n",
    "O que o PHP faz é executar esses comandos diretamente no banco no lugar do usuário, para que ele não precise saber a parte técnica por trás do funcionamento de um sistema web. O usuário preenche os dados ou faz o pedido por uma requisição e aperta o botão na tela, que foi desenvolvido em HTML. O botão, que está no front-end, envia uma requisição pela Internet até o servidor de hospedagem, onde se encontra o back-end da aplicação, que é nada mais do que o código PHP. Esse código recebe os dados e armazena-os em variáveis, conforme visto nas aulas anteriores. As variáveis são, por sua vez, enviadas para funções desenvolvidas no PHP onde se encontram instruções para executar consultas SQL. Essas consultas serão enviadas a outro servidor, o de banco de dados, onde se encontra instalado o SGBD, que irá executar a consulta desejada e retornar os dados para o PHP, que por sua vez irá enviar esses dados para o front-end da aplicação. E é isso."
   ]
  },
  {
   "cell_type": "markdown",
   "metadata": {},
   "source": [
    "## PDO - PHP Data Objects\n",
    "---\n",
    "\n",
    "O **PHP Data Objects**, mais conhecido como **PDO**, é uma API que define uma interface de conexão a banco de dados leve e consistente para PHP. Há a possibilidade de utilização de diversos drivers de conexão que implementam a interface do PDO para vários tipos de bancos de dados.\n",
    "\n",
    "Como o PDO representa uma camada de abstração de acesso aos dados, as mesmas funções utilizadas para manipular dados ou recuperar informações do banco serão as mesmas, independentemente do banco de dados que esteja sendo usado. O PDO é uma API robusta que pode ser usada, independentemente do driver que você estiver usando."
   ]
  },
  {
   "cell_type": "markdown",
   "metadata": {},
   "source": [
    "#### Programa 01\n",
    "\n",
    "Vamos criar um programa simples, que se conecta a um banco de dados já existente e insere um registro.\n",
    "\n",
    "O primeiro passo é criar o banco. Como o intuito do curso não é ensinar banco de dados, não entraremos em detalhes sobre como utilizar o SGBD, nem a linguagem SQL. Vamos apenas mostrar o script para criar o nosso banco. No nosso tutorial será utilizado o SGBD **MySQL**.\n",
    "\n",
    "O programa que faremos agora será um simples programa de cadastro de usuário simples, cujos dados serão: Nome, e-mail e Profissão. Nada mais.\n",
    "\n",
    "Para isso, teremos que criar um banco com uma única entidade: Usuário, com os atributos: ID Usuário (que será a nossa chave primária), Nome, E-mail e Profissão. Não faremos mais tabelas além dessa.\n",
    "\n",
    "Segue abaixo o modelo lógico do banco:"
   ]
  },
  {
   "cell_type": "markdown",
   "metadata": {},
   "source": [
    "<div style=\"display: flex; justify-content: center\">\n",
    "    <img src=\"../assets/13-01-logico-01.png\" alt=\"Programa 01 Modelo Lógico do Banco\" />\n",
    "</div>"
   ]
  },
  {
   "cell_type": "markdown",
   "metadata": {},
   "source": [
    "Com base nessa tabela iremos criar o nosso SQL. Segue o código-fonte do SQL. O nome do nosso banco será cadastro:"
   ]
  },
  {
   "cell_type": "markdown",
   "metadata": {
    "vscode": {
     "languageId": "sql"
    }
   },
   "source": [
    "##### script.sql\n",
    "\n",
    "~~~sql\n",
    "-- cria o banco cadastro\n",
    "CREATE DATABASE IF NOT EXISTS cadastro;\n",
    "\n",
    "-- seleciona o banco\n",
    "USE cadastro;\n",
    "\n",
    "-- cria a tabela usuario\n",
    "CREATE TABLE IF NOT EXISTS Usuario (\n",
    "    id_usuario INT AUTO_INCREMENT,\n",
    "    nome VARCHAR(255) NOT NULL,\n",
    "    email VARCHAR(255) NOT NULL UNIQUE,\n",
    "    profissao VARCHAR(45),\n",
    "    PRIMARY KEY (id_usuario)\n",
    ");\n",
    "~~~"
   ]
  },
  {
   "cell_type": "markdown",
   "metadata": {},
   "source": [
    "O arquivo com esse código-fonte deverá ser executado dentro do SGBD para que o nosso sistema funcione.\n",
    "\n",
    "Nosso próximo passo é desenvolver o código que fará a conexão do sistema com o banco de dados. Esse código será feito em PHP e irá se chamar **conexao.php**, e irá conter uma função que será chamada no nosso algoritmo principal. Para que o PDO se conecte com o banco, precisaremos de 4 informações:\n",
    "\n",
    "- **Endereço do servidor**: nesse caso específico, o servidor do nosso sistema é o servidor local, e portanto seu endereço é `localhost`.\n",
    "- **Nome do banco**: é o nome do banco de dados que você criou. Nesse caso, o nosso sistema irá se conectar com um banco chamado `cadastro`.\n",
    "- **Usuário** e **Senha**: esses dados são os dados de autenticação do usuário que possui acesso ao banco de dados, e não do usuário final. Nesse caso, você irá inserir as credenciais do SGBD. Para fins didáticos, esse tutorial irá usar as credenciais **usuário: root** e **senha: root**, mas adapte os dados para as credenciais do seu banco de dados.\n",
    "\n",
    "O comando de conexão via PDO é:\n",
    "\n",
    "`new PDO('nome_do_sgbd:host=endereco_do_host;dbname=nome_do_banco', 'usuario_do_banco', 'senha_do_banco');`"
   ]
  },
  {
   "cell_type": "markdown",
   "metadata": {},
   "source": [
    "##### conexao.php\n",
    "\n",
    "~~~php\n",
    "<?php\n",
    "    // função de conexão com o banco de dados via PDO\n",
    "    function conexao() {\n",
    "        return new PDO('mysql:host=localhost;dbname=cadastro', 'root', 'root');\n",
    "    }\n",
    "?>\n",
    "~~~"
   ]
  },
  {
   "cell_type": "markdown",
   "metadata": {},
   "source": [
    "A função acima apenas conecta o seu programa PHP com o banco. Ele não executa nenhuma consulta SQL. Portanto, é isso o que faremos a seguir."
   ]
  },
  {
   "cell_type": "markdown",
   "metadata": {},
   "source": [
    "## Prepared Statements\n",
    "---\n",
    "\n",
    "Há duas formas de se executar uma consulta SQL pelo PHP: podemos usar a função `mysqli_query()`, que é uma função já incluída no PHP que lê e executa consultas SQL, ou podemos usar os chamados **Prepared Statements**, que é a forma que usaremos nesse tutorial.\n",
    "\n",
    "**Prepared Statements**, ou Declarações Preparadas, são instruções SQL que são pré-compiladas para uso no banco de dados. Elas são usadas para executar a mesma instrução SQL várias vezes, de forma eficiente e segura. Elas possuem duas vantagens:\n",
    "\n",
    "- **Desempenho**: Processar um grupo de operações é mais rápido do que processá-los um de cada vez.\n",
    "- **Segurança**: O servidor de banco de dados recebe a query e os parâmetros em momentos diferentes, evitando SQL Injections.\n",
    "\n",
    "O Prepared Statement é uma das principais formas de prevenir SQL Injections, e por esse motivo é que utilizaremos ele ao invés da biblioteca `mysqli`. Mas primeiro, uma breve explicação sobre o que é um **SQL Injection**."
   ]
  },
  {
   "cell_type": "markdown",
   "metadata": {},
   "source": [
    "### SQL Injection\n",
    "\n",
    "As **Injeções SQL** são um tipo de ataque hacker onde o cyber-criminoso insere uma consulta SQL na URL de uma página, ou em um input de formulário. Se não houver um tratamento por parte do código bakc-end, a consulta vai ser executada, e o atacante irá ter acesso direto ao banco de dados, mesmo sem ter acesso direto ao código da linguagem back-end.\n",
    "\n",
    "Uma vez que conseguiu o acesso ao banco, ele pode conseguir qualquer informação armazenada no SGBD, inclusive senhas e dados de cartões de crédito, endereços pessoais, CPF, e todo tipo de informação sensível que você puder imaginar. Pior ainda: ele pode também alterar esses dados, se for de sua conveniência. O **Prepared Statement** é uma forma bastante eficiente de evitar esse tipo de ataque."
   ]
  },
  {
   "cell_type": "markdown",
   "metadata": {},
   "source": [
    "### Inserindo um registro no banco\n",
    "\n",
    "Como a nossa ideia é fazer o usuário cadastrar seus dados no banco, a primeira coisa a se fazer é uma página de cadastro. Isso sabemos fazer bem, mas tenha em mente que o arquivo para o qual queremos enviar os dados não é `conexao.php`, e sim `result.php`, que ainda será criada:"
   ]
  },
  {
   "cell_type": "markdown",
   "metadata": {
    "vscode": {
     "languageId": "html"
    }
   },
   "source": [
    "##### index.html\n",
    "\n",
    "~~~html\n",
    "<!DOCTYPE html>\n",
    "<html lang=\"pt-br\">\n",
    "    <head>\n",
    "        <meta charset=\"UTF-8\">\n",
    "        <meta name=\"viewport\" content=\"width=device-width, initial-scale=1.0\">\n",
    "        <title>Página de cadastro</title>\n",
    "    </head>\n",
    "    <body>\n",
    "        <h1>Página de cadastro</h1>\n",
    "        <hr />\n",
    "        <form action=\"result.php\" method=\"post\">\n",
    "            <label for=\"nome\">Nome:</label>\n",
    "            <input type=\"text\" name=\"nome\" id=\"nome\" required />\n",
    "            <br />\n",
    "            <br />\n",
    "            <label for=\"email\">E-mail:</label>\n",
    "            <input type=\"email\" name=\"email\" id=\"email\" required />\n",
    "            <br />\n",
    "            <br />\n",
    "            <label for=\"profissao\">Profissão:</label>\n",
    "            <input type=\"text\" name=\"profissao\" id=\"profissao\" required />\n",
    "            <br />\n",
    "            <br />\n",
    "            <button type=\"submit\">Cadastrar</button>\n",
    "        </form>\n",
    "    </body>\n",
    "</html>\n",
    "~~~"
   ]
  },
  {
   "cell_type": "markdown",
   "metadata": {},
   "source": [
    "Vamos voltar ao arquivo `conexao.php` e criar uma nova função para executar um `INSERT` na tabela `Usuario` do banco `cadastro`:"
   ]
  },
  {
   "cell_type": "markdown",
   "metadata": {},
   "source": [
    "##### conexao.php\n",
    "\n",
    "~~~php\n",
    "<?php\n",
    "    // função de conexão com o banco de dados via PDO\n",
    "    function conexao() {\n",
    "        return new PDO('mysql:host=localhost;dbname=cadastro', 'root', 'root');\n",
    "    }\n",
    "\n",
    "    // função que insere um registro\n",
    "    function inserirUsuario($nome, $email, $profissao) {\n",
    "        // Prepara a declaração SQL com parâmetros\n",
    "        $stmt = $conn->prepare(\"INSERT INTO Usuario (nome, email, profissao) VALUES (:nome, :email, :profissao)\");\n",
    "\n",
    "        // Vincula os parâmetros aos valores\n",
    "        $stmt->bindParam(':nome', $nome);\n",
    "        $stmt->bindParam(':email', $email);\n",
    "        $stmt->bindParam(':profissao', $profissao);\n",
    "\n",
    "        // Define os valores e executa a declaração\n",
    "        // REVIEW: verificar como repassar os valores do usuário\n",
    "        // $nome = \"João Silva\";\n",
    "        // $email = \"joao.silva@example.com\";\n",
    "        // $profissao = \"Engenheiro\";\n",
    "        $stmt->execute();\n",
    "\n",
    "        echo \"Novo registro criado com sucesso\";\n",
    "    }\n",
    "?>\n",
    "~~~"
   ]
  }
 ],
 "metadata": {
  "language_info": {
   "name": "python"
  }
 },
 "nbformat": 4,
 "nbformat_minor": 2
}
