{
 "cells": [
  {
   "cell_type": "markdown",
   "metadata": {},
   "source": [
    "# **Estruturas de Decisão**\n",
    "---"
   ]
  },
  {
   "cell_type": "markdown",
   "metadata": {},
   "source": [
    "## Requisitos da Aula\n",
    "\n",
    "- Variáveis\n",
    "- Entrada de Dados\n",
    "\n",
    "---"
   ]
  },
  {
   "cell_type": "markdown",
   "metadata": {},
   "source": [
    "<div style=\"display: flex; justify-content: center\">\n",
    "    <img src=\"../assets/caminhos.png\" alt=\"Caminhos\" />\n",
    "</div>"
   ]
  },
  {
   "cell_type": "markdown",
   "metadata": {},
   "source": [
    "Até o momento, falamos de instruções bastante epecíficas, que tratam a solução como um caminho único. Mas sabemos que imprevistos acontecem. E se ocorrrer do computador precisar tomar uma decisão? Como ele faria isso? Como falado anteriormente, o computador é a coisa mais estúpida que existe no universo. Ele não fará nada, a não ser que você mande ou ensine. Nesse caso, **é sua tarefa ensinar o computador a tomar decisões**.\n",
    "\n",
    "### O que é uma Estrutura de decisão?\n",
    "\n",
    "É um bloco de programação que divide o seu código em dois algoritmos distintos, mas somente um deles será executado com base em uma condição determinada pelo próprio programador: caso a condição seja **verdadeira**, ele irá executar um algoritmo. Caso essa mesma condição seja **falsa**, um outro algoritmo será executado no lugar. Dessa forma, o programa poderá ser finalizado de duas formas diferentes. Ambos os algoritmos serão definidos pelo programador. Há também a possibilidade de ter mais de dois caminhos diferentes, e pode acontecer ainda do computador precisar avaliar duas ou mais condições diferentes simultaneamente. Entenda que é a partir daqui que iremos precisar dos operadores relacionais vistos na aula passada."
   ]
  },
  {
   "cell_type": "markdown",
   "metadata": {},
   "source": [
    "## Estrutura if...else\n",
    "---\n",
    "\n",
    "De todas as estruturas que existem em programação, a mais famosa (e usada) é, de longe, o **if...else**, também conhecido como **se...senão**. Se você usa o Excel, então deve estar familiarizado com essa estrutura: ela é usada na função `=SE(condição;valor_se_verdadeiro;valor_se_falso)` do Excel, e segue a mesma linha de raciocínio."
   ]
  },
  {
   "cell_type": "markdown",
   "metadata": {},
   "source": [
    "### Programa 01\n",
    "\n",
    "Funciona assim: suponha que um programa precisa verificar se um determinado usuário seja maior de idade ou não. Então o dev irá desenvolver o seguinte código-fonte:"
   ]
  },
  {
   "cell_type": "markdown",
   "metadata": {},
   "source": [
    "#### Front-End\n",
    "\n",
    "##### index.html\n",
    "\n",
    "~~~html\n",
    "<!DOCTYPE html>\n",
    "<html lang=\"pt-br\">\n",
    "    <head>\n",
    "        <meta charset=\"UTF-8\">\n",
    "        <meta name=\"viewport\" content=\"width=device-width, initial-scale=1.0\">\n",
    "        <title>Document</title>\n",
    "    </head>\n",
    "    <body>\n",
    "        <form method=\"post\" action=\"result.php\">\n",
    "            <label for=\"nome\">Nome:</label>\n",
    "            <input type=\"text\" name=\"nome\" id=\"nome\">\n",
    "            <br>\n",
    "            <br>\n",
    "            <label for=\"idade\">Idade:</label>\n",
    "            <input type=\"number\" name=\"idade\" id=\"idade\">\n",
    "            <br>\n",
    "            <br>\n",
    "            <button type=\"submit\">Enviar</button>\n",
    "        </form>\n",
    "    </body>\n",
    "</html>\n",
    "~~~"
   ]
  },
  {
   "cell_type": "markdown",
   "metadata": {},
   "source": [
    "#### Back-End\n",
    "\n",
    "##### result.php\n",
    "\n",
    "~~~php\n",
    "<?php\n",
    "    // declaração de variáveis\n",
    "    $nome = $_POST[\"nome\"];\n",
    "    $idade = $_POST[\"idade\"];\n",
    "\n",
    "    //estrutura de decisão\n",
    "    if ($idade >= 18) {\n",
    "        echo $nome . \" é maior de idade.\";\n",
    "    }\n",
    "    else {\n",
    "        echo $nome . \" é menor de idade.\";\n",
    "    }\n",
    "\n",
    "    // link para retornar para a página anterior\n",
    "    echo '<br><a href=\"index.html\">Voltar</a>';\n",
    "?>\n",
    "~~~"
   ]
  },
  {
   "cell_type": "markdown",
   "metadata": {},
   "source": [
    "Ao inicializar o servidor, será exibido a seguinte tela:"
   ]
  },
  {
   "cell_type": "markdown",
   "metadata": {},
   "source": [
    "<div style=\"display: flex; justify-content: center\">\n",
    "    <img src=\"../assets/estrutura_decisao_programa_01.png\" alt=\"Estrutura de Decisão\" />\n",
    "</div>"
   ]
  },
  {
   "cell_type": "markdown",
   "metadata": {},
   "source": [
    "Caso o usuário digite em **Nome** o valor **Alex**, e em **Idade** ele informa o valor **30**, ao clicar no botão, será mostrado uma tela com o seguinte resultado: **Alex é maior de idade.** Agora, se o usuário digitar no campo **Idade** o valor **15**, ao clicar no botão, ele será redirecionado para uma tela com a seguinte mensagem: **Alex é menor de idade.**\n",
    "\n",
    "Como ocorre com a maioria das linguagens de programação, no PHP, caso uma decisão tenha apenas uma única linha de comando, como é o caso do código acima, não há a necessidade de chaves (`{}`). Veja o mesmo código reescrito:"
   ]
  },
  {
   "cell_type": "markdown",
   "metadata": {},
   "source": [
    "#### Back-End\n",
    "\n",
    "##### result.php\n",
    "\n",
    "~~~php\n",
    "<?php\n",
    "    // declaração de variáveis\n",
    "    $nome = $_POST[\"nome\"];\n",
    "    $idade = $_POST[\"idade\"];\n",
    "\n",
    "    //estrutura de decisão\n",
    "    if ($idade >= 18) echo $nome . \" é maior de idade.\";\n",
    "    else echo $nome . \" é menor de idade.\";\n",
    "\n",
    "    // link para retornar para a página anterior\n",
    "    echo '<br><a href=\"index.html\">Voltar</a>';\n",
    "?>\n",
    "~~~"
   ]
  },
  {
   "cell_type": "markdown",
   "metadata": {},
   "source": [
    "O resultado que será mostrado será exatamente o mesmo."
   ]
  },
  {
   "cell_type": "markdown",
   "metadata": {},
   "source": [
    "### Programa 02\n",
    "\n",
    "Há alguns casos em que será necessário que duas condições ou mais sejam aceitas para entrar em um resultado positivo. Vamos montar um outro cenário onde precisaríamos desse tipo de algoritmo.\n",
    "\n",
    "Agora vamos criar um segundo programa. Desta vez o cliente será um parque de diversões, que quer um programa de controle da catacra de um determinado brinquedo. O usuário deverá informar o **nome**, a **idade** e a **altura**, e o programa irá retornar se o usuário tem a idade e também a altura mínima para poder entrar no brinquedo.\n",
    "\n",
    "Segue o Front-End da aplicação:"
   ]
  },
  {
   "cell_type": "markdown",
   "metadata": {},
   "source": [
    "#### Front-End\n",
    "\n",
    "##### index.html\n",
    "\n",
    "~~~html\n",
    "<!DOCTYPE html>\n",
    "<html lang=\"pt-br\">\n",
    "    <head>\n",
    "        <meta charset=\"UTF-8\">\n",
    "        <meta name=\"viewport\" content=\"width=device-width, initial-scale=1.0\">\n",
    "        <title>Document</title>\n",
    "    </head>\n",
    "    <body>\n",
    "        <form method=\"post\" action=\"result.php\">\n",
    "            <label for=\"nome\">Nome:</label>\n",
    "            <input type=\"text\" name=\"nome\" id=\"nome\">\n",
    "            <br>\n",
    "            <br>\n",
    "            <label for=\"idade\">Idade:</label>\n",
    "            <input type=\"number\" name=\"idade\" id=\"idade\">\n",
    "            <br>\n",
    "            <br>\n",
    "            <label for=\"altura\">Altura:</label>\n",
    "            <input type=\"text\" name=\"altura\" id=\"altura\">\n",
    "            <br>\n",
    "            <br>\n",
    "            <button type=\"submit\">Enviar</button>\n",
    "        </form>\n",
    "    </body>\n",
    "</html>\n",
    "~~~"
   ]
  },
  {
   "cell_type": "markdown",
   "metadata": {},
   "source": [
    "Agora vamos para o Back-End. Para que o usuário tenha sua entrada autorizada, ele precisa ter, no mínimo, **12 anos**, e uma altura de pelo menos **1,20 metros**. Aqui, o algoritmo precisará fazer duas verificações ao mesmo tempo, e as duas precisarão ser verdadeiras para que a estrutura retorne o resultado verdadeiro. Para isso, precisaremos do operador lógico **AND**. Veja:"
   ]
  },
  {
   "cell_type": "markdown",
   "metadata": {},
   "source": [
    "#### Back-End\n",
    "\n",
    "##### result.php\n",
    "\n",
    "~~~php\n",
    "<?php\n",
    "    // declaração de variáveis\n",
    "    $nome = $_POST[\"nome\"];\n",
    "    $idade = $_POST[\"idade\"];\n",
    "    $altura = $_POST[\"altura\"];\n",
    "\n",
    "    // estrutura de decisão\n",
    "    if ($idade>=12 && $altura>=1.2) echo \"A entrada de \" . $nome . \" foi autorizada.\";\n",
    "    else echo \"A entrada de \" . $nome . \" não foi autorizada.\";\n",
    "?>\n",
    "~~~"
   ]
  },
  {
   "cell_type": "markdown",
   "metadata": {},
   "source": [
    "Inicialize o servidor e entre na página inicial (index) do sistema. Você deverá estar vendo a tela abaixo:"
   ]
  },
  {
   "cell_type": "markdown",
   "metadata": {},
   "source": [
    "<div style=\"display: flex; justify-content: center\">\n",
    "    <img src=\"../assets/estrutura_decisao_programa_02-tela_01.png\" alt=\"Programa 02\" />\n",
    "</div>"
   ]
  },
  {
   "cell_type": "markdown",
   "metadata": {},
   "source": [
    "Informe no formulário, por exemplo, os seguintes dados:\n",
    "\n",
    "- **Nome:** Alex\n",
    "- **Idade:** 40\n",
    "- **Altura:** 1,72\n",
    "\n",
    "E em seguida, clique no botão **Enviar**, e veja o que acontece:"
   ]
  },
  {
   "cell_type": "markdown",
   "metadata": {},
   "source": [
    "<div style=\"display: flex; justify-content: center\">\n",
    "    <img src=\"../assets/estrutura_decisao_programa_02-tela_02.png\" alt=\"Programa 02\" />\n",
    "</div>"
   ]
  },
  {
   "cell_type": "markdown",
   "metadata": {},
   "source": [
    "Repare que a mensagem que aparece é **A entrada de Alex não foi autorizada.** Mas por quê? Pelo que programamos, uma pessoa com 40 anos de idade e 1,72 metros de altura deveria ter mais que o suficiente para poder entrar no brinquedo. Vamos tentar entender o que aconteceu de errado.\n",
    "\n",
    "Lembra algumas aulas atrás quando mencionei que as linguagens de programação fazem a separação das casas decimais com ponto ao invés da vírgula? Nessa tela, o usuário informou a sua altura com o valor **1,72**, colocando uma vírgula ao invés do ponto. Quando o usuário clicou no botão **Enviar**, esse foi o valor enviado para o PHP, que entendeu o valor como uma **string** ao invés de **float**, justamente por causa da vírgula digitada. Logo, ele não consegue fazer a comparação do valor da variável **altura** com o valor **1.20** da estrutura de decisão.\n",
    "\n",
    "Esse problema poderia ser resolvido simplesmente com o usuário informando o valor correto de **1.72** ao invés de **1,72** no formulário. Entretanto, o usuário não sabe, nem tem a obrigação de saber disso. Logo, é tarefa sua resolver essa situação."
   ]
  },
  {
   "cell_type": "markdown",
   "metadata": {},
   "source": [
    "## str_replace\n",
    "---\n",
    "\n",
    "Para resolver isso, precisaremos trocar no PHP a vírgula recebida pela variável **altura** por ponto, para que o PHP possa entender o valor como um **float** ao invés de **string**. É aí que entra a função `str_replace`do PHP.\n",
    "\n",
    "Funciona assim: a variável **altura** recebe normalmente o valor **1,72** do usuário como **string**. Depois, usaremos o `str_replace` para trocar a vírgula pelo ponto, e só depois enviaremos o novo valor para a estrutura de decisão. Como o PHP possui tipagem dinâmica, a nova variável já vai passar a entender com a troca que o novo valor é um **float**, e não uma **string**. A função completa é `str_replace(\"valor_original\", \"valor_novo\", \"elemento_que_possui_valor_a_ser_trocado\");`.\n",
    "\n",
    "Segue abaixo o novo código-fonte do PHP:"
   ]
  },
  {
   "cell_type": "markdown",
   "metadata": {},
   "source": [
    "#### Back-End\n",
    "\n",
    "#### result.php\n",
    "\n",
    "~~~php\n",
    "<?php\n",
    "    // declaração de variáveis\n",
    "    $nome = $_POST[\"nome\"];\n",
    "    $idade = $_POST[\"idade\"];\n",
    "    $altura = $_POST[\"altura\"];\n",
    "\n",
    "    // troca da vírgula pelo ponto\n",
    "    $altura = str_replace(\",\", \".\", $altura);\n",
    "\n",
    "    // estrutura de decisão\n",
    "    if ($idade>=12 && $altura>=1.2) echo \"A entrada de \" . $nome . \" foi autorizada.\";\n",
    "    else echo \"A entrada de \" . $nome . \" não foi autorizada.\";\n",
    "?>\n",
    "~~~"
   ]
  },
  {
   "cell_type": "markdown",
   "metadata": {},
   "source": [
    "Após a alteração, repita os mesmos valores anteriores, e repare que a mensagem exibida no navegador agora está correta com a linha de raciocínio do algoritmo. Aproveite e teste outros valores também."
   ]
  },
  {
   "cell_type": "markdown",
   "metadata": {},
   "source": [
    "## else...if\n",
    "---\n",
    "\n",
    "A estrutura de decisao **if...else** trabalha com duas possibilidades: **verdadeiro** ou **falso**. Entretanto, pode haver a possibilidade da estrutura de decisão pedir três ou mais possibilidades de saída, além do verdadeiro e falso.\n",
    "\n",
    "É aí onde entra o **else...if**. Com ele, você é capaz de adicionar novas possibilidades de saída das estruturas de decisão. Vamos partir para um novo exemplo com o **Programa 03**."
   ]
  },
  {
   "cell_type": "markdown",
   "metadata": {},
   "source": [
    "### Programa 03\n",
    "\n",
    "Nesse novo programa, iremos pegar o nome de um aluno e a nota da sua avaliação. Em seguida, o programa irá verificar se ele está **aprovado**, **reprovado**, ou ainda se está de **recuperação**, de acordo com a nota de sua avaliação.\n",
    "\n",
    "Repare que agora são 3 saídas possíveis, coisa que o **if...else** sozinho não dá conta.\n",
    "\n",
    "O primeiro passo, é claro, construir o front-end, então vamos lá:"
   ]
  },
  {
   "cell_type": "markdown",
   "metadata": {},
   "source": [
    "#### Front-End\n",
    "\n",
    "##### index.html\n",
    "\n",
    "~~~html\n",
    "<!DOCTYPE html>\n",
    "<html lang=\"pt-br\">\n",
    "    <head>\n",
    "        <meta charset=\"UTF-8\">\n",
    "        <meta name=\"viewport\" content=\"width=device-width, initial-scale=1.0\">\n",
    "        <title>Document</title>\n",
    "    </head>\n",
    "    <body>\n",
    "        <form method=\"post\" action=\"result.php\">\n",
    "            <label for=\"nome\">Nome:</label>\n",
    "            <input type=\"text\" name=\"nome\" id=\"nome\">\n",
    "            <br>\n",
    "            <br>\n",
    "            <label for=\"nota\">Nota:</label>\n",
    "            <input type=\"number\" name=\"nota\" id=\"nota\">\n",
    "            <br>\n",
    "            <br>\n",
    "            <button type=\"submit\">Enviar</button>\n",
    "        </form>\n",
    "    </body>\n",
    "</html>\n",
    "~~~"
   ]
  },
  {
   "cell_type": "markdown",
   "metadata": {},
   "source": [
    "Para fazermos o back-end da aplicação, vamos considerar que, para que o aluno esteja aprovado, sua nota deverá ser igual ou superior a 7. Para ficar de recuperação, sua nota deverá estar entre 5 e 7, e para reprovar, sua nota deverá estar abaixo de 5, e caso a nota do aluno seja menor que 0 ou maior que 10, ela será invalidada, já que a menor nota possível será 0, e a maior será 10."
   ]
  },
  {
   "cell_type": "markdown",
   "metadata": {},
   "source": [
    "#### Back-End\n",
    "\n",
    "##### result.php\n",
    "\n",
    "~~~php\n",
    "<?php\n",
    "    // declaração de variáveis\n",
    "    $nome = $_POST[\"nome\"];\n",
    "    $nota = $_POST[\"nota\"];\n",
    "\n",
    "    // trocando a vírgula por ponto\n",
    "    $nota = str_replace(\",\", \".\", $nota);\n",
    "\n",
    "    // valida a nota\n",
    "    if ($nota >= 0 && $nota <= 10) {\n",
    "        // avalia o aluno de acordo com a nota\n",
    "        if ($nota >= 7) echo \"O aluno \" . $nome . \" foi aprovado com nota \" . $nota \".\";\n",
    "        else if ($nota >= 5) echo \"O aluno \" . $nome . \" ficou de recuperação com nota \" . $nota . \".\";\n",
    "        else echo \"O aluno \" . $nome . \" está reprovado com nota \" . $nota . \".\";\n",
    "    }\n",
    "    else echo \"Nota do aluno \" . $nome . \" informada é inválida.\";\n",
    "?>\n",
    "~~~"
   ]
  },
  {
   "cell_type": "markdown",
   "metadata": {},
   "source": [
    "### Entendendo o código PHP\n",
    "\n",
    "O código possui duas condicionais. A primeira é um simples **if...else**. Repare que o if possui chaves (`{}`), pois a sua saída possui mais de uma linha, tornando as chaves obrigatória, ao contrário do **else**, que só possui uma única linha de comando, e logo não precisa de chaves.\n",
    "\n",
    "Já dentro do primeiro if (o que possui chaves) há uma outra estrutura de decisão, que também é um **if...else**. Porém, esse possui 3 saídas possíveis: na primeira saída, o aluno é aprovado com nota maior ou igual a 7. Mas se sua nota não for maior ou igual a 7, ela ainda pode ser maior ou igual a 5, o que faz com que o aluno fique de recuepração, ou menor que 5, o que faz com que o aluno fique reprovado. Logo, a condição **falsa** possui duas saídas possíveis.\n",
    "\n",
    "Nesse caso, na segunda saída, precisaremos colocar outra condicional, que é o da nota ser maior ou igual a 5, para indicar que o aluno está de recuperação. Não se preocupe com a condicional: se o algoritmo cair nessa condicional, é porque com certeza a nota é menor que 7. Por fim, o que sobra é a nota ser menor que 5. Nesse caso, usaremos o else. Não há a necessidade de adicionar condicional no else, já que ele é justamente o que sobra."
   ]
  },
  {
   "cell_type": "markdown",
   "metadata": {},
   "source": [
    "### Executando o código-fonte\n",
    "\n",
    "Inicialize o servidor para acessarmos a tela abaixo:"
   ]
  },
  {
   "cell_type": "markdown",
   "metadata": {},
   "source": [
    "<div style=\"display: flex; justify-content: center\">\n",
    "    <img src=\"../assets/estrutura_decisao_programa_03-tela_01.png\" alt=\"Programa 03\" />\n",
    "</div>"
   ]
  },
  {
   "cell_type": "markdown",
   "metadata": {},
   "source": [
    "Testes os valores, informe um nome à sua escolha, e depois informe valores diferentes. Exemplo: começe informando -1 na nota, depois informe 11, e depois informe 9, depois 6 e depois 4. E veja o resultado final."
   ]
  },
  {
   "cell_type": "markdown",
   "metadata": {},
   "source": [
    "## Operador Ternário\n",
    "---\n",
    "\n",
    "**Operador Ternário** é uma forma simplificada de fazer o if...else. Ele é mais vantajoso para sentenças mais curtas, quando a estrutura possui pouco código ou poucas informações, e também quando a estrutura possui poucas condições. A estrutura do ternário é:\n",
    "\n",
    "`condição ? saída_verdadeiro : saída_falso;`\n",
    "\n",
    "Vamos criar o programa 04 para mostrar um exemplo."
   ]
  },
  {
   "cell_type": "markdown",
   "metadata": {},
   "source": [
    "### Programa 04\n",
    "\n",
    "O Programa 04 será uma releitura do programa 01 dessa aula, ou seja, o programa irá receber o nome e a idade de um usuário, e irá informar se o usuário é maior ou menor de idade. Embora seja o mesmo programa, vamos mostrar como faremos isso usando o ternário.\n",
    "\n",
    "O Front-End da aplicação será exatamente o mesmo, portanto não há a necessidade de mostrar aqui nesse exemplo. É só copiar e colar o arquivo index.html do programa 01. Aqui, o mais interessante é mesmo o back-end da aplicação. Logo, vamos direto para ele:"
   ]
  },
  {
   "cell_type": "markdown",
   "metadata": {},
   "source": [
    "#### Back-End\n",
    "\n",
    "##### result.php\n",
    "\n",
    "~~~php\n",
    "<?php\n",
    "    // declaração de variáveis\n",
    "    $nome = $_POST[\"nome\"];\n",
    "    $idade = $_POST[\"idade\"];\n",
    "\n",
    "    // operador ternário\n",
    "    $result = $idade >= 18 ? \" é maior de idade.\" : \" é menor de idade.\";\n",
    "\n",
    "    // saída\n",
    "    echo $nome . $result;\n",
    "?>\n",
    "~~~"
   ]
  },
  {
   "cell_type": "markdown",
   "metadata": {},
   "source": [
    "## switch...case\n",
    "---\n",
    "\n",
    "A estrutura **switch...case** é outra estrutura de decisão também, muito parecida com o *if...else*. A diferença é que o *switch...case* é mais usado quando:\n",
    "\n",
    "- Há 3 saídas ou até mais.\n",
    "- A condicional precisa avaliar um valor exato, e não um intervalo numérico, como acontece no *if...else*.\n",
    "\n",
    "Diferentemente do *if...else*, o *switch...case* não usa condicionais. Ele basicamente recebe o valor de uma variável, e retorna uma saída caso o valor dessa variável seja **EXATAMENTE** o que é exigido por determinada saída. Vamos pegar o Programa 05 como exemplo."
   ]
  },
  {
   "cell_type": "markdown",
   "metadata": {},
   "source": [
    "### Programa 05\n",
    "\n",
    "No programa 05, vamos desenvolver uma aplicação de um cinema, onde o usuário seleciona uma sala específica, e o programa retorna o nome do filme que está passando naquela sala.\n",
    "\n",
    "Digamos que o cinema em questão possua 5 salas. Logo, o usuário tem a opção de informar a sala 1, 2, 3, 4, ou 5. Qualquer sala diferente dessas que ele escolher não estará previsto pelo nosso programa, assim como o usuário não poderá escolher salas que possuam números decimais, afinal, elas não existem. Como faremos esse programa?\n",
    "\n",
    "Primeiro, vamos começar com o Front-End da aplicação:"
   ]
  },
  {
   "cell_type": "markdown",
   "metadata": {},
   "source": [
    "#### Front-End\n",
    "\n",
    "##### index.html\n",
    "\n",
    "~~~html\n",
    "<!DOCTYPE html>\n",
    "<html lang=\"pt-br\">\n",
    "    <head>\n",
    "        <meta charset=\"UTF-8\">\n",
    "        <meta name=\"viewport\" content=\"width=device-width, initial-scale=1.0\">\n",
    "        <title>Document</title>\n",
    "    </head>\n",
    "    <body>\n",
    "        <form method=\"post\" action=\"result.php\">\n",
    "            <label for=\"sala\">Informe o número da sala:</label>\n",
    "            <input type=\"number\" name=\"sala\" id=\"sala\">\n",
    "            <br>\n",
    "            <br>\n",
    "            <button type=\"submit\">Selecionar</button>\n",
    "        </form>\n",
    "    </body>\n",
    "</html>\n",
    "~~~"
   ]
  },
  {
   "cell_type": "markdown",
   "metadata": {},
   "source": [
    "Agora iremos usar o *switch...case* no back-end da aplicação. Veja:"
   ]
  },
  {
   "cell_type": "markdown",
   "metadata": {},
   "source": [
    "#### Back-End\n",
    "\n",
    "##### result.php\n",
    "\n",
    "~~~php\n",
    "<?php\n",
    "    // declaração de variáveis\n",
    "    $sala = $_POST[\"sala\"];\n",
    "\n",
    "    // estrutura de decisão switch...case\n",
    "    switch ($sala) {\n",
    "        case \"1\":\n",
    "            echo \"A Roda Quadrada.\";\n",
    "            break;\n",
    "        case \"2\":\n",
    "            echo \"A Volta Dos Que Não Foram.\";\n",
    "            break;\n",
    "        case \"3\":\n",
    "            echo \"As Tranças do Rei Careca.\";\n",
    "            break;\n",
    "        case \"4\":\n",
    "            echo \"Poeira em Alto Mar.\";\n",
    "            break;\n",
    "        case \"5\":\n",
    "            echo \"A Vingança do Peixe Frito.\";\n",
    "            break;\n",
    "        default:\n",
    "            echo \"Sala inexistente.\";\n",
    "    }\n",
    "\n",
    "    // link para a página inicial\n",
    "    echo '<br><a href=\"index.html\">Selecionar outra sala</a>';\n",
    "?>\n",
    "~~~"
   ]
  },
  {
   "cell_type": "markdown",
   "metadata": {},
   "source": [
    "### Entendendo o código PHP\n",
    "\n",
    "O *switch* significa **escolha**, onde cada um dos *case* é uma escolha baseada no valor da variável `$sala`. Repare que o valor da sala é bem específico para cada *case*, e não um intervalo de números. O `break` serve para que cada `case` se encerre ali, e faça com que o código vá para o final da sentença ao invés de procurar executar outro `case`. O `default` serve para caso o usuário informe um valor não previsto pelo programa.\n",
    "\n",
    "### Executando o programa\n",
    "\n",
    "Inicialize o servidor para aparecer essa tela:"
   ]
  },
  {
   "cell_type": "markdown",
   "metadata": {},
   "source": [
    "<div style=\"display: flex; justify-content: center\">\n",
    "    <img src=\"../assets/estrutura_decisao_programa_05-tela_01.png\" alt=\"Programa 05\" />\n",
    "</div>"
   ]
  },
  {
   "cell_type": "markdown",
   "metadata": {},
   "source": [
    "Vá informando o número da sala e evja o resultado que sai no navegador. Depois volte e vá testando com resultados diferentes."
   ]
  }
 ],
 "metadata": {
  "language_info": {
   "name": "python"
  }
 },
 "nbformat": 4,
 "nbformat_minor": 2
}
