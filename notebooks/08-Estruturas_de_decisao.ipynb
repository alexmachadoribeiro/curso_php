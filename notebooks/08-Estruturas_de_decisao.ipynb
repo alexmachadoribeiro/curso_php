{
 "cells": [
  {
   "cell_type": "markdown",
   "metadata": {},
   "source": [
    "# **Estruturas de Decisão**\n",
    "---"
   ]
  },
  {
   "cell_type": "markdown",
   "metadata": {},
   "source": [
    "## Requisitos da Aula\n",
    "\n",
    "- Variáveis\n",
    "- Entrada de Dados\n",
    "\n",
    "---"
   ]
  },
  {
   "cell_type": "markdown",
   "metadata": {},
   "source": [
    "<div style=\"display: flex; justify-content: center\">\n",
    "    <img src=\"../assets/caminhos.png\" alt=\"Caminhos\" />\n",
    "</div>"
   ]
  },
  {
   "cell_type": "markdown",
   "metadata": {},
   "source": [
    "Até o momento, falamos de instruções bastante epecíficas, que tratam a solução como um caminho único. Mas sabemos que imprevistos acontecem. E se ocorrrer do computador precisar tomar uma decisão? Como ele faria isso? Como falado anteriormente, o computador é a coisa mais estúpida que existe no universo. Ele não fará nada, a não ser que você mande ou ensine. Nesse caso, **é sua tarefa ensinar o computador a tomar decisões**.\n",
    "\n",
    "### O que é uma Estrutura de decisão?\n",
    "\n",
    "É um bloco de programação que divide o seu código em dois algoritmos distintos, mas somente um deles será executado com base em uma condição determinada pelo próprio programador: caso a condição seja **verdadeira**, ele irá executar um algoritmo. Caso essa mesma condição seja **falsa**, um outro algoritmo será executado no lugar. Dessa forma, o programa poderá ser finalizado de duas formas diferentes. Ambos os algoritmos serão definidos pelo programador. Há também a possibilidade de ter mais de dois caminhos diferentes, e pode acontecer ainda do computador precisar avaliar duas ou mais condições diferentes simultaneamente. Entenda que é a partir daqui que iremos precisar dos operadores relacionais vistos na aula passada."
   ]
  },
  {
   "cell_type": "markdown",
   "metadata": {},
   "source": [
    "## Estrutura if...else\n",
    "---\n",
    "\n",
    "De todas as estruturas que existem em programação, a mais famosa (e usada) é, de longe, o **if...else**, também conhecido como **se...senão**. Se você usa o Excel, então deve estar familiarizado com essa estrutura: ela é usada na função `=SE(condição;valor_se_verdadeiro;valor_se_falso)` do Excel, e segue a mesma linha de raciocínio."
   ]
  },
  {
   "cell_type": "markdown",
   "metadata": {},
   "source": [
    "### Programa 01\n",
    "\n",
    "Funciona assim: suponha que um programa precisa verificar se um determinado usuário seja maior de idade ou não. Então o dev irá desenvolver o seguinte código-fonte:"
   ]
  },
  {
   "cell_type": "markdown",
   "metadata": {},
   "source": [
    "#### Front-End\n",
    "\n",
    "##### index.html\n",
    "\n",
    "~~~html\n",
    "<!DOCTYPE html>\n",
    "<html lang=\"pt-br\">\n",
    "    <head>\n",
    "        <meta charset=\"UTF-8\">\n",
    "        <meta name=\"viewport\" content=\"width=device-width, initial-scale=1.0\">\n",
    "        <title>Document</title>\n",
    "    </head>\n",
    "    <body>\n",
    "        <form method=\"post\" action=\"result.php\">\n",
    "            <label for=\"nome\">Nome:</label>\n",
    "            <input type=\"text\" name=\"nome\" id=\"nome\">\n",
    "            <br>\n",
    "            <br>\n",
    "            <label for=\"idade\">Idade:</label>\n",
    "            <input type=\"number\" name=\"idade\" id=\"idade\">\n",
    "            <br>\n",
    "            <br>\n",
    "            <button type=\"submit\">Enviar</button>\n",
    "        </form>\n",
    "    </body>\n",
    "</html>\n",
    "~~~"
   ]
  },
  {
   "cell_type": "markdown",
   "metadata": {},
   "source": [
    "#### Back-End\n",
    "\n",
    "##### result.php\n",
    "\n",
    "~~~php\n",
    "<?php\n",
    "    // declaração de variáveis\n",
    "    $nome = $_POST[\"nome\"];\n",
    "    $idade = $_POST[\"idade\"];\n",
    "\n",
    "    //estrutura de decisão\n",
    "    if ($idade >= 18) {\n",
    "        echo $nome . \" é maior de idade.\";\n",
    "    }\n",
    "    else {\n",
    "        echo $nome . \" é menor de idade.\";\n",
    "    }\n",
    "\n",
    "    // link para retornar para a página anterior\n",
    "    echo '<br><a href=\"index.html\">Voltar</a>';\n",
    "?>\n",
    "~~~"
   ]
  },
  {
   "cell_type": "markdown",
   "metadata": {},
   "source": [
    "Ao inicializar o servidor, será exibido a seguinte tela:"
   ]
  },
  {
   "cell_type": "markdown",
   "metadata": {},
   "source": [
    "<div style=\"display: flex; justify-content: center\">\n",
    "    <img src=\"../assets/estrutura_decisao_programa_01.png\" alt=\"Estrutura de Decisão\" />\n",
    "</div>"
   ]
  },
  {
   "cell_type": "markdown",
   "metadata": {},
   "source": [
    "Caso o usuário digite em **Nome** o valor **Alex**, e em **Idade** ele informa o valor **30**, ao clicar no botão, será mostrado uma tela com o seguinte resultado: **Alex é maior de idade.** Agora, se o usuário digitar no campo **Idade** o valor **15**, ao clicar no botão, ele será redirecionado para uma tela com a seguinte mensagem: **Alex é menor de idade.**\n",
    "\n",
    "Como ocorre com a maioria das linguagens de programação, no PHP, caso uma decisão tenha apenas uma única linha de comando, como é o caso do código acima, não há a necessidade de chaves (`{}`). Veja o mesmo código reescrito:"
   ]
  },
  {
   "cell_type": "markdown",
   "metadata": {},
   "source": [
    "#### Back-End\n",
    "\n",
    "##### result.php\n",
    "\n",
    "~~~php\n",
    "<?php\n",
    "    // declaração de variáveis\n",
    "    $nome = $_POST[\"nome\"];\n",
    "    $idade = $_POST[\"idade\"];\n",
    "\n",
    "    //estrutura de decisão\n",
    "    if ($idade >= 18) echo $nome . \" é maior de idade.\";\n",
    "    else echo $nome . \" é menor de idade.\";\n",
    "\n",
    "    // link para retornar para a página anterior\n",
    "    echo '<br><a href=\"index.html\">Voltar</a>';\n",
    "?>\n",
    "~~~"
   ]
  },
  {
   "cell_type": "markdown",
   "metadata": {},
   "source": [
    "O resultado que será mostrado será exatamente o mesmo."
   ]
  },
  {
   "cell_type": "markdown",
   "metadata": {},
   "source": [
    "### Programa 02\n",
    "\n",
    "Há alguns casos em que será necessário que duas condições ou mais sejam aceitas para entrar em um resultado positivo. Vamos montar um outro cenário onde precisaríamos desse tipo de algoritmo.\n",
    "\n",
    "Agora vamos criar um segundo programa. Desta vez o cliente será um parque de diversões, que quer um programa de controle da catacra de um determinado brinquedo. O usuário deverá informar o **nome**, a **idade** e a **altura**, e o programa irá retornar se o usuário tem a idade e também a altura mínima para poder entrar no brinquedo.\n",
    "\n",
    "Segue o Front-End da aplicação:"
   ]
  },
  {
   "cell_type": "markdown",
   "metadata": {},
   "source": [
    "#### Front-End\n",
    "\n",
    "##### index.html\n",
    "\n",
    "~~~html\n",
    "<!DOCTYPE html>\n",
    "<html lang=\"pt-br\">\n",
    "    <head>\n",
    "        <meta charset=\"UTF-8\">\n",
    "        <meta name=\"viewport\" content=\"width=device-width, initial-scale=1.0\">\n",
    "        <title>Document</title>\n",
    "    </head>\n",
    "    <body>\n",
    "        <form method=\"post\" action=\"result.php\">\n",
    "            <label for=\"nome\">Nome:</label>\n",
    "            <input type=\"text\" name=\"nome\" id=\"nome\">\n",
    "            <br>\n",
    "            <br>\n",
    "            <label for=\"idade\">Idade:</label>\n",
    "            <input type=\"number\" name=\"idade\" id=\"idade\">\n",
    "            <br>\n",
    "            <br>\n",
    "            <label for=\"altura\">Altura:</label>\n",
    "            <input type=\"text\" name=\"altura\" id=\"altura\">\n",
    "            <br>\n",
    "            <br>\n",
    "            <button type=\"submit\">Enviar</button>\n",
    "        </form>\n",
    "    </body>\n",
    "</html>\n",
    "~~~"
   ]
  },
  {
   "cell_type": "markdown",
   "metadata": {},
   "source": [
    "Agora vamos para o Back-End. Para que o usuário tenha sua entrada autorizada, ele precisa ter, no mínimo, **12 anos**, e uma altura de pelo menos **1,20 metros**. Aqui, o algoritmo precisará fazer duas verificações ao mesmo tempo, e as duas precisarão ser verdadeiras para que a estrutura retorne o resultado verdadeiro. Para isso, precisaremos do operador lógico **AND**. Veja:"
   ]
  },
  {
   "cell_type": "markdown",
   "metadata": {},
   "source": [
    "#### Back-End\n",
    "\n",
    "##### result.php\n",
    "\n",
    "~~~php\n",
    "<?php\n",
    "    // declaração de variáveis\n",
    "    $nome = $_POST[\"nome\"];\n",
    "    $idade = $_POST[\"idade\"];\n",
    "    $altura = $_POST[\"altura\"];\n",
    "\n",
    "    // estrutura de decisão\n",
    "    if ($idade>=12) && ($altura>=1.2) echo \"A entrada de \" . $nome . \" foi autorizada.\";\n",
    "    else echo \"A entrada de \" . $nome . \" não foi autorizada.\";\n",
    "?>\n",
    "~~~"
   ]
  }
 ],
 "metadata": {
  "language_info": {
   "name": "python"
  }
 },
 "nbformat": 4,
 "nbformat_minor": 2
}
