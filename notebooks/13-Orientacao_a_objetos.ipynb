{
 "cells": [
  {
   "cell_type": "markdown",
   "metadata": {},
   "source": [
    "# **Orientação a Objetos com PHP**\n",
    "---"
   ]
  },
  {
   "cell_type": "markdown",
   "metadata": {},
   "source": [
    "## Requisitos da Aula\n",
    "\n",
    "- Rodando Primeiro Projeto\n",
    "- Variáveis\n",
    "- Entrada de Dados\n",
    "- Funções\n",
    "- Importando códigos de outros arquivos\n",
    "\n",
    "---"
   ]
  },
  {
   "cell_type": "markdown",
   "metadata": {},
   "source": [
    "Até este momento do curso, estávamos estudando PHP utilzando o paradigma da **Programação Estruturada**. Nesse paradigma, a programação é entendida como se fosse uma receita de bolo, onde declaramos as variáveis, e criamos um algoritmo que diz o que fazer com essas variáveis, exatamente como em uma receita de comida: o algoritmo é executado linha por linha, de cima para baixo, ordenando à CPU o que deve ser feito com as variáveis declaradas.\n",
    "\n",
    "Nesta aula, iremos aprender sobre o **Paradigma da Orientação a Objetos**, que funciona de uma forma bastante diferente: a ideia é que você programe baseando sua linha de raciocínio nos elementos do dia a dia encontrados ao seu redor. Pense que cada objeto que existe ao seu redor é possui uma classificação. É nessa ideia de classificação que é baseada a programação orientada a objetos."
   ]
  },
  {
   "cell_type": "markdown",
   "metadata": {},
   "source": [
    "## Como funciona a Orientação a Objetos\n",
    "---\n",
    "\n",
    "Observe a imagem a seguir:"
   ]
  },
  {
   "cell_type": "markdown",
   "metadata": {},
   "source": [
    "<div style=\"display: flex; justify-content: center\">\n",
    "    <img src=\"../assets/fusca.webp\" alt=\"Fusca\" />\n",
    "</div>"
   ]
  },
  {
   "cell_type": "markdown",
   "metadata": {},
   "source": [
    "Você consegue identificar o objeto em questão? Provavelmente você dirá que é um Fusca, certo? Sim, está certo! É um Fusca mesmo.\n",
    "\n",
    "Agora, observe essa outra imagem a seguir:"
   ]
  },
  {
   "cell_type": "markdown",
   "metadata": {},
   "source": [
    "<div style=\"display: flex; justify-content: center\">\n",
    "    <img src=\"../assets/lamborghini.png\" alt=\"Lamborghini\" width=400 />\n",
    "</div>"
   ]
  },
  {
   "cell_type": "markdown",
   "metadata": {},
   "source": [
    "Caso não saiba que carro é esse, trata-se de uma Lamborghini. Um carro que supera um Fusca em todos os sentidos: preço, velocidade, aceleração, desempenho, etc...\n",
    "\n",
    "Os dois objetos são iguais? Definitivamente não. São completamente diferentes em tudo. Mesmo assim, os dois compartilham as mesmas características e servem exatamente para o mesmo fim. Por exemplo: ambos possuem portas, pneus, motor, volante, faróis, bancos, tanque de combustível, chassi. Da mesma forma, ambos podem ser dirigidos, ambos aceleram, fream, fazem curva, consomem combustível.\n",
    "\n",
    "Isso acontece porque os dois objetos pertencem à mesma classe: **Carro**.\n",
    "\n",
    "Os objetos do mundo real (sejam eles seres vivos ou não) são classificados com base em suas características e ações. Quando dois ou mais objetos compartilham as mesmas características e realizam as mesmas ações, mesmo sendo objetos completamente diferentes, são reunidos dentro da mesma classificação.\n",
    "\n",
    "O mesmo pode ser dito de um humano e de um cachorro: são animais completamente diferentes, mas compartilham características e ações similares que os classificam como Mamíferos.\n",
    "\n",
    "A Programação Orientada a Objetos funciona da mesma forma: ao invés de criarmos um único código lido de cima para baixo, dividimos em blocos de programação menores e separados, chamados de **Classes**. As classes reunem basicamente dois elementos:\n",
    "\n",
    "- **Atributos**: são características dos objetos das classes. Os atributos armazenam valores para serem utilizados no programa principal, de forma similar às variáveis.\n",
    "- **Métodos**: são ações a serem executadas pelos objetos das classes. Funcionam de forma similares às funções.\n",
    "\n",
    "Após a criação das classes, um outro bloco de programação contém o código que deve ser executado pelo programa. É nesse bloco onde são \"criados\" os objetos que irão armazenar os valores do algoritmo, e irão executar as funcionalidades do programa, tal como aconteceria no mundo real.\n",
    "\n",
    "Esse tipo de programação é muito utilizado para criação de sistemas que usam bancos de dados, pois algumas classes podem representar as chamadas entidades do banco.\n",
    "\n",
    "Outro exemplo onde a POO (sigla para Programação Orientada a Objetos) é usada é na programação de jogos eletrônicos. Inclusive um excelente exemplo são os jogos de RPG (**Role-Playing Game**), onde o jogador constrói o seu personagem baseado em sistemas de classes. Exemplo: em um RPG de fantasia medieval, o jogador começa escolhendo uma classe para o seu personagem (Guerreiro, Mago, Bárbaro, Druida, Paladino, Necromante, Clérigo, etc...), onde cada uma das classes possui seus próprios atributos, e seus próprios métodos (habilidades)."
   ]
  },
  {
   "cell_type": "markdown",
   "metadata": {},
   "source": [
    "<div style=\"display: flex; justify-content: center\">\n",
    "    <img src=\"../assets/classes-de-rpg-1024x576.webp\" alt=\"Sistema de Classes de um RPG\" />\n",
    "</div>\n",
    "<div style=\"display: flex; justify-content: center\">\n",
    "    <span>Fonte: <a href=\"https://elking.com.br/blog/classes-rpg/\">https://elking.com.br/blog/classes-rpg/</a></span>\n",
    "</div>"
   ]
  },
  {
   "cell_type": "markdown",
   "metadata": {},
   "source": [
    "### Vantagens\n",
    "\n",
    "Há muitas vantagens em se utilizar o Paradigma da Orientação a Objetos:\n",
    "\n",
    "- Reutilização de código, evitando desperdícios e redundância no algoritmo.\n",
    "- Facilitação na manutenção do código. Com os atributos e métodos centralizados em uma classe você consegue resolver muitos problemas de uma só vez alterando apenas uma linha de código, o que na programação estruturada você precisaria alterar várias linhas, uma de cada vez.\n",
    "- Melhora a lógica. Como ela passa a ser baseada em elementos do mundo real, o código fica mais simples de entender, uma vez que o conceito de orientação a objetos fica claro.\n",
    "- Código organizado. Com o código dividido em blocos menores, o código-fonte fica mais legível e organizado.\n",
    "- Melhora a segurança do seu código. A orientação a objetos possui muitos recursos de segurança para garantir a integridade tanto do seu código quanto dos dados que ele gere.\n",
    "- Melhora a escalabilidade do projeto. Você consegue escalar o seu projeto sem que o mesmo vire um monstro de 7 cabeças, já que a orientação a objetos permite que seu projeto fique maior do que foi pensado inicialmente.\n",
    "\n",
    "### Desvantagens\n",
    "\n",
    "É claro que a orientação a objetos não é perfeita. Há algumas desvantagens em se adotar o paradigma:\n",
    "\n",
    "- Curva de aprendizado maior do que a programação estruturada, visto que a orientação a objetos possui muitos detalhes para se dominar, acaba se tornando mais complexo e demorado de se aprender.\n",
    "- Código-fonte total mais complexo. Com o código-fonte dividido, o código-fonte ao todo acaba ficando maior.\n",
    "- Exige maior capacidade de processamento. Como há muitas divisões, e o código ficando maior, ele consome mais da CPU.\n",
    "- Inviável para projetos pequenos, muito por conta da complexidade do paradigma."
   ]
  },
  {
   "cell_type": "markdown",
   "metadata": {},
   "source": [
    "## Classes em PHP\n",
    "---\n",
    "\n",
    "A primeira coisa que precisamos saber para programar orientado a objetos em PHP é que as classes dessa linguagem são criadas em arquivos cujo nome termina com **.class.php**. A segunda coisa que preciso saber sobre orientação a objetos é que **toda classe sempre vai começar com a inicial maiúscula, utilizando o modelo de nomemclatura Pascal Case**. Exemplo: se eu for criar uma classe chamada Usuario, o nome do arquivo será `Usuario.class.php`.\n",
    "\n",
    "Normalmente, em qualquer linguagem orientada a objetos, as classes são criadas com base na documentação do projeto, onde o engenheiro de software vai criar um diagrama que chamamos de **Diagrama de Classes**, que basicamente define como a classe vai ser criada. Veja o diagrama de classes abaixo, por exemplo:"
   ]
  },
  {
   "cell_type": "markdown",
   "metadata": {},
   "source": [
    "<div style=\"display: flex; justify-content: center\">\n",
    "    <img src=\"../assets/POO-01.png\" alt=\"Diagrama de Classes\" />\n",
    "</div>"
   ]
  },
  {
   "cell_type": "markdown",
   "metadata": {},
   "source": [
    "Esse é o diagrama de uma classe chamada **Pessoa**. Como dito anteriormente, uma classe possui **atributos** e **métodos**. Esse diagrama diz que o desenvolvedor terá que criar uma classe chamada **Pessoa**, com 3 atributos: `nome`, `email` e `idade`. A parte de branco embaixo no diagrama indica que, por hora, essa classe não terá métodos. O sinal de `+` (mais) do lado de cada atributo indica sua visibilidade, isso será ensinado em aulas futuras.\n",
    "\n",
    "Logo, nossa tarefa é criar uma classe em PHP que possua esses 3 atributos e nenhum método. Essa classe será criada em um arquivo **obrigatoriamente** chamado `Pessoa.class.php`. Observe:"
   ]
  },
  {
   "cell_type": "markdown",
   "metadata": {},
   "source": [
    "### Atributos"
   ]
  },
  {
   "cell_type": "markdown",
   "metadata": {},
   "source": [
    "#### Programa 01\n",
    "\n",
    "##### Pessoa.class.php\n",
    "\n",
    "~~~php\n",
    "<?php\n",
    "    // nome da classe\n",
    "    class Pessoa {\n",
    "        // atributos\n",
    "        public $nome;\n",
    "        public $email;\n",
    "        public $idade;\n",
    "    }\n",
    "?>\n",
    "~~~"
   ]
  },
  {
   "cell_type": "markdown",
   "metadata": {},
   "source": [
    "Observe que a classe funciona como um bloco de programação. Esse bloco vai possuir exatamente o mesmo nome do arquivo antes de `.class.php`. Dentro desse bloco, temos os nossos atributos, que parecem variáveis (as principais diferenças serão mostradas nas aulas seguintes).\n",
    "\n",
    "Ótimo! Agora, vamos criar um formulário HTML que irá receber os dados desses atributos:"
   ]
  },
  {
   "cell_type": "markdown",
   "metadata": {
    "vscode": {
     "languageId": "html"
    }
   },
   "source": [
    "##### index.html\n",
    "\n",
    "~~~html\n",
    "<!DOCTYPE html>\n",
    "<html lang=\"pt-br\">\n",
    "    <head>\n",
    "        <meta charset=\"UTF-8\">\n",
    "        <meta name=\"viewport\" content=\"width=device-width, initial-scale=1.0\">\n",
    "        <title>Document</title>\n",
    "    </head>\n",
    "    <body>\n",
    "        <form action=\"result.php\" method=\"post\">\n",
    "            <label for=\"name\">Nome:</label><br />\n",
    "            <input type=\"text\" name=\"name\" /><br /><br />\n",
    "            <label for=\"email\">Email:</label><br />\n",
    "            <input type=\"email\" name=\"email\" /><br /><br />\n",
    "            <label for=\"idade\">Idade:</label><br />\n",
    "            <input type=\"text\" name=\"idade\" /><br /><br />\n",
    "            <button type=\"submit\">Enviar</button>\n",
    "    </body>\n",
    "</html>\n",
    "~~~"
   ]
  },
  {
   "cell_type": "markdown",
   "metadata": {},
   "source": [
    "Excelente! Agora chegou a parte em que veremos como a orientação a objetos funciona. Para isso, vamos construir o arquivo **result.php** por partes. Começe criando o código abaixo:"
   ]
  },
  {
   "cell_type": "markdown",
   "metadata": {},
   "source": [
    "##### result.php\n",
    "\n",
    "~~~php\n",
    "<?php\n",
    "    // importando a classe\n",
    "    include \"Pessoa.class.php\";\n",
    "    \n",
    "    // instanciando a classe Pessoa\n",
    "    $pessoa = new Pessoa();\n",
    "?>\n",
    "~~~"
   ]
  },
  {
   "cell_type": "markdown",
   "metadata": {},
   "source": [
    "O que o código acima faz é o que chamamos de **instância de uma classe**. Em outras palavras: **ele cria um objeto chamado pessoa, do tipo Pessoa**. Isso é possível graças à primeira linha de código do arquivo, `include \"Pessoa.class.php\";`, que importa a classe para o algoritmo.\n",
    "\n",
    "Imagine o seguinte: quando um ser humano vem ao mundo, qual a primeira coisa que ele faz? A resposta é simples: **ele nasce!**. É isso o que esse comando faz: faz o objeto baseado em um classe nascer. Quando isso acontece, ele já possui automaticamente os atributos nome, email e idade. Não precisa criar variáveis para esses valores. Viu só como a orientação a objetos é útil?\n",
    "\n",
    "Agora, vamos continuar. Precisamos repassar os valores informados pelo usuário para os atributos do objeto. Vamos continuar o `result.php` com o código abaixo, que mostra como fazer isso:"
   ]
  },
  {
   "cell_type": "markdown",
   "metadata": {},
   "source": [
    "##### result.php\n",
    "\n",
    "~~~php\n",
    "<?php\n",
    "    // importando a classe\n",
    "    include \"Pessoa.class.php\";\n",
    "    \n",
    "    // instanciando a classe Pessoa\n",
    "    $pessoa = new Pessoa();\n",
    "\n",
    "    // repassando os valores informados pelo usuário para os atributos do objeto\n",
    "    $pessoa->nome = $_POST['nome'];\n",
    "    $pessoa->email = $_POST['email'];\n",
    "    $pessoa->idade = $_POST['idade'];\n",
    "?>\n",
    "~~~"
   ]
  },
  {
   "cell_type": "markdown",
   "metadata": {},
   "source": [
    "Observe que o comando `$objeto->atributo` serve para acessar o atributo do objeto, baseado na classe criada no arquivo `Pessoa.class.php`. Agora o nosso próximo passo é exatamente exibir os valores dos atributos na página:"
   ]
  },
  {
   "cell_type": "markdown",
   "metadata": {},
   "source": [
    "##### result.php\n",
    "\n",
    "~~~php\n",
    "<?php\n",
    "    // importando a classe\n",
    "    include \"Pessoa.class.php\";\n",
    "    \n",
    "    // instanciando a classe Pessoa\n",
    "    $pessoa = new Pessoa();\n",
    "\n",
    "    // repassando os valores informados pelo usuário para os atributos do objeto\n",
    "    $pessoa->nome = $_POST['nome'];\n",
    "    $pessoa->email = $_POST['email'];\n",
    "    $pessoa->idade = $_POST['idade'];\n",
    "\n",
    "    // saída de dados\n",
    "    echo '<b>Nome:</b> ' . $pessoa->nome . '.<br />';\n",
    "    echo '<b>E-mail:</b> ' . $pessoa->email . '.<br />';\n",
    "    echo '<b>Idade:</b> ' . $pessoa->idade . '.';\n",
    "?>\n",
    "~~~"
   ]
  },
  {
   "cell_type": "markdown",
   "metadata": {},
   "source": [
    "Execute o programa no servidor e teste, e veja como você consegue deixar o código muito mais bem organizado do que fazendo o mesmo com variáveis."
   ]
  },
  {
   "cell_type": "markdown",
   "metadata": {},
   "source": [
    "### Métodos\n",
    "\n",
    "Mas um objeto de uma classe não possui apenas atributos. Ele também possui os chamados **métodos**. Ao contrário dos atributos, que armazenam valores, os métodos executam ações do objeto. Eels são os equivalentes às funções da programação estruturada.\n",
    "\n",
    "Vamos voltar ao diagrama de classes da classe Pessoa:"
   ]
  },
  {
   "cell_type": "markdown",
   "metadata": {},
   "source": [
    "<div style=\"display: flex; justify-content: center\">\n",
    "    <img src=\"../assets/POO-02.png\" alt=\"Diagrama de classes\" />\n",
    "</div>"
   ]
  },
  {
   "cell_type": "markdown",
   "metadata": {},
   "source": [
    "Observe que a classe agora possui o método `saudar()`, que não havíamos feito antes. Repare que, diferente dos atributos, dos quais utilizamos nomes substantivos, no método utilizamos um verbo infinitivo. Embora isso não seja exatamente uma obrigação, isso nos ajudar a diferenciar um do outro, além de deixar claro sua utilidade. O método `saudar()` é programado exatamente igual a uma função, com as mesmas exatas regras. O diagrama de classes ainda indica que esse método é um **void**. Isso significa que esse método não possuirá um retorno.\n",
    "\n",
    "Vamos voltar ao arquivo da classe `Pessoa.class.php` e programar a função `saudar()`:"
   ]
  },
  {
   "cell_type": "markdown",
   "metadata": {},
   "source": [
    "##### Pessoa.class.php\n",
    "\n",
    "~~~php\n",
    "<?php\n",
    "    // nome da classe\n",
    "    class Pessoa {\n",
    "        // atributos\n",
    "        public $nome;\n",
    "        public $email;\n",
    "        public $idade;\n",
    "\n",
    "        // método\n",
    "        public function saudar() {\n",
    "            echo \"Olá, é um prazer estar aqui!\";\n",
    "        }\n",
    "    }\n",
    "?>\n",
    "~~~"
   ]
  },
  {
   "cell_type": "markdown",
   "metadata": {},
   "source": [
    "Agora, nossa tarefa é executar essa função em `result.php`:"
   ]
  },
  {
   "cell_type": "markdown",
   "metadata": {},
   "source": [
    "##### result.php\n",
    "\n",
    "~~~php\n",
    "<?php\n",
    "    // importando a classe\n",
    "    include \"Pessoa.class.php\";\n",
    "    \n",
    "    // instanciando a classe Pessoa\n",
    "    $pessoa = new Pessoa();\n",
    "\n",
    "    // repassando os valores informados pelo usuário para os atributos do objeto\n",
    "    $pessoa->nome = $_POST['nome'];\n",
    "    $pessoa->email = $_POST['email'];\n",
    "    $pessoa->idade = $_POST['idade'];\n",
    "\n",
    "    // saída de dados\n",
    "    echo '<b>Nome:</b> ' . $pessoa->nome . '.<br />';\n",
    "    echo '<b>E-mail:</b> ' . $pessoa->email . '.<br />';\n",
    "    echo '<b>Idade:</b> ' . $pessoa->idade . '.';\n",
    "\n",
    "    // executando a função\n",
    "    $pessoa->saudar();\n",
    "?>\n",
    "~~~"
   ]
  },
  {
   "cell_type": "markdown",
   "metadata": {},
   "source": [
    "Essa função pode ser executada simplesmente chamando ela, pois é uma função que não retorna valor, apenas realiza uma ação, e essa ação é um comando `echo`, e portanto não exige nenhum comando adicional. Mas como vimos em aulas anteriores, isso é um problema, pois a informação que essa função carrega pode ser perdida no decorrer da execução do programa. Portanto, vamos melhorar isso. Voltemos ao diagrama de classes:"
   ]
  },
  {
   "cell_type": "markdown",
   "metadata": {},
   "source": [
    "<div style=\"display: flex; justify-content: center\">\n",
    "    <img src=\"../assets/POO-03.png\" alt=\"Diagrama de classes\" />\n",
    "</div>"
   ]
  },
  {
   "cell_type": "markdown",
   "metadata": {},
   "source": [
    "Com a alteração do método no diagrama de classes, agora sabemos que o método `saudar()` retorna um valor do tipo string, que pode ser armazenado pelo programa e invocado mais de uma vez. Faremos a alteração em `Pessoa.class.php`. Veja:"
   ]
  },
  {
   "cell_type": "markdown",
   "metadata": {},
   "source": [
    "##### Pessoa.class.php\n",
    "\n",
    "~~~php\n",
    "<?php\n",
    "    // nome da classe\n",
    "    class Pessoa {\n",
    "        // atributos\n",
    "        public $nome;\n",
    "        public $email;\n",
    "        public $idade;\n",
    "\n",
    "        // método\n",
    "        public function saudar() {\n",
    "            return \"Olá, é um prazer estar aqui!\";\n",
    "        }\n",
    "    }\n",
    "?>\n",
    "~~~"
   ]
  },
  {
   "cell_type": "markdown",
   "metadata": {},
   "source": [
    "E com essa alteração, vamos mudar a forma como esse método é executado pelo programa principal em `result.php`:"
   ]
  },
  {
   "cell_type": "markdown",
   "metadata": {},
   "source": [
    "##### result.php\n",
    "\n",
    "~~~php\n",
    "<?php\n",
    "    // importando a classe\n",
    "    include \"Pessoa.class.php\";\n",
    "\n",
    "    // instanciando a classe Pessoa\n",
    "    $pessoa = new Pessoa();\n",
    "\n",
    "    // repassando os valores informados pelo usuário para os atributos do objeto\n",
    "    $pessoa->nome = $_POST['nome'];\n",
    "    $pessoa->email = $_POST['email'];\n",
    "    $pessoa->idade = $_POST['idade'];\n",
    "\n",
    "    // saída de dados\n",
    "    echo '<b>Nome:</b> ' . $pessoa->nome . '.<br />';\n",
    "    echo '<b>E-mail:</b> ' . $pessoa->email . '.<br />';\n",
    "    echo '<b>Idade:</b> ' . $pessoa->idade . '.';\n",
    "\n",
    "    // executando a função\n",
    "    echo $pessoa->saudar();\n",
    "?>\n",
    "~~~"
   ]
  },
  {
   "cell_type": "markdown",
   "metadata": {},
   "source": [
    "O resultado final desse programa será o mesmo, com a diferença de que podemos escalar esse programa, graças ao fato de que a nossa função agora retorna um valor válido."
   ]
  },
  {
   "cell_type": "markdown",
   "metadata": {},
   "source": [
    "### this\n",
    "\n",
    "Que tal mudarmos um pouco como o método funciona? Vamos acrescentar na mensagem os dados do usuário na classe `Pessoa`:"
   ]
  },
  {
   "cell_type": "markdown",
   "metadata": {},
   "source": [
    "##### Pessoa.class.php\n",
    "\n",
    "~~~php\n",
    "<?php\n",
    "    // nome da classe\n",
    "    class Pessoa {\n",
    "        // atributos\n",
    "        public $nome;\n",
    "        public $email;\n",
    "        public $idade;\n",
    "\n",
    "        // método\n",
    "        public function saudar() {\n",
    "            return \"Olá, eu sou \" . $this->nome . \", tenho \" . $this->idade . \" anos, meu e-mail é \" . $this->email . \", e é um prazer estar aqui!\";\n",
    "        }\n",
    "    }\n",
    "?>\n",
    "~~~"
   ]
  },
  {
   "cell_type": "markdown",
   "metadata": {},
   "source": [
    "Observe a utilização do `$this`. Ele é necessário para acessar os atributos dentro dos métodos, já que não é possível instanciar um objeto de uma classe dentro dela mesma.\n",
    "\n",
    "Execute de novo o programa e veja o resultado!!!"
   ]
  }
 ],
 "metadata": {
  "language_info": {
   "name": "python"
  }
 },
 "nbformat": 4,
 "nbformat_minor": 2
}
