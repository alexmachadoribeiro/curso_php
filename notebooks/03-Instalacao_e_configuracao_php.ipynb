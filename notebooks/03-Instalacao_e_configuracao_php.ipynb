{
 "cells": [
  {
   "cell_type": "markdown",
   "metadata": {},
   "source": [
    "# **Instalação do PHP e configuração do Servidor Web**\n",
    "---"
   ]
  },
  {
   "cell_type": "markdown",
   "metadata": {},
   "source": [
    "## Requisitos da Aula\n",
    "\n",
    "- Introdução ao PHP\n",
    "---"
   ]
  },
  {
   "cell_type": "markdown",
   "metadata": {},
   "source": [
    "## Download do PHP\n",
    "---\n",
    "\n",
    "Siga os passos abaixo para baixar, instalar e configurar o PHP na sua máquina:\n",
    "\n",
    "1. Obviamente, o PHP pode ser baixado diretamente da documentação oficial na seção de downloads (https://www.php.net/downloads). Portanto, acesse a página.\n",
    "2. Ao acessar a página, clique no link onde diz **Windows downloads**. Observe a tela abaixo com a indicação de onde deve ser clicado:"
   ]
  },
  {
   "cell_type": "markdown",
   "metadata": {},
   "source": [
    "<div style=\"display: flex; justify-content: center\">\n",
    "    <img src=\"../assets/php-download-01.png\" alt=\"Download do PHP\" />\n",
    "</div>"
   ]
  },
  {
   "cell_type": "markdown",
   "metadata": {},
   "source": [
    "<div style=\"display: flex; justify-content: center\">\n",
    "    <img src=\"../assets/php-download-01-01.png\" alt=\"Download PHP\" />\n",
    "</div>"
   ]
  },
  {
   "cell_type": "markdown",
   "metadata": {},
   "source": [
    "3. Ao clicar no link, você será redirecionado para a página abaixo:"
   ]
  },
  {
   "cell_type": "markdown",
   "metadata": {},
   "source": [
    "<div style=\"display: flex; justify-content: center\">\n",
    "    <img src=\"../assets/php-download-02.png\" alt=\"Download PHP\" />\n",
    "</div>"
   ]
  },
  {
   "cell_type": "markdown",
   "metadata": {},
   "source": [
    "4. Observe que a versão mais recente do PHP é realmente a **8.4.3**, lançada no dia **15/01/2025**. Nessa página, observe que existem vários links de download disponíveis, divididos em duas categorias: **Non Thread Safe** e **Thread Safe**.\n",
    "\n",
    "**Thread Safety** significa que o binário pode trabalhar em um contexto de servidor de vários segmentos, como o Apache 2 no Windows. Thread Safety funciona através da criação de uma cópia de armazenamento local em cada segmento, para que os dados não colidam com outro segmento.\n",
    "\n",
    "Uma versão thread-safe (TS) deve ser usada se você instalar o PHP como um módulo Apache, como um MPM (modelo de multiprocessamento) de trabalho. A versão não thread-safe (NTS) deve ser usada se você instalar o PHP como um binário CGI.\n",
    "\n",
    "5. Para o nosso caso, como estaremos apenas aprendendo o básico do PHP, vamos usar a Non Thread Safe e baixar o arquivo **ZIP** da **Non Thread Safe** de **64 bits**, que possui 32,18 MB de tamanho:"
   ]
  },
  {
   "cell_type": "markdown",
   "metadata": {},
   "source": [
    "<div style=\"display: flex; justify-content: center\">\n",
    "    <img src=\"../assets/php-download-03.png\" alt=\"Download PHP\" />\n",
    "</div>"
   ]
  },
  {
   "cell_type": "markdown",
   "metadata": {},
   "source": [
    "<div style=\"display: flex; justify-content: center\">\n",
    "    <img src=\"../assets/php-download-03-01.png\" alt=\"Download PHP\" />\n",
    "</div>"
   ]
  },
  {
   "cell_type": "markdown",
   "metadata": {},
   "source": [
    "**Obs:** usaremos a versão de 64 bits, pois o SO onde esse tutorial está sendo preparado éde 64 bits. Se o seu SO for de 32 bits, baixe o correspondente."
   ]
  },
  {
   "cell_type": "markdown",
   "metadata": {},
   "source": [
    "## Instalação do PHP\n",
    "---\n",
    "\n",
    "6. Após finalizar o download, acesse o diretório **C:** do seu computador e crie uma pasta chamada **PHP** lá dentro:"
   ]
  },
  {
   "cell_type": "markdown",
   "metadata": {},
   "source": [
    "<div style=\"display: flex; justify-content: center\">\n",
    "    <img src=\"../assets/php-instalacao-01.png\" alt=\"Instalação do PHP\" />\n",
    "</div>"
   ]
  },
  {
   "cell_type": "markdown",
   "metadata": {},
   "source": [
    "<div style=\"display: flex; justify-content: center\">\n",
    "    <img src=\"../assets/php-instalacao-02.png\" alt=\"Instalação PHP\" />\n",
    "</div>"
   ]
  },
  {
   "cell_type": "markdown",
   "metadata": {},
   "source": [
    "7. O arquivo que você baixou da documentação do PHP é um arquivo **.zip**, que deverá ser descompactado dentro dessa nova pasta que acabamos de criar:"
   ]
  },
  {
   "cell_type": "markdown",
   "metadata": {},
   "source": [
    "<div style=\"display: flex; justify-content: center\">\n",
    "    <img src=\"../assets/php-instalacao-03.png\" alt=\"Instalação PHP\" />\n",
    "</div>"
   ]
  },
  {
   "cell_type": "markdown",
   "metadata": {},
   "source": [
    "8. O resultado deverá se parecer com o das duas telas abaixo:"
   ]
  },
  {
   "cell_type": "markdown",
   "metadata": {},
   "source": [
    "<div style=\"display: flex; justify-content: center\">\n",
    "    <img src=\"../assets/php-instalacao-04.png\" alt=\"Instalação PHP\" />\n",
    "</div>"
   ]
  },
  {
   "cell_type": "markdown",
   "metadata": {},
   "source": [
    "<div style=\"display: flex; justify-content: center\">\n",
    "    <img src=\"../assets/php-instalacao-05.png\" alt=\"Instalação PHP\" />\n",
    "</div>"
   ]
  },
  {
   "cell_type": "markdown",
   "metadata": {},
   "source": [
    "9. Agora, dentro da pasta onde está o conteúdo descompactado, procure pelo arquivo **php.ini-development**, e renomeie-o para **php.ini** (mas antes, procure fazer o backup do arquivo, por exemplo: copie e cole no mesmo diretório, e renomeie a cópia para **php.ini-development-old**):"
   ]
  },
  {
   "cell_type": "markdown",
   "metadata": {},
   "source": [
    "<div style=\"display: flex; justify-content: center\">\n",
    "    <img src=\"../assets/php-instalacao-06.png\" alt=\"Instalação PHP\" />\n",
    "</div>"
   ]
  },
  {
   "cell_type": "markdown",
   "metadata": {},
   "source": [
    "<div style=\"display: flex; justify-content: center\">\n",
    "    <img src=\"../assets/php-instalacao-07.png\" alt=\"Instalação PHP\" />\n",
    "</div>"
   ]
  },
  {
   "cell_type": "markdown",
   "metadata": {},
   "source": [
    "## Configurando as variáveis de ambiente\n",
    "---\n",
    "\n",
    "10. O próximo passo agora é adicionar o PHP às variáveis de ambiente do sistema. Acesse Configurações > Sistema > Sobre > Configurações avançadas do sistema > Variáveis de ambiente..., ou simplesmente digite 'variáveis de ambiente' na busca do Windows, e clique no botão **Variáveis de Ambiente** na janela que aparecer. Se não aparecer, só clicar na guia **Avançado** dessa janela:"
   ]
  },
  {
   "cell_type": "markdown",
   "metadata": {},
   "source": [
    "<div style=\"display: flex; justify-content: center\">\n",
    "    <img src=\"../assets/php-instalacao-08.png\" alt=\"Instalação PHP\" />\n",
    "</div>"
   ]
  },
  {
   "cell_type": "markdown",
   "metadata": {},
   "source": [
    "<div style=\"display: flex; justify-content: center\">\n",
    "    <img src=\"../assets/php-instalacao-09.png\" alt=\"Instalação PHP\" />\n",
    "</div>"
   ]
  },
  {
   "cell_type": "markdown",
   "metadata": {},
   "source": [
    "<div style=\"display: flex; justify-content: center\">\n",
    "    <img src=\"../assets/php-instalacao-10.png\" alt=\"Instalação PHP\" />\n",
    "</div>"
   ]
  },
  {
   "cell_type": "markdown",
   "metadata": {},
   "source": [
    "11. Na nova janela que surgir, vá na seção Variáveis do Sistema, e procure pela palavra **Path**. Selecione-a e clique em editar, conforme a figura abaixo:"
   ]
  },
  {
   "cell_type": "markdown",
   "metadata": {},
   "source": [
    "<div style=\"display: flex; justify-content: center\">\n",
    "    <img src=\"../assets/php-instalacao-11.png\" alt=\"Instalação PHP\" />\n",
    "</div>"
   ]
  },
  {
   "cell_type": "markdown",
   "metadata": {},
   "source": [
    "12. Nessa próxima janela, clique no botão **Novo**, e depois digite ou cole o caminho do arquivo **php.ini** no sistema, e ao final, clique no botão **OK**:"
   ]
  },
  {
   "cell_type": "markdown",
   "metadata": {},
   "source": [
    "<div style=\"display: flex; justify-content: center\">\n",
    "    <img src=\"../assets/php-instalacao-12.png\" alt=\"Instalação PHP\" />\n",
    "</div>"
   ]
  },
  {
   "cell_type": "markdown",
   "metadata": {},
   "source": [
    "<div style=\"display: flex; justify-content: center\">\n",
    "    <img src=\"../assets/php-instalacao-13.png\" alt=\"Instalação PHP\" />\n",
    "</div>"
   ]
  },
  {
   "cell_type": "markdown",
   "metadata": {},
   "source": [
    "13. Agora, dê **OK** em todas as janelas, e pronto! O PHP foi instalado com sucesso!"
   ]
  },
  {
   "cell_type": "markdown",
   "metadata": {},
   "source": [
    "## Testando o PHP\n",
    "---\n",
    "\n",
    "14. Após fazer as configurações, abra um terminal e digite `php --version`. Se tudo foi configurado corretamente irá aparecer a versão instalada do PHP:"
   ]
  },
  {
   "cell_type": "markdown",
   "metadata": {},
   "source": [
    "<div style=\"display: flex; justify-content: center\">\n",
    "    <img src=\"../assets/php-instalacao-14.png\" alt=\"Instalação PHP\" />\n",
    "</div>"
   ]
  },
  {
   "cell_type": "markdown",
   "metadata": {},
   "source": [
    "15. E pronto! PHP finalmente configurado. Agora só precisaremos preparar o ambiente de desenvolvimento."
   ]
  },
  {
   "cell_type": "markdown",
   "metadata": {},
   "source": [
    "## Ambiente de Desenvolvimento\n",
    "---\n",
    "\n",
    "Agora é hora de decidir onde você irá escrever seus códigos. Em teste, qualquer editor de textos é o suficiente, mas é mais interessante usarmos um programa específico para editarmos os nossos códigos, já que eles possuem recursos necessários para uma boa e rápida codificação.\n",
    "\n",
    "Embora existam programas excelentes para o PHP, para o nosso tutorial, iremos utilizar o **Visual Studio Code**, também conhecido como **VSCode** (cuidado para não confundir com o programa Visual Studio IDE, que é específico para a linguagem C#). Iremos instalar ele agora para podermos vinculá-lo ao Git, que será o próximo programa a ser instalado depois desse."
   ]
  },
  {
   "cell_type": "markdown",
   "metadata": {},
   "source": [
    "<div style=\"display: flex; justify-content: center\">\n",
    "    <img src=\"../assets/vscode-logo-400x205.png\" alt=\"Visual Studio Code Logo\" />\n",
    "</div>"
   ]
  },
  {
   "cell_type": "markdown",
   "metadata": {},
   "source": [
    "O VSCode permite uma grande liberdade na hora da configuração do ambiente. Isto, aliado à gigantesca quantidade de _plug-ins_ disponíveis para o editor, permite um altíssimo nível de personalização do programa, fazendo com que o desenvolvedor deixe o software com a \"sua cara\". Além disso, podemos adicionar tantos recursos através dos plug-ins que no final o nosso VSCode terá tantos ou até mesmo mais recursos que os concorrentes mais robustos e pagos. Isso tudo sem tirar um único centavo do bolso. Por esses motivos e também por outros que o VSCode é o **programa de desenvolvimento mais usado no mundo**. Tanto comparando com Editores de textos como IDEs."
   ]
  },
  {
   "cell_type": "markdown",
   "metadata": {},
   "source": [
    "### Instalando o VSCode\n",
    "\n",
    "A instalação do VSCode é ainda mais simples:\n",
    "\n",
    "1. Vá até o site de download do VSCode: https://code.visualstudio.com/"
   ]
  },
  {
   "cell_type": "markdown",
   "metadata": {},
   "source": [
    "<div style=\"display: flex; justify-content: center\">\n",
    "    <img src=\"../assets/janela-browser-vscode-download.png\" alt=\"Download do VSCode\" />\n",
    "</div>"
   ]
  },
  {
   "cell_type": "markdown",
   "metadata": {},
   "source": [
    "2. Faça o download normalmente para o seu Sistema Operacional.\n",
    "3. Abra o executável e inicie a instalação normalmente.\n",
    "4. Desta vez, não há nenhum procedimento especial durante a instalação. Apenas prossiga clicando em Next até concluir normalmente a instalação do programa.\n",
    "5. Após finalizar a instalação de todos os programas, para garantir que tudo vai dar certo, reinicie o computador."
   ]
  },
  {
   "cell_type": "markdown",
   "metadata": {},
   "source": [
    "### Configurando o VSCode\n",
    "\n",
    "Após a reinicialização do seu computador, abra o VSCode para começarmos a configuração do programa.\n",
    "\n",
    "**Obs:** não é objetivo desse tutorial ensinar a mexer no VSCode. Isso será ensinado pelo professor em sala de aula. Entretanto serão ensinados como acessar os recursos conforme precisarmos deles durante as aulas seguintes.\n",
    "\n",
    "1. Ao abrir o VSCode pela primeira vez, essa será a tela a ser exibida:"
   ]
  },
  {
   "cell_type": "markdown",
   "metadata": {},
   "source": [
    "<div style=\"display: flex; justify-content: center\">\n",
    "    <img src=\"../assets/janela-vscode.png\" alt=\"Janela do VSCode\" />\n",
    "</div>"
   ]
  },
  {
   "cell_type": "markdown",
   "metadata": {},
   "source": [
    "2. A primeira coisa a se fazer após a instalação é instalar os plug-ins necessários para que possamos trabalhar com PHP no VSCode. Portanto, clique no ícone **Extensões** do lado esquerdo da tela, conforme imagem abaixo:"
   ]
  },
  {
   "cell_type": "markdown",
   "metadata": {},
   "source": [
    "<div style=\"display: flex; justify-content: center\">\n",
    "    <img src=\"../assets/janela-vscode-botao-extensoes.png\" alt=\"Botão Extensões\" />\n",
    "</div>"
   ]
  },
  {
   "cell_type": "markdown",
   "metadata": {},
   "source": [
    "3. Em **Extensões**, ele irá listar as extensões instaladas, e irá sugerir outras. Podemos utilizar também a caixa **Pesquisar Extensões** para encontrar a extensão desejada.\n",
    "4. Começaremos instalando a extensão **Portuguese (Brazil) Language Pack for Visual Studio Code**. Basta digitar pelo seu nome na barra de pesquisa, conforme imagem abaixo:"
   ]
  },
  {
   "cell_type": "markdown",
   "metadata": {},
   "source": [
    "<div style=\"display: flex; justify-content: center\">\n",
    "    <img src=\"../assets/janela-vscode-idioma.png\" alt=\"Extensão do idioma\" />\n",
    "</div>"
   ]
  },
  {
   "cell_type": "markdown",
   "metadata": {},
   "source": [
    "5. Caso a extensão já esteja instalada, irá aparecer ao lado da extensão o desenho de uma engrenagem, indicando que já está instalada. Caso não esteja, no lugar da engrenagem, irá aparecer o botão **Instalar**.\n",
    "6. O VSCode possui diversas extensões que facilitam o desenvolvimento do código PHP. Fica a seu critério escolher suas favoritas e instalá-las.\n",
    "7. Aproveite e instale também um tema do VSCode à sua escolha, para uma melhor personalização. As melhores sugestões estão logo abaixo:\n",
    "\n",
    "- Dracula\n",
    "- Monokai Pro\n",
    "- Night Owl\n",
    "- One Dark Pro\n",
    "- Synthwave 84\n",
    "- PyCharm Theme"
   ]
  },
  {
   "cell_type": "markdown",
   "metadata": {},
   "source": [
    "## Git\n",
    "---\n",
    "\n",
    "O Git é um programa que trabalha com o chamado **versionamento** de código, importantíssimo para o controle das versões do seu programa e também para fins de backup, e para evitar perder trechos de códigos que funcionavam antes de uma determinada funcionalidade do seu sistema ser implementada.\n",
    "\n",
    "### Instalando o Git\n",
    "\n",
    "1. Abra o navegador e vá até o site do git: https://git-scm.com/"
   ]
  },
  {
   "cell_type": "markdown",
   "metadata": {},
   "source": [
    "<div style=\"display: flex; justify-content: center\">\n",
    "    <img src=\"../assets/janela-browser-git-download.png\" alt=\"Download do Git\" />\n",
    "</div>"
   ]
  },
  {
   "cell_type": "markdown",
   "metadata": {},
   "source": [
    "2. Depois, escolha a versão do Git a ser baixada. Escolheremos a versão 64 bits, conforme imagem abaixo, mas lembre-se de que você deverá escolher a versão adequada ao seu SO:"
   ]
  },
  {
   "cell_type": "markdown",
   "metadata": {},
   "source": [
    "<div style=\"display: flex; justify-content: center\">\n",
    "    <img src=\"../assets/janela-browser-git-download-64-bits.png\" alt=\"Download do Git 64 bits\" />\n",
    "</div>"
   ]
  },
  {
   "cell_type": "markdown",
   "metadata": {},
   "source": [
    "3. Mais uma vez, a versão a ser instalada aqui é para Windows. Se estiver usando outro SO, procure saber como fazer as instalações para o seu Sistema Operacional.\n",
    "4. Escolha a versão do seu SO e faça o download.\n",
    "5. Ao término do download, abra o executável e inicie a instalação.\n",
    "6. Prossiga com a instalação até chegar na jenal abaixo:"
   ]
  },
  {
   "cell_type": "markdown",
   "metadata": {},
   "source": [
    "<div style=\"display: flex; justify-content: center\">\n",
    "    <img src=\"../assets/git-isntalacao-1.png\" alt=\"Instalação do Git passo 1\" width=700 />\n",
    "</div>"
   ]
  },
  {
   "cell_type": "markdown",
   "metadata": {},
   "source": [
    "7. Marque **TODAS** as caixinhas de seleção e clique em ***Next***.\n",
    "8. Vá dando ***Next*** até chegar no passo da imagem abaixo:"
   ]
  },
  {
   "cell_type": "markdown",
   "metadata": {},
   "source": [
    "<div style=\"display: flex; justify-content: center\">\n",
    "    <img src=\"../assets/git-isntalacao-2.png\" alt=\"Instalação do Git passo 2\" width=700 />\n",
    "</div>"
   ]
  },
  {
   "cell_type": "markdown",
   "metadata": {},
   "source": [
    "9. Como utilizaremos o **VSCode** para a codificação, trocaremos a opção **Use Vim...** para uma opção que começe com **Use VSCode...** ou então **Use Visual Studio Code...**.\n",
    "10. Vá prosseguindo com a instalação até o passo mostrado na imagem abaixo:"
   ]
  },
  {
   "cell_type": "markdown",
   "metadata": {},
   "source": [
    "<div style=\"display: flex; justify-content: center\">\n",
    "    <img src=\"../assets/git-isntalacao-3.png\" alt=\"Instalação do Git passo 3\" width=700 />\n",
    "</div>"
   ]
  },
  {
   "cell_type": "markdown",
   "metadata": {},
   "source": [
    "11. Ao chegar nesta tela, deixe marcado a opção **Git from the commando line and also from 3rd-party software**. Isso fará com que os comandos do Git sejam lidos também pelo VSCode."
   ]
  },
  {
   "cell_type": "markdown",
   "metadata": {},
   "source": [
    "E é isso. Na próxima aula iremos criar o nosso primeiro projeto."
   ]
  }
 ],
 "metadata": {
  "language_info": {
   "name": "python"
  }
 },
 "nbformat": 4,
 "nbformat_minor": 2
}
