{
 "cells": [
  {
   "cell_type": "markdown",
   "metadata": {},
   "source": [
    "# **Funções**\n",
    "---"
   ]
  },
  {
   "cell_type": "markdown",
   "metadata": {},
   "source": [
    "## Requisitos da Aula\n",
    "\n",
    "- Variáveis\n",
    "- Entrada de Dados\n",
    "- Operadores\n",
    "- Estruturas de Decisão\n",
    "- Laços de Repetição\n",
    "- Arrays\n",
    "\n",
    "---"
   ]
  },
  {
   "cell_type": "markdown",
   "metadata": {},
   "source": [
    "Até o momento, trabalhamos com pequenos algoritmos. Mas normalmente o que acontece quando criamos um programa é que esses algoritmos fiquem tão grandes que fica complicado entendê-los e dar manutenção, mesmo para quem os criou.\n",
    "\n",
    "Quando isso acontece, o código vira um verdadeiro monstro, onde o dev tem que percorrer o código linha por linha para conseguir achar um erro, caso ele exista, e mesmo assim é capaz de não conseguir achar. Pior ainda: mesmo que ache, não é garantia de que consiga corrigir.\n",
    "\n",
    "Para evitar isso, é importante fragmentar o código em vários mini-blocos de programação que serão chamados e executados pelo algoritmo principal quando for necessário. Isso não só facilita o entendimento do código-fonte como torna mais fácil futuras correções.\n",
    "\n",
    "É nesse cenário que entram as **funções**. Funções são exatamente isso: pequenos blocos de programação que podem ou não receber valores, realiza um determinado processamento, e a partir daí podem ou não retornar valores para serem utilizados no algoritmo principal do programa. Existem 4 tipos de funções:\n",
    "\n",
    "- Sem parâmetros e sem retorno.\n",
    "- Com parâmetros e sem retorno.\n",
    "- Sem parâmetros e com retorno.\n",
    "- Com parâmetros e com retorno.\n",
    "\n",
    "Mas antes de explicar sobre cada uma delas, vamos conhecer mais a fundo como funciona uma função."
   ]
  },
  {
   "cell_type": "markdown",
   "metadata": {},
   "source": [
    "## Separando o código em funções\n",
    "---\n",
    "\n",
    "Uma função em PHP possui a seguinte estrutura:\n",
    "\n",
    "~~~php\n",
    "function nomeFuncao() {\n",
    "    // código-fonte da função\n",
    "}\n",
    "~~~\n",
    "\n",
    "Onde `function` inicia a função, `nomeFuncao` é o nome que você deseja que a função seja chamada dentro do programa, o parênteses `()` indica os parâmetros que a função deverá receber (os parênteses devem existir mesmo que a função não possua parâmetros), e as chaves que vão conter o algoritmo.\n",
    "\n",
    "Para chamar a função dentro do algoritmo principal, basta chamar o nome da função com o parênteses:\n",
    "\n",
    "`nomeFuncao();`\n",
    "\n",
    "Suponha que o cliente seja uma empresa queira um programa que quando determinadas operações sejam executadas, o programa exiba uma mensagem com o nome da empresa seguida do texto **agradeçe a sua preferência!**\n",
    "\n",
    "Vamos inicialmente criar um simples program que exiba essa mensagem:"
   ]
  },
  {
   "cell_type": "markdown",
   "metadata": {},
   "source": [
    "#### Programa 01\n",
    "\n",
    "##### index.php\n",
    "\n",
    "~~~php\n",
    "<?php\n",
    "    // texto de exibição\n",
    "    echo \"A Cyberdyne Systems agradeçe a sua preferência!\";\n",
    "?>\n",
    "~~~"
   ]
  },
  {
   "cell_type": "markdown",
   "metadata": {},
   "source": [
    "Até aí, nada demais. O problema é que esse não é o programa completo, e a aplicação deverá exibir essa mensagem sempre que uma determinada operação por parte do usuário for concluída, o que, em teste, irá exigir que o dev copie e cole essa mensagem sempre na última linha de cada operação. Vai dar um grande trabalho, sem falar que existe a possibilidade da mensagem dar erro em alguma dessas aparições, seja porque o dev esqueceu de colocar o `;` ou de fechar as aspas. Se isso acontecer, o desenvolvedor terá que procurar a linha de código do problema, o que irá demorar bastante e atrasar a produção da empresa.\n",
    "\n",
    "Acontece que esse problema pode ser resolvido de forma muito mais produtiva com uma função. Observe o mesmo programa reescrito com função:"
   ]
  },
  {
   "cell_type": "markdown",
   "metadata": {},
   "source": [
    "##### index.php\n",
    "\n",
    "~~~php\n",
    "<?php\n",
    "    // função php\n",
    "    function msg() {\n",
    "        echo \"A Cyberdyne Systems agradeçe a sua preferência!\";\n",
    "    }\n",
    "\n",
    "    // executando a função no programa\n",
    "    msg();\n",
    "?>\n",
    "~~~"
   ]
  },
  {
   "cell_type": "markdown",
   "metadata": {},
   "source": [
    "### Explicando o código-fonte\n",
    "\n",
    "Suponha que uma outra empresa, por exemplo, a Umbrella Corporation, queira usar essa mesma mensagem em um programa parecido. Se tivéssemos feito na primeira forma, e o programa tivesse, por exemplo, 20 funcionalidades onde essa mensagem deveria ser exibida, teríamos que trocar o nome da empresa na mensagem 20 vezes.\n",
    "\n",
    "No segundo exemplo não. Seria necessário trocar o nome da empresa apenas uma vez: dentro da função. Além do mais, o nome da função é menor que a mensagem em si, o que torna a digitação do nome da função muito mais prática.\n",
    "\n",
    "Nesse exemplo, a função não recebe nenhum parâmetro, nem retorna nenhum valor. Ele apenas executa uma instrução."
   ]
  },
  {
   "cell_type": "markdown",
   "metadata": {},
   "source": [
    "## Parâmetros\n",
    "---\n",
    "\n",
    "Vamos agora criar um novo programa, que será bastante parecido com o anterior. A diferença é que agora o cliente quer personalizar a frase, adicionando ela mesma o nome da empresa que ela desejar.\n",
    "\n",
    "Isso só irá funcionar se a função receber o nome da empresa como valor de parâmetro. Para isso, precisaremos antes de um formulário:"
   ]
  },
  {
   "cell_type": "markdown",
   "metadata": {
    "vscode": {
     "languageId": "html"
    }
   },
   "source": [
    "#### Programa 02\n",
    "\n",
    "##### index.html\n",
    "\n",
    "~~~html\n",
    "<!DOCTYPE html>\n",
    "<html lang=\"pt-br\">\n",
    "    <head>\n",
    "        <meta charset=\"UTF-8\">\n",
    "        <meta name=\"viewport\" content=\"width=device-width, initial-scale=1.0\">\n",
    "        <title>Document</title>\n",
    "    </head>\n",
    "    <body>\n",
    "        <form action=\"result.php\" method=\"post\">\n",
    "            <label for=\"empresa\">Informe o nome da empresa que deseja colocar na mensagem:</label>\n",
    "            <input type=\"text\" name=\"empresa\" id=\"empresa\">\n",
    "            <button type=\"submit\">Enviar</button>\n",
    "        </form>\n",
    "    </body>\n",
    "</html>\n",
    "~~~"
   ]
  },
  {
   "cell_type": "markdown",
   "metadata": {},
   "source": [
    "Agora vamos para o Back-End:"
   ]
  },
  {
   "cell_type": "markdown",
   "metadata": {},
   "source": [
    "##### result.php\n",
    "\n",
    "~~~php\n",
    "<?php\n",
    "    // função\n",
    "    function msg($empresa) {\n",
    "        echo $empresa . \" agradece a sua preferência!\";\n",
    "    }\n",
    "\n",
    "    // declaração de variável\n",
    "    $empresa = $_POST[\"empresa\"];\n",
    "\n",
    "    // execução da função\n",
    "    msg($empresa);\n",
    "?>\n",
    "~~~"
   ]
  },
  {
   "cell_type": "markdown",
   "metadata": {},
   "source": [
    "### Explicando o código-fonte\n",
    "\n",
    "Aqui, o usuário se depara com um formulário de preenchimento, onde ele deverá informar o nome da empresa que deseja estampar a frase. Esse valor é enviado via **POST** para o back-end da aplicação e armazenada em uma variável, que por sua vez é utilizada como parâmetro de uma função.\n",
    "\n",
    "Dessa forma, o valor da variável pode ser utilizada dentro da função, mas isso só acontece porque a função foi programada assim. Ela exige obrigatoriamente a presença de um valor para que possa ser executada. Dessa forma, quando a função é chamada dentro do algoritmo, um valor, que nesse caso é a variável, é repassada para a função, para que ela possa executar sua instrução com sucesso."
   ]
  },
  {
   "cell_type": "markdown",
   "metadata": {},
   "source": [
    "## Retorno\n",
    "---\n",
    "\n",
    "O programa anterior pode ser reescrito de outra forma: ao invés da função executar o comando `echo` para exibir a mensagem, ele pode retornar o texto como um valor a ser usado futuramente, seja por um comando ou por uma variável. Essa forma costuma trazer mais benefícios, e por isso mesmo, é mais utilizada.\n",
    "\n",
    "Vamos reescrever o programa anterior em um **Programa 03**, mantendo o mesmo front-end e trocando apenas o back-end. Veja:"
   ]
  },
  {
   "cell_type": "markdown",
   "metadata": {},
   "source": [
    "#### Programa 03\n",
    "\n",
    "##### result.php\n",
    "\n",
    "~~~php\n",
    "<?php\n",
    "    // função\n",
    "    function msg($empresa) {\n",
    "        return $empresa . \" agradece a sua preferência!\";\n",
    "    }\n",
    "\n",
    "    // declaração de variável\n",
    "    $empresa = $_POST[\"empresa\"];\n",
    "\n",
    "    // exibindo a mensagem da função na saída de dados\n",
    "    echo msg($empresa);\n",
    "?>\n",
    "~~~"
   ]
  },
  {
   "cell_type": "markdown",
   "metadata": {},
   "source": [
    "**Obs:** diferente das linguagens de programação tipadas, aqui é possível concatenar *strings* com outros tipos de dados no retorno da função, embora o valor final a ser retornado seja uma string nesse caso. Se precisar retornar um valor inteiro ou ponto flutuante, evite concatenar o valor numa string em um retorno de função.\n",
    "\n",
    "Vamos pegar um outro exemplo para uma melhor fixação do conteúdo. Vamos criar um outro programa. Desta vez, o cliente precisa de uma aplicação para calcular o valor de um terreno com base em sua área. Vamos partir do fato de que o lote em questão está vazio, sem construções, e que ele irá vender esse lote. O usuário precisará informar três valores:\n",
    "\n",
    "- Largura do terreno;\n",
    "- Comprimento do terreno;\n",
    "- Valor do metro quadrado na localidade do terreno.\n",
    "\n",
    "Começaremos pelo front-end:"
   ]
  },
  {
   "cell_type": "markdown",
   "metadata": {
    "vscode": {
     "languageId": "html"
    }
   },
   "source": [
    "#### Programa 04\n",
    "\n",
    "##### index.html\n",
    "\n",
    "~~~html\n",
    "<!DOCTYPE html>\n",
    "<html lang=\"pt-br\">\n",
    "    <head>\n",
    "        <meta charset=\"UTF-8\">\n",
    "        <meta name=\"viewport\" content=\"width=device-width, initial-scale=1.0\">\n",
    "        <title>Document</title>\n",
    "    </head>\n",
    "    <body>\n",
    "        <form action=\"result.php\" method=\"post\">\n",
    "            <label for=\"valorMetro\">Informe o valor do metro quadrado:</label>\n",
    "            <input type=\"text\" id=\"valorMetro\" name=\"valorMetro\">\n",
    "            <br>\n",
    "            <br>\n",
    "            <label for=\"largura\">Informe o tamanho da largura do lote em metros:</label>\n",
    "            <input type=\"text\" id=\"largura\" name=\"largura\">\n",
    "            <br>\n",
    "            <br>\n",
    "            <label for=\"comprimento\">Informe o tamanho do comprimento do lote em metros:</label>\n",
    "            <input type=\"text\" id=\"comprimento\" name=\"comprimento\">\n",
    "            <br>\n",
    "            <br>\n",
    "            <button type=\"submit\" id=\"calcular\">Calcular</button>\n",
    "        </form>\n",
    "    </body>\n",
    "</html>\n",
    "~~~"
   ]
  },
  {
   "cell_type": "markdown",
   "metadata": {},
   "source": [
    "E depois iremos para o back-end:"
   ]
  },
  {
   "cell_type": "markdown",
   "metadata": {},
   "source": [
    "##### result.php\n",
    "\n",
    "~~~php\n",
    "<?php\n",
    "    // função\n",
    "    function lotePreco($valorMetro, $largura, $comprimento) {\n",
    "        // calcula a área do lote\n",
    "        $area = $largura*$comprimento;\n",
    "\n",
    "        // calcula o preço do lote e retorna\n",
    "        return $valorMetro*$area;\n",
    "    }\n",
    "\n",
    "    // declaração de variáveis\n",
    "    $valorMetro = $_POST[\"valorMetro\"];\n",
    "    $largura = $_POST[\"largura\"];\n",
    "    $comprimento = $_POST[\"comprimento\"];\n",
    "\n",
    "    // exibe o valor do terreno\n",
    "    echo \"<b>Valor do terreno:</b> R$ \" . lotePreco($valorMetro, $largura, $comrpimento) . \".\";\n",
    "?>\n",
    "~~~"
   ]
  },
  {
   "cell_type": "markdown",
   "metadata": {},
   "source": [
    "## round\n",
    "---\n",
    "\n",
    "O `round()` é uma função que permite arredondar números. Particularmente útil quando se faz cálculos com pontos flutuantes com muitas casas decimais. Exemplo: suponha que eu tenha que criar um programa que calcule o IMC do usuário. Sua estrutura é:\n",
    "\n",
    "`round(valor, numero_de_casas_decimais)`\n",
    "\n",
    "O IMC é calculado com base no peso do usuário, dividido pela altura ao quadrado do mesmo. Portanto, precisaremos criar um front-end para receber essas informações:"
   ]
  },
  {
   "cell_type": "markdown",
   "metadata": {
    "vscode": {
     "languageId": "html"
    }
   },
   "source": [
    "#### Programa 05\n",
    "\n",
    "##### index.html\n",
    "\n",
    "~~~html\n",
    "<!DOCTYPE html>\n",
    "<html lang=\"pt-br\">\n",
    "    <head>\n",
    "        <meta charset=\"UTF-8\">\n",
    "        <meta name=\"viewport\" content=\"width=device-width, initial-scale=1.0\">\n",
    "        <title>Document</title>\n",
    "    </head>\n",
    "    <body>\n",
    "        <form action=\"result.php\" method=\"post\">\n",
    "            <label for=\"peso\">Peso em kg:</label><br>\n",
    "            <input type=\"text\" name=\"peso\" id=\"peso\">\n",
    "            <br>\n",
    "            <br>\n",
    "            <label for=\"altura\">Altura em metros:</label><br>\n",
    "            <input type=\"text\" name=\"altura\" id=\"altura\">\n",
    "            <br>\n",
    "            <br>\n",
    "            <button type=\"submit\">Calcular</button>\n",
    "        </form>\n",
    "    </body>\n",
    "</html>\n",
    "~~~"
   ]
  },
  {
   "cell_type": "markdown",
   "metadata": {},
   "source": [
    "Agora, criaremos o back-end para calcular o IMC:"
   ]
  },
  {
   "cell_type": "markdown",
   "metadata": {},
   "source": [
    "##### result.php\n",
    "\n",
    "~~~php\n",
    "<?php\n",
    "    // função que calcula o imc\n",
    "    function imc($peso, $altura) {\n",
    "        return $peso/$altura**2;\n",
    "    }\n",
    "\n",
    "    // declaração de variáveis e conversão da vírgula para ponto\n",
    "    $peso = str_replace(\",\", \".\", $_POST[\"peso\"]);\n",
    "    $altura = str_replace(\",\", \".\", $_POST[\"altura\"]);\n",
    "\n",
    "    // exibe o valor do imc do usuário\n",
    "    echo \"O valor do seu IMC é: \" . imc($peso, $altura) . \".\";\n",
    "?>\n",
    "~~~"
   ]
  },
  {
   "cell_type": "markdown",
   "metadata": {},
   "source": [
    "Ao executar o programa, é exibido um valor com muitas casas decimais."
   ]
  },
  {
   "cell_type": "markdown",
   "metadata": {},
   "source": [
    "Vamos diminuir o número de casas decimais para dois com `round()`:"
   ]
  },
  {
   "cell_type": "markdown",
   "metadata": {},
   "source": [
    "##### result.php\n",
    "\n",
    "~~~php\n",
    "<?php\n",
    "    // função que calcula o imc\n",
    "    function imc($peso, $altura) {\n",
    "        return $peso/$altura**2;\n",
    "    }\n",
    "\n",
    "    // declaração de variáveis e conversão da vírgula para ponto\n",
    "    $peso = str_replace(\",\", \".\", $_POST[\"peso\"]);\n",
    "    $altura = str_replace(\",\", \".\", $_POST[\"altura\"]);\n",
    "\n",
    "    // exibe o valor do imc do usuário e arredonda o valor\n",
    "    echo \"O valor do seu IMC é: \" . round(imc($peso, $altura), 2) . \".\";\n",
    "?>\n",
    "~~~"
   ]
  },
  {
   "cell_type": "markdown",
   "metadata": {},
   "source": [
    "## Função recursiva\n",
    "---\n",
    "\n",
    "Você talvez já deve ter visto o filme **A Origem** (no original ***Inception***), dirigido por Christopher Nolan, com Leonardo DiCarpio, onde o protagonista precisa entrar em um sonho dentro de outro sonho...dentro de outro sonho para implementar uma ideia na mente de um dos personagens do filme (o que ele consegue só depois de entrar no limbo, que é um sonho dentro do outro sonho dentro do outro sonho dentro do sonho original). O que acontece lá pode ser descrito no mundo da programação como uma **Recursão**, ou ainda **Recursividade**."
   ]
  },
  {
   "cell_type": "markdown",
   "metadata": {},
   "source": [
    "<div style=\"display: flex; justify-content: center\">\n",
    "    <img src=\"../assets/inception-cartaz.png\" alt=\"Cartaz do filme Inception\" />\n",
    "</div>\n",
    "<div style=\"display: flex; justify-content: center\">\n",
    "    <span>Filme Inception</span>\n",
    "</div>"
   ]
  },
  {
   "cell_type": "markdown",
   "metadata": {},
   "source": [
    "Uma função recursiva é nada mais do que uma função que chama a si mesma quando executada. Assim, toda vez que essa função é executada, acaba sendo executada por ela mesma de novo, e uma vez que ela é executada por ela mesma, acaba executando ela mesma mais uma vez, e de novo, e de novo, e de novo....uma dentro da outra. Ela é utilizada para resolver problemas que podem ser divididos em subproblemas menores e idênticos ao problema original. A recursão é uma técnica poderosa que permite a resolução elegante de problemas complexos.\n",
    "\n",
    "As funções recursivas são extremamente difíceis de entender e de aplicar, já que elas devem convergir para o caso base em algum momento, caso contrário, pode acabar executando um ***loop infinito***, consumindo 100% da CPU e da RAM, e travando seu PC. Portanto, é essencial que a função seja projetada de forma cuidadosa, garantindo que a recursão seja encerrada corretamente."
   ]
  },
  {
   "cell_type": "markdown",
   "metadata": {},
   "source": [
    "<div style=\"display: flex; justify-content: center\">\n",
    "    <img src=\"../assets/recursao.png\" alt=\"Recursão\" />\n",
    "</div>\n",
    "<div style=\"display: flex; justify-content: center\">\n",
    "    <span>Olha a recursão aí na imagem.....</span>\n",
    "</div>"
   ]
  },
  {
   "cell_type": "markdown",
   "metadata": {},
   "source": [
    "### Vantagens\n",
    "\n",
    "- **Clareza e legibilidade:** em alguns casos, a implementação de um algoritmo recursivo pode ser mais clara e legível do que uma solução iterativa. Isso ocorre especialmente quando o problema pode ser naturalmente dividido em subproblemas menores.\n",
    "- **Solução elegante:** a recursão permite a resolução de problemas complexos de forma elegante, utilizando a própria definição do problema para resolvê-lo.\n",
    "- **Reutilização de código:** a função recursiva em Python pode ser reutilizada em diferentes contextos, desde que o problema em questão possa ser dividido em subproblemas menores.\n",
    "\n",
    "### Desvantagens\n",
    "\n",
    "- **Consumo de recursos:** a recursão pode consumir mais recursos do que uma solução iterativa, devido à pilha de chamadas que é criada a cada chamada recursiva. Isso pode levar a problemas de desempenho e até mesmo estourar a pilha de execução em casos extremos.\n",
    "- **Dificuldade de depuração:** a depuração de funções recursivas pode ser mais complexa do que a depuração de soluções iterativas, pois é necessário acompanhar o fluxo de execução em cada chamada recursiva.\n",
    "- **Possibilidade de loop infinito:** se a função recursiva não for projetada corretamente, pode ocorrer um loop infinito, o que resultará em travamento do programa.\n",
    "\n",
    "Apesar das desvantagens, o uso de funções recursivas em Python pode ser extremamente útil quando aplicado corretamente. Com a compreensão adequada do problema e a implementação cuidadosa da recursão, é possível criar algoritmos poderosos e eficientes.\n",
    "\n",
    "Um excelente exemplo de uso de uma função recursiva é o cálculo de um fatorial. Veja o exemplo abaixo:"
   ]
  },
  {
   "cell_type": "markdown",
   "metadata": {
    "vscode": {
     "languageId": "html"
    }
   },
   "source": [
    "#### Programa 06\n",
    "\n",
    "##### index.html\n",
    "\n",
    "~~~html\n",
    "<!DOCTYPE html>\n",
    "<html lang=\"pt-br\">\n",
    "    <head>\n",
    "        <meta charset=\"UTF-8\">\n",
    "        <meta name=\"viewport\" content=\"width=device-width, initial-scale=1.0\">\n",
    "        <title>Document</title>\n",
    "    </head>\n",
    "    <body>\n",
    "        <form action=\"result.php\" method=\"post\">\n",
    "            <label for=\"numero\">Digite um número:</label>\n",
    "            <input type=\"number\" name=\"numero\" id=\"numero\">\n",
    "            <br>\n",
    "            <br>\n",
    "            <button type=\"submit\">Calcular</button>\n",
    "        </form>\n",
    "    </body>\n",
    "</html>\n",
    "~~~"
   ]
  },
  {
   "cell_type": "markdown",
   "metadata": {},
   "source": [
    "##### result.php\n",
    "\n",
    "~~~php\n",
    "<?php\n",
    "    // função recursiva\n",
    "    function fatorial($numero) {\n",
    "        return $numero == 0 ? 1 : $numero*fatorial($numero-1);\n",
    "    }\n",
    "\n",
    "    // declaração de variável\n",
    "    $numero = $_POST[\"numero\"];\n",
    "\n",
    "    // exibe resultado na tela\n",
    "    echo \"O resultado do fatorial de \" . $numero . \" é \" . fatorial($numero);\n",
    "?>\n",
    "~~~"
   ]
  }
 ],
 "metadata": {
  "language_info": {
   "name": "python"
  }
 },
 "nbformat": 4,
 "nbformat_minor": 2
}
