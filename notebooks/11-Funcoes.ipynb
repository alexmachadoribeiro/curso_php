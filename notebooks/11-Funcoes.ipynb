{
 "cells": [
  {
   "cell_type": "markdown",
   "metadata": {},
   "source": [
    "# **Funções**\n",
    "---"
   ]
  },
  {
   "cell_type": "markdown",
   "metadata": {},
   "source": [
    "## Requisitos da Aula\n",
    "\n",
    "- Variáveis\n",
    "- Entrada de Dados\n",
    "- Operadores\n",
    "- Estruturas de Decisão\n",
    "- Laços de Repetição\n",
    "- Arrays\n",
    "\n",
    "---"
   ]
  },
  {
   "cell_type": "markdown",
   "metadata": {},
   "source": [
    "Até o momento, trabalhamos com pequenos algoritmos. Mas normalmente o que acontece quando criamos um programa é que esses algoritmos fiquem tão grandes que fica complicado entendê-los e dar manutenção, mesmo para quem os criou.\n",
    "\n",
    "Quando isso acontece, o código vira um verdadeiro monstro, onde o dev tem que percorrer o código linha por linha para conseguir achar um erro, caso ele exista, e mesmo assim é capaz de não conseguir achar. Pior ainda: mesmo que ache, não é garantia de que consiga corrigir.\n",
    "\n",
    "Para evitar isso, é importante fragmentar o código em vários mini-blocos de programação que serão chamados e executados pelo algoritmo principal quando for necessário. Isso não só facilita o entendimento do código-fonte como torna mais fácil futuras correções.\n",
    "\n",
    "É nesse cenário que entram as **funções**. Funções são exatamente isso: pequenos blocos de programação que podem ou não receber valores, realiza um determinado processamento, e a partir daí podem ou não retornar valores para serem utilizados no algoritmo principal do programa. Existem 4 tipos de funções:\n",
    "\n",
    "- Sem parâmetros e sem retorno.\n",
    "- Com parâmetros e sem retorno.\n",
    "- Sem parâmetros e com retorno.\n",
    "- Com parâmetros e com retorno.\n",
    "\n",
    "Mas antes de explicar sobre cada uma delas, vamos conhecer mais a fundo como funciona uma função."
   ]
  },
  {
   "cell_type": "markdown",
   "metadata": {},
   "source": [
    "## Separando o código em funções\n",
    "---\n",
    "\n",
    "Uma função em PHP possui a seguinte estrutura:\n",
    "\n",
    "~~~php\n",
    "function nomeFuncao() {\n",
    "    // código-fonte da função\n",
    "}\n",
    "~~~\n",
    "\n",
    "Onde `function` inicia a função, `nomeFuncao` é o nome que você deseja que a função seja chamada dentro do programa, o parênteses `()` indica os parâmetros que a função deverá receber (os parênteses devem existir mesmo que a função não possua parâmetros), e as chaves que vão conter o algoritmo.\n",
    "\n",
    "Para chamar a função dentro do algoritmo principal, basta chamar o nome da função com o parênteses:\n",
    "\n",
    "`nomeFuncao();`\n",
    "\n",
    "Suponha que o cliente seja uma empresa queira um programa que quando determinadas operações sejam executadas, o programa exiba uma mensagem com o nome da empresa seguida do texto **agradeçe a sua preferência!**\n",
    "\n",
    "Vamos inicialmente criar um simples program que exiba essa mensagem:"
   ]
  },
  {
   "cell_type": "markdown",
   "metadata": {},
   "source": [
    "#### Programa 01\n",
    "\n",
    "##### index.php\n",
    "\n",
    "~~~php\n",
    "<?php\n",
    "    // texto de exibição\n",
    "    echo \"A Cyberdyne Systems agradeçe a sua preferência!\";\n",
    "?>\n",
    "~~~"
   ]
  },
  {
   "cell_type": "markdown",
   "metadata": {},
   "source": [
    "Até aí, nada demais. O problema é que esse não é o programa completo, e a aplicação deverá exibir essa mensagem sempre que uma determinada operação por parte do usuário for concluída, o que, em teste, irá exigir que o dev copie e cole essa mensagem sempre na última linha de cada operação. Vai dar um grande trabalho, sem falar que existe a possibilidade da mensagem dar erro em alguma dessas aparições, seja porque o dev esqueceu de colocar o `;` ou de fechar as aspas. Se isso acontecer, o desenvolvedor terá que procurar a linha de código do problema, o que irá demorar bastante e atrasar a produção da empresa.\n",
    "\n",
    "Acontece que esse problema pode ser resolvido de forma muito mais produtiva com uma função. Observe o mesmo programa reescrito com função:"
   ]
  },
  {
   "cell_type": "markdown",
   "metadata": {},
   "source": [
    "##### index.php\n",
    "\n",
    "~~~php\n",
    "<?php\n",
    "    // função php\n",
    "    function msg() {\n",
    "        echo \"A Cyberdyne Systems agradeçe a sua preferência!\";\n",
    "    }\n",
    "\n",
    "    // executando a função no programa\n",
    "    msg();\n",
    "?>\n",
    "~~~"
   ]
  },
  {
   "cell_type": "markdown",
   "metadata": {},
   "source": [
    "### Explicando o código-fonte\n",
    "\n",
    "Suponha que uma outra empresa, por exemplo, a Umbrella Corporation, queira usar essa mesma mensagem em um programa parecido. Se tivéssemos feito na primeira forma, e o programa tivesse, por exemplo, 20 funcionalidades onde essa mensagem deveria ser exibida, teríamos que trocar o nome da empresa na mensagem 20 vezes.\n",
    "\n",
    "No segundo exemplo não. Seria necessário trocar o nome da empresa apenas uma vez: dentro da função. Além do mais, o nome da função é menor que a mensagem em si, o que torna a digitação do nome da função muito mais prática.\n",
    "\n",
    "Nesse exemplo, a função não recebe nenhum parâmetro, nem retorna nenhum valor. Ele apenas executa uma instrução."
   ]
  },
  {
   "cell_type": "markdown",
   "metadata": {},
   "source": [
    "## Parâmetros\n",
    "---\n",
    "\n",
    "Vamos agora criar um novo programa, que será bastante parecido com o anterior. A diferença é que agora o cliente quer personalizar a frase, adicionando ela mesma o nome da empresa que ela desejar.\n",
    "\n",
    "Isso só irá funcionar se a função receber o nome da empresa como valor de parâmetro. Para isso, precisaremos antes de um formulário:"
   ]
  },
  {
   "cell_type": "markdown",
   "metadata": {
    "vscode": {
     "languageId": "html"
    }
   },
   "source": [
    "#### Programa 02\n",
    "\n",
    "##### index.html\n",
    "\n",
    "~~~html\n",
    "<!DOCTYPE html>\n",
    "<html lang=\"pt-br\">\n",
    "    <head>\n",
    "        <meta charset=\"UTF-8\">\n",
    "        <meta name=\"viewport\" content=\"width=device-width, initial-scale=1.0\">\n",
    "        <title>Document</title>\n",
    "    </head>\n",
    "    <body>\n",
    "        <form action=\"result.php\" method=\"post\">\n",
    "            <label for=\"empresa\">Informe o nome da empresa que deseja colocar na mensagem:</label>\n",
    "            <input type=\"text\" name=\"empresa\" id=\"empresa\">\n",
    "            <button type=\"submit\">Enviar</button>\n",
    "        </form>\n",
    "    </body>\n",
    "</html>\n",
    "~~~"
   ]
  },
  {
   "cell_type": "markdown",
   "metadata": {},
   "source": [
    "Agora vamos para o Back-End:"
   ]
  },
  {
   "cell_type": "markdown",
   "metadata": {},
   "source": [
    "##### result.php\n",
    "\n",
    "~~~php\n",
    "<?php\n",
    "    // função\n",
    "    function msg($empresa) {\n",
    "        echo $empresa . \" agradece a sua preferência!\";\n",
    "    }\n",
    "\n",
    "    // declaração de variável\n",
    "    $empresa = $_POST[\"empresa\"];\n",
    "\n",
    "    // execução da função\n",
    "    msg($empresa);\n",
    "?>\n",
    "~~~"
   ]
  },
  {
   "cell_type": "markdown",
   "metadata": {},
   "source": [
    "### Explicando o código-fonte\n",
    "\n",
    "Aqui, o usuário se depara com um formulário de preenchimento, onde ele deverá informar o nome da empresa que deseja estampar a frase. Esse valor é enviado via **POST** para o back-end da aplicação e armazenada em uma variável, que por sua vez é utilizada como parâmetro de uma função.\n",
    "\n",
    "Dessa forma, o valor da variável pode ser utilizada dentro da função, mas isso só acontece porque a função foi programada assim. Ela exige obrigatoriamente a presença de um valor para que possa ser executada. Dessa forma, quando a função é chamada dentro do algoritmo, um valor, que nesse caso é a variável, é repassada para a função, para que ela possa executar sua instrução com sucesso."
   ]
  },
  {
   "cell_type": "markdown",
   "metadata": {},
   "source": [
    "## Retorno\n",
    "---\n",
    "\n",
    "Agora vamos fazer diferente, com outro exemplo: precisamos agora de um programa que possa retornar o valor do **π** (pi) toda vez que precisarmos. Como sabemos, o valor do **pi** é **3,14159265358979323846**, e é utilizado sempre que se realiza cálculos com circunferências. Logo, seria interessante criar uma função para retornar esse valor, já que ele é muito grande, e geralmente costuma-se utilizar o seu valor aproximado de 3,14:\n",
    "\n",
    "#### Programa 03\n",
    "\n",
    "##### result.php\n",
    "\n",
    "~~~php\n",
    "<?php\n",
    "    // função\n",
    "    function pi() {\n",
    "        return 3,14159265358979323846;\n",
    "    }\n",
    "?>\n",
    "~~~"
   ]
  }
 ],
 "metadata": {
  "language_info": {
   "name": "python"
  }
 },
 "nbformat": 4,
 "nbformat_minor": 2
}
